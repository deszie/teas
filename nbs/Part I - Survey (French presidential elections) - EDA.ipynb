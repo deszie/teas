{
 "cells": [
  {
   "cell_type": "markdown",
   "metadata": {},
   "source": [
    "# Exploratory data analysis : French Second Round election 2017"
   ]
  },
  {
   "cell_type": "markdown",
   "metadata": {},
   "source": [
    "** Introduction: **\n",
    "\n",
    "Refer to the readme file on the repo homepage for the background. This notebook explores my proprietary survey on ~1000 youth survey respondents in France to answer the question of where first round votes for neither Macron nor Le Pen were likely to go. \n",
    "\n",
    "We find that the data provides support for the hypothesis that a Macron victory is more likely, as young voters who were 'on the fence' in the first round are more likely to switch to Macron than Le Pen. Further, those who think that Le Pen is going to win are more positive on her victory than those who think Macron is likely to win. Perhaps they are more likely to be 'realists'. \n",
    "\n",
    "The second notebook in this series looks at some of the textual data generated. \n",
    "\n",
    "#### Steps:\n",
    "1) Pre-upload: download csv file from SurveyMonkey and **anonymize data** by deleting IP and email information (in seperate private notebook). \n",
    "\n",
    "2) Simple cleaning the data, renaming axes, dropping unnecessary columns\n",
    "\n",
    "3) Run descriptive statistics on the data including cross-tabs. \n"
   ]
  },
  {
   "cell_type": "markdown",
   "metadata": {},
   "source": [
    "----------------"
   ]
  },
  {
   "cell_type": "markdown",
   "metadata": {},
   "source": [
    "## Imports"
   ]
  },
  {
   "cell_type": "code",
   "execution_count": 204,
   "metadata": {
    "collapsed": false
   },
   "outputs": [],
   "source": [
    "import pandas as pd \n",
    "pd.set_option('display.max_columns', 300)\n",
    "import matplotlib.pyplot as plt\n",
    "import numpy as np\n",
    "import seaborn as sns\n",
    "%matplotlib inline\n",
    "from statsmodels.graphics.mosaicplot import mosaic\n"
   ]
  },
  {
   "cell_type": "markdown",
   "metadata": {},
   "source": [
    "## Load Data & explore"
   ]
  },
  {
   "cell_type": "code",
   "execution_count": 47,
   "metadata": {
    "collapsed": true
   },
   "outputs": [
    {
     "name": "stdout",
     "output_type": "stream",
     "text": [
      "<class 'pandas.core.frame.DataFrame'>\n",
      "Int64Index: 1014 entries, 0 to 1013\n",
      "Data columns (total 24 columns):\n",
      "ID personne interrogée                                                                                                                                                                                                                           1014 non-null int64\n",
      "ID collecteur                                                                                                                                                                                                                                    1014 non-null int64\n",
      "Date de début                                                                                                                                                                                                                                    1014 non-null object\n",
      "Date de fin                                                                                                                                                                                                                                      1014 non-null object\n",
      "Adresse IP                                                                                                                                                                                                                                       0 non-null float64\n",
      "Adresse e-mail                                                                                                                                                                                                                                   0 non-null float64\n",
      "Prénom                                                                                                                                                                                                                                           0 non-null float64\n",
      "Nom                                                                                                                                                                                                                                              0 non-null float64\n",
      "Custom 1                                                                                                                                                                                                                                         0 non-null float64\n",
      "Etes-vous inscrit pour voter?                                                                                                                                                                                                                    1007 non-null object\n",
      "Facultatif : Gagnez €400 en inscrivant votre adresse mail. - Open-Ended Response                                                                                                                                                                 0 non-null float64\n",
      "Au premier tour: Pour quel candidat avez-vous voté au premier tour?                                                                                                                                                                              917 non-null object\n",
      "Au premier tour: Est-ce que vous allez voter?                                                                                                                                                                                                    1002 non-null object\n",
      "Au premier tour: Est-ce que vous allez voter? - Autre (veuillez préciser)                                                                                                                                                                        40 non-null object\n",
      "Au deuxième tour: (Est-ce que vous allez voter?) À quel point êtes-vous sûr?                                                                                                                                                                     1004 non-null object\n",
      "Au deuxième tour: (Est-ce que vous allez voter?) À quel point êtes-vous sûr? - Autre (veuillez préciser)                                                                                                                                         80 non-null object\n",
      "Macron ou Le Pen? Ou blanc?                                                                                                                                                                                                                      989 non-null object\n",
      "Macron ou Le Pen? Ou blanc? - Blanc                                                                                                                                                                                                              154 non-null object\n",
      "Qui va remporter l'élection à votre avis?                                                                                                                                                                                                        665 non-null object\n",
      "(Qui va remporter l'élection à votre avis?) <br><br>Pourquoi? <br><br>Les réponses rédactionnelles les plus perceptives seront récompensées de 500 euros supplémentaires. - Open-Ended Response                                                  504 non-null object\n",
      "Vos amis pensent-ils la même chose?                                                                                                                                                                                                              665 non-null object\n",
      "(Vos amis pensent-ils la même chose?)<br><br>Veuillez expliquer pourquoi ou pourquoi pas.<br><br>Les réponses rédactionnelles les plus perceptives seront récompensées de 500 euros supplémentaires. - Open-Ended Response                       403 non-null object\n",
      "Pensez-vous que la personne que vous avez sélectionnée est le bon choix pour la France?                                                                                                                                                          656 non-null object\n",
      "(Pensez-vous que la personne que vous avez sélectionnée est le bon choix pour la France?) <br><br>Pourquoi? <br><br>Les réponses rédactionnelles les plus perceptives seront récompensées de 500 euros supplémentaires. - Open-Ended Response    403 non-null object\n",
      "dtypes: float64(6), int64(2), object(16)\n",
      "memory usage: 198.0+ KB\n"
     ]
    }
   ],
   "source": [
    "survey2raw=pd.read_csv(\"../data/survey2_anonymized.csv\", encoding=\"utf-8\", low_memory=False,infer_datetime_format=True,index_col=0)\n",
    "survey2raw.info()"
   ]
  },
  {
   "cell_type": "markdown",
   "metadata": {},
   "source": [
    "The data has been anonymized prior to uploading by deleting all the values in the columns for IP's and email addresses. "
   ]
  },
  {
   "cell_type": "code",
   "execution_count": 48,
   "metadata": {
    "collapsed": false
   },
   "outputs": [
    {
     "name": "stdout",
     "output_type": "stream",
     "text": [
      "Data shape : (1014, 24)\n"
     ]
    }
   ],
   "source": [
    "print(\"Data shape : %s\" %(str(survey2raw.shape)))"
   ]
  },
  {
   "cell_type": "markdown",
   "metadata": {},
   "source": [
    "** Change header for clarity**"
   ]
  },
  {
   "cell_type": "code",
   "execution_count": 51,
   "metadata": {
    "collapsed": false
   },
   "outputs": [
    {
     "data": {
      "text/plain": [
       "True"
      ]
     },
     "execution_count": 51,
     "metadata": {},
     "output_type": "execute_result"
    }
   ],
   "source": [
    "new_header=['ID', 'ID collecteur', 'Date de début',\n",
    "       'Date de fin', 'IP', 'Adresse e-mail', 'Prénom', 'Nom',\n",
    "       'Custom 1', 'Q1', 'Q2','Q3','Q4','Q4-text','Q5', 'Q5-text','Q6','Q6-text',\n",
    "            'Q7','Q8','Q9','Q10','Q11','Q12']\n",
    "\n",
    "old_header = survey2raw.columns #store old header just in case\n",
    "len(new_header) == len(old_header) #check if no column is missing in new header"
   ]
  },
  {
   "cell_type": "code",
   "execution_count": 52,
   "metadata": {
    "collapsed": true
   },
   "outputs": [
    {
     "data": {
      "text/html": [
       "<div>\n",
       "<table border=\"1\" class=\"dataframe\">\n",
       "  <thead>\n",
       "    <tr style=\"text-align: right;\">\n",
       "      <th></th>\n",
       "      <th>0</th>\n",
       "    </tr>\n",
       "  </thead>\n",
       "  <tbody>\n",
       "    <tr>\n",
       "      <th>ID</th>\n",
       "      <td>ID personne interrogée</td>\n",
       "    </tr>\n",
       "    <tr>\n",
       "      <th>ID collecteur</th>\n",
       "      <td>ID collecteur</td>\n",
       "    </tr>\n",
       "    <tr>\n",
       "      <th>Date de début</th>\n",
       "      <td>Date de début</td>\n",
       "    </tr>\n",
       "    <tr>\n",
       "      <th>Date de fin</th>\n",
       "      <td>Date de fin</td>\n",
       "    </tr>\n",
       "    <tr>\n",
       "      <th>IP</th>\n",
       "      <td>Adresse IP</td>\n",
       "    </tr>\n",
       "    <tr>\n",
       "      <th>Adresse e-mail</th>\n",
       "      <td>Adresse e-mail</td>\n",
       "    </tr>\n",
       "    <tr>\n",
       "      <th>Prénom</th>\n",
       "      <td>Prénom</td>\n",
       "    </tr>\n",
       "    <tr>\n",
       "      <th>Nom</th>\n",
       "      <td>Nom</td>\n",
       "    </tr>\n",
       "    <tr>\n",
       "      <th>Custom 1</th>\n",
       "      <td>Custom 1</td>\n",
       "    </tr>\n",
       "    <tr>\n",
       "      <th>Q1</th>\n",
       "      <td>Etes-vous inscrit pour voter?</td>\n",
       "    </tr>\n",
       "    <tr>\n",
       "      <th>Q2</th>\n",
       "      <td>Facultatif : Gagnez €400 en inscrivant votre a...</td>\n",
       "    </tr>\n",
       "    <tr>\n",
       "      <th>Q3</th>\n",
       "      <td>Au premier tour: Pour quel candidat avez-vous ...</td>\n",
       "    </tr>\n",
       "    <tr>\n",
       "      <th>Q4</th>\n",
       "      <td>Au premier tour: Est-ce que vous allez voter?</td>\n",
       "    </tr>\n",
       "    <tr>\n",
       "      <th>Q4-text</th>\n",
       "      <td>Au premier tour: Est-ce que vous allez voter? ...</td>\n",
       "    </tr>\n",
       "    <tr>\n",
       "      <th>Q5</th>\n",
       "      <td>Au deuxième tour: (Est-ce que vous allez voter...</td>\n",
       "    </tr>\n",
       "    <tr>\n",
       "      <th>Q5-text</th>\n",
       "      <td>Au deuxième tour: (Est-ce que vous allez voter...</td>\n",
       "    </tr>\n",
       "    <tr>\n",
       "      <th>Q6</th>\n",
       "      <td>Macron ou Le Pen? Ou blanc?</td>\n",
       "    </tr>\n",
       "    <tr>\n",
       "      <th>Q6-text</th>\n",
       "      <td>Macron ou Le Pen? Ou blanc? - Blanc</td>\n",
       "    </tr>\n",
       "    <tr>\n",
       "      <th>Q7</th>\n",
       "      <td>Qui va remporter l'élection à votre avis?</td>\n",
       "    </tr>\n",
       "    <tr>\n",
       "      <th>Q8</th>\n",
       "      <td>(Qui va remporter l'élection à votre avis?) &lt;b...</td>\n",
       "    </tr>\n",
       "    <tr>\n",
       "      <th>Q9</th>\n",
       "      <td>Vos amis pensent-ils la même chose?</td>\n",
       "    </tr>\n",
       "    <tr>\n",
       "      <th>Q10</th>\n",
       "      <td>(Vos amis pensent-ils la même chose?)&lt;br&gt;&lt;br&gt;V...</td>\n",
       "    </tr>\n",
       "    <tr>\n",
       "      <th>Q11</th>\n",
       "      <td>Pensez-vous que la personne que vous avez séle...</td>\n",
       "    </tr>\n",
       "    <tr>\n",
       "      <th>Q12</th>\n",
       "      <td>(Pensez-vous que la personne que vous avez sél...</td>\n",
       "    </tr>\n",
       "  </tbody>\n",
       "</table>\n",
       "</div>"
      ],
      "text/plain": [
       "                                                                0\n",
       "ID                                         ID personne interrogée\n",
       "ID collecteur                                       ID collecteur\n",
       "Date de début                                       Date de début\n",
       "Date de fin                                           Date de fin\n",
       "IP                                                     Adresse IP\n",
       "Adresse e-mail                                     Adresse e-mail\n",
       "Prénom                                                     Prénom\n",
       "Nom                                                           Nom\n",
       "Custom 1                                                 Custom 1\n",
       "Q1                                  Etes-vous inscrit pour voter?\n",
       "Q2              Facultatif : Gagnez €400 en inscrivant votre a...\n",
       "Q3              Au premier tour: Pour quel candidat avez-vous ...\n",
       "Q4                  Au premier tour: Est-ce que vous allez voter?\n",
       "Q4-text         Au premier tour: Est-ce que vous allez voter? ...\n",
       "Q5              Au deuxième tour: (Est-ce que vous allez voter...\n",
       "Q5-text         Au deuxième tour: (Est-ce que vous allez voter...\n",
       "Q6                                    Macron ou Le Pen? Ou blanc?\n",
       "Q6-text                       Macron ou Le Pen? Ou blanc? - Blanc\n",
       "Q7                      Qui va remporter l'élection à votre avis?\n",
       "Q8              (Qui va remporter l'élection à votre avis?) <b...\n",
       "Q9                            Vos amis pensent-ils la même chose?\n",
       "Q10             (Vos amis pensent-ils la même chose?)<br><br>V...\n",
       "Q11             Pensez-vous que la personne que vous avez séle...\n",
       "Q12             (Pensez-vous que la personne que vous avez sél..."
      ]
     },
     "execution_count": 52,
     "metadata": {},
     "output_type": "execute_result"
    }
   ],
   "source": [
    "qn_list=pd.DataFrame(old_header,new_header)\n",
    "qn_list"
   ]
  },
  {
   "cell_type": "code",
   "execution_count": 190,
   "metadata": {
    "collapsed": false
   },
   "outputs": [
    {
     "data": {
      "text/html": [
       "<div>\n",
       "<table border=\"1\" class=\"dataframe\">\n",
       "  <thead>\n",
       "    <tr style=\"text-align: right;\">\n",
       "      <th></th>\n",
       "      <th>ID</th>\n",
       "      <th>ID collecteur</th>\n",
       "      <th>Date de début</th>\n",
       "      <th>Date de fin</th>\n",
       "      <th>IP</th>\n",
       "      <th>Adresse e-mail</th>\n",
       "      <th>Prénom</th>\n",
       "      <th>Nom</th>\n",
       "      <th>Custom 1</th>\n",
       "      <th>Q1</th>\n",
       "      <th>Q2</th>\n",
       "      <th>Q3</th>\n",
       "      <th>Q4</th>\n",
       "      <th>Q4-text</th>\n",
       "      <th>Q5</th>\n",
       "      <th>Q5-text</th>\n",
       "      <th>Q6</th>\n",
       "      <th>Q6-text</th>\n",
       "      <th>Q7</th>\n",
       "      <th>Q8</th>\n",
       "      <th>Q9</th>\n",
       "      <th>Q10</th>\n",
       "      <th>Q11</th>\n",
       "      <th>Q12</th>\n",
       "    </tr>\n",
       "  </thead>\n",
       "  <tbody>\n",
       "    <tr>\n",
       "      <th>0</th>\n",
       "      <td>6189761401</td>\n",
       "      <td>156443487</td>\n",
       "      <td>2017-05-09 23:01:30</td>\n",
       "      <td>2017-05-09 23:04:21</td>\n",
       "      <td>NaN</td>\n",
       "      <td>NaN</td>\n",
       "      <td>NaN</td>\n",
       "      <td>NaN</td>\n",
       "      <td>NaN</td>\n",
       "      <td>Non</td>\n",
       "      <td>NaN</td>\n",
       "      <td>Macron</td>\n",
       "      <td>Non</td>\n",
       "      <td>NaN</td>\n",
       "      <td>Cela dépend du candidat</td>\n",
       "      <td>NaN</td>\n",
       "      <td>Emmanuel Macron</td>\n",
       "      <td>NaN</td>\n",
       "      <td>NaN</td>\n",
       "      <td>NaN</td>\n",
       "      <td>NaN</td>\n",
       "      <td>NaN</td>\n",
       "      <td>NaN</td>\n",
       "      <td>NaN</td>\n",
       "    </tr>\n",
       "    <tr>\n",
       "      <th>1</th>\n",
       "      <td>6185182074</td>\n",
       "      <td>156443487</td>\n",
       "      <td>2017-05-06 22:07:12</td>\n",
       "      <td>2017-05-06 22:09:50</td>\n",
       "      <td>NaN</td>\n",
       "      <td>NaN</td>\n",
       "      <td>NaN</td>\n",
       "      <td>NaN</td>\n",
       "      <td>NaN</td>\n",
       "      <td>Oui</td>\n",
       "      <td>NaN</td>\n",
       "      <td>Le Pen</td>\n",
       "      <td>Oui</td>\n",
       "      <td>NaN</td>\n",
       "      <td>Pas sûr</td>\n",
       "      <td>NaN</td>\n",
       "      <td>Marine Le Pen</td>\n",
       "      <td>NaN</td>\n",
       "      <td>Le Pen</td>\n",
       "      <td>On verra</td>\n",
       "      <td>Non</td>\n",
       "      <td>Oui</td>\n",
       "      <td>Oui</td>\n",
       "      <td>Oui</td>\n",
       "    </tr>\n",
       "  </tbody>\n",
       "</table>\n",
       "</div>"
      ],
      "text/plain": [
       "           ID  ID collecteur       Date de début         Date de fin  IP  \\\n",
       "0  6189761401      156443487 2017-05-09 23:01:30 2017-05-09 23:04:21 NaN   \n",
       "1  6185182074      156443487 2017-05-06 22:07:12 2017-05-06 22:09:50 NaN   \n",
       "\n",
       "   Adresse e-mail  Prénom  Nom  Custom 1   Q1  Q2      Q3   Q4 Q4-text  \\\n",
       "0             NaN     NaN  NaN       NaN  Non NaN  Macron  Non     NaN   \n",
       "1             NaN     NaN  NaN       NaN  Oui NaN  Le Pen  Oui     NaN   \n",
       "\n",
       "                        Q5 Q5-text               Q6 Q6-text      Q7        Q8  \\\n",
       "0  Cela dépend du candidat     NaN  Emmanuel Macron     NaN     NaN       NaN   \n",
       "1                  Pas sûr     NaN    Marine Le Pen     NaN  Le Pen  On verra   \n",
       "\n",
       "    Q9  Q10  Q11  Q12  \n",
       "0  NaN  NaN  NaN  NaN  \n",
       "1  Non  Oui  Oui  Oui  "
      ]
     },
     "execution_count": 190,
     "metadata": {},
     "output_type": "execute_result"
    }
   ],
   "source": [
    "#substitute old header with new one for clarity\n",
    "survey2raw.columns=new_header\n",
    "survey2raw.head(2)"
   ]
  },
  {
   "cell_type": "code",
   "execution_count": 54,
   "metadata": {
    "collapsed": false
   },
   "outputs": [],
   "source": [
    "#cast date from string to datetime format\n",
    "survey2raw['Date de fin'] = pd.to_datetime(survey2raw['Date de fin'])\n",
    "survey2raw['Date de début'] = pd.to_datetime(survey2raw['Date de début'])"
   ]
  },
  {
   "cell_type": "code",
   "execution_count": 55,
   "metadata": {
    "collapsed": false
   },
   "outputs": [
    {
     "data": {
      "text/html": [
       "<div>\n",
       "<table border=\"1\" class=\"dataframe\">\n",
       "  <thead>\n",
       "    <tr style=\"text-align: right;\">\n",
       "      <th></th>\n",
       "      <th>type</th>\n",
       "      <th>nb_missing_values</th>\n",
       "      <th>nb_missing_values%</th>\n",
       "      <th>unique</th>\n",
       "    </tr>\n",
       "    <tr>\n",
       "      <th>column</th>\n",
       "      <th></th>\n",
       "      <th></th>\n",
       "      <th></th>\n",
       "      <th></th>\n",
       "    </tr>\n",
       "  </thead>\n",
       "  <tbody>\n",
       "    <tr>\n",
       "      <th>ID</th>\n",
       "      <td>int64</td>\n",
       "      <td>0</td>\n",
       "      <td>0.00</td>\n",
       "      <td>1014</td>\n",
       "    </tr>\n",
       "    <tr>\n",
       "      <th>ID collecteur</th>\n",
       "      <td>int64</td>\n",
       "      <td>0</td>\n",
       "      <td>0.00</td>\n",
       "      <td>1</td>\n",
       "    </tr>\n",
       "    <tr>\n",
       "      <th>Date de début</th>\n",
       "      <td>datetime64[ns]</td>\n",
       "      <td>0</td>\n",
       "      <td>0.00</td>\n",
       "      <td>1008</td>\n",
       "    </tr>\n",
       "    <tr>\n",
       "      <th>Date de fin</th>\n",
       "      <td>datetime64[ns]</td>\n",
       "      <td>0</td>\n",
       "      <td>0.00</td>\n",
       "      <td>1007</td>\n",
       "    </tr>\n",
       "    <tr>\n",
       "      <th>IP</th>\n",
       "      <td>float64</td>\n",
       "      <td>1014</td>\n",
       "      <td>100.00</td>\n",
       "      <td>1014</td>\n",
       "    </tr>\n",
       "    <tr>\n",
       "      <th>Adresse e-mail</th>\n",
       "      <td>float64</td>\n",
       "      <td>1014</td>\n",
       "      <td>100.00</td>\n",
       "      <td>1014</td>\n",
       "    </tr>\n",
       "    <tr>\n",
       "      <th>Prénom</th>\n",
       "      <td>float64</td>\n",
       "      <td>1014</td>\n",
       "      <td>100.00</td>\n",
       "      <td>1014</td>\n",
       "    </tr>\n",
       "    <tr>\n",
       "      <th>Nom</th>\n",
       "      <td>float64</td>\n",
       "      <td>1014</td>\n",
       "      <td>100.00</td>\n",
       "      <td>1014</td>\n",
       "    </tr>\n",
       "    <tr>\n",
       "      <th>Custom 1</th>\n",
       "      <td>float64</td>\n",
       "      <td>1014</td>\n",
       "      <td>100.00</td>\n",
       "      <td>1014</td>\n",
       "    </tr>\n",
       "    <tr>\n",
       "      <th>Q1</th>\n",
       "      <td>object</td>\n",
       "      <td>7</td>\n",
       "      <td>0.69</td>\n",
       "      <td>3</td>\n",
       "    </tr>\n",
       "    <tr>\n",
       "      <th>Q2</th>\n",
       "      <td>float64</td>\n",
       "      <td>1014</td>\n",
       "      <td>100.00</td>\n",
       "      <td>1014</td>\n",
       "    </tr>\n",
       "    <tr>\n",
       "      <th>Q3</th>\n",
       "      <td>object</td>\n",
       "      <td>97</td>\n",
       "      <td>9.57</td>\n",
       "      <td>12</td>\n",
       "    </tr>\n",
       "    <tr>\n",
       "      <th>Q4</th>\n",
       "      <td>object</td>\n",
       "      <td>12</td>\n",
       "      <td>1.18</td>\n",
       "      <td>5</td>\n",
       "    </tr>\n",
       "    <tr>\n",
       "      <th>Q4-text</th>\n",
       "      <td>object</td>\n",
       "      <td>974</td>\n",
       "      <td>96.06</td>\n",
       "      <td>36</td>\n",
       "    </tr>\n",
       "    <tr>\n",
       "      <th>Q5</th>\n",
       "      <td>object</td>\n",
       "      <td>10</td>\n",
       "      <td>0.99</td>\n",
       "      <td>6</td>\n",
       "    </tr>\n",
       "    <tr>\n",
       "      <th>Q5-text</th>\n",
       "      <td>object</td>\n",
       "      <td>934</td>\n",
       "      <td>92.11</td>\n",
       "      <td>68</td>\n",
       "    </tr>\n",
       "    <tr>\n",
       "      <th>Q6</th>\n",
       "      <td>object</td>\n",
       "      <td>25</td>\n",
       "      <td>2.47</td>\n",
       "      <td>4</td>\n",
       "    </tr>\n",
       "    <tr>\n",
       "      <th>Q6-text</th>\n",
       "      <td>object</td>\n",
       "      <td>860</td>\n",
       "      <td>84.81</td>\n",
       "      <td>136</td>\n",
       "    </tr>\n",
       "    <tr>\n",
       "      <th>Q7</th>\n",
       "      <td>object</td>\n",
       "      <td>349</td>\n",
       "      <td>34.42</td>\n",
       "      <td>3</td>\n",
       "    </tr>\n",
       "    <tr>\n",
       "      <th>Q8</th>\n",
       "      <td>object</td>\n",
       "      <td>510</td>\n",
       "      <td>50.30</td>\n",
       "      <td>499</td>\n",
       "    </tr>\n",
       "    <tr>\n",
       "      <th>Q9</th>\n",
       "      <td>object</td>\n",
       "      <td>349</td>\n",
       "      <td>34.42</td>\n",
       "      <td>3</td>\n",
       "    </tr>\n",
       "    <tr>\n",
       "      <th>Q10</th>\n",
       "      <td>object</td>\n",
       "      <td>611</td>\n",
       "      <td>60.26</td>\n",
       "      <td>393</td>\n",
       "    </tr>\n",
       "    <tr>\n",
       "      <th>Q11</th>\n",
       "      <td>object</td>\n",
       "      <td>358</td>\n",
       "      <td>35.31</td>\n",
       "      <td>3</td>\n",
       "    </tr>\n",
       "    <tr>\n",
       "      <th>Q12</th>\n",
       "      <td>object</td>\n",
       "      <td>611</td>\n",
       "      <td>60.26</td>\n",
       "      <td>396</td>\n",
       "    </tr>\n",
       "  </tbody>\n",
       "</table>\n",
       "</div>"
      ],
      "text/plain": [
       "                          type  nb_missing_values  nb_missing_values%  unique\n",
       "column                                                                       \n",
       "ID                       int64                  0                0.00    1014\n",
       "ID collecteur            int64                  0                0.00       1\n",
       "Date de début   datetime64[ns]                  0                0.00    1008\n",
       "Date de fin     datetime64[ns]                  0                0.00    1007\n",
       "IP                     float64               1014              100.00    1014\n",
       "Adresse e-mail         float64               1014              100.00    1014\n",
       "Prénom                 float64               1014              100.00    1014\n",
       "Nom                    float64               1014              100.00    1014\n",
       "Custom 1               float64               1014              100.00    1014\n",
       "Q1                      object                  7                0.69       3\n",
       "Q2                     float64               1014              100.00    1014\n",
       "Q3                      object                 97                9.57      12\n",
       "Q4                      object                 12                1.18       5\n",
       "Q4-text                 object                974               96.06      36\n",
       "Q5                      object                 10                0.99       6\n",
       "Q5-text                 object                934               92.11      68\n",
       "Q6                      object                 25                2.47       4\n",
       "Q6-text                 object                860               84.81     136\n",
       "Q7                      object                349               34.42       3\n",
       "Q8                      object                510               50.30     499\n",
       "Q9                      object                349               34.42       3\n",
       "Q10                     object                611               60.26     393\n",
       "Q11                     object                358               35.31       3\n",
       "Q12                     object                611               60.26     396"
      ]
     },
     "execution_count": 55,
     "metadata": {},
     "output_type": "execute_result"
    }
   ],
   "source": [
    "#variable types\n",
    "summary =  pd.DataFrame()\n",
    "summary[\"column\"] = list(survey2raw.columns)\n",
    "summary[\"type\"] = list(survey2raw.dtypes)\n",
    "summary[\"nb_missing_values\"] = list(survey2raw.isnull().sum())\n",
    "summary[\"nb_missing_values%\"] = round(summary[\"nb_missing_values\"]/1014*100,2)\n",
    "summary[\"unique\"]=summary[\"column\"].apply(lambda x : len(set(survey2raw[x])))\n",
    "summary.set_index(\"column\",inplace=True)\n",
    "summary\n"
   ]
  },
  {
   "cell_type": "markdown",
   "metadata": {},
   "source": [
    "We note that the following columns are all empty : \n",
    "- Adresse e-mail (email adress)\n",
    "- Prénom (first name)\n",
    "- Nom (family name)\n",
    "- Custom 1\n",
    "- IP (deliberately removed)\n",
    "- Q2 - emails (deliberately removed)\n",
    "\n",
    "As you can also see, not every question was answered by 100% of the respondents. I didn't make every single question on the survey compulsory because I did not want people to answer questions they did not care for, and I wanted more responses versus quality of each response."
   ]
  },
  {
   "cell_type": "markdown",
   "metadata": {},
   "source": [
    "## Data cleaning"
   ]
  },
  {
   "cell_type": "code",
   "execution_count": 58,
   "metadata": {
    "collapsed": false
   },
   "outputs": [],
   "source": [
    "#Delete the four columns that are empty\n",
    "dff=survey2raw.drop(['Adresse e-mail', 'Prénom', 'Nom',\n",
    "       'Custom 1','IP','Q2'], axis =1)"
   ]
  },
  {
   "cell_type": "code",
   "execution_count": 191,
   "metadata": {
    "collapsed": false,
    "scrolled": true
   },
   "outputs": [
    {
     "data": {
      "text/html": [
       "<div>\n",
       "<table border=\"1\" class=\"dataframe\">\n",
       "  <thead>\n",
       "    <tr style=\"text-align: right;\">\n",
       "      <th></th>\n",
       "      <th>ID</th>\n",
       "      <th>ID collecteur</th>\n",
       "      <th>Date de début</th>\n",
       "      <th>Date de fin</th>\n",
       "      <th>Q1</th>\n",
       "      <th>Q3</th>\n",
       "      <th>Q4</th>\n",
       "      <th>Q4-text</th>\n",
       "      <th>Q5</th>\n",
       "      <th>Q5-text</th>\n",
       "      <th>Q6</th>\n",
       "      <th>Q6-text</th>\n",
       "      <th>Q7</th>\n",
       "      <th>Q8</th>\n",
       "      <th>Q9</th>\n",
       "      <th>Q10</th>\n",
       "      <th>Q11</th>\n",
       "      <th>Q12</th>\n",
       "    </tr>\n",
       "  </thead>\n",
       "  <tbody>\n",
       "    <tr>\n",
       "      <th>0</th>\n",
       "      <td>6189761401</td>\n",
       "      <td>156443487</td>\n",
       "      <td>2017-05-09 23:01:30</td>\n",
       "      <td>2017-05-09 23:04:21</td>\n",
       "      <td>Non</td>\n",
       "      <td>Macron</td>\n",
       "      <td>Non</td>\n",
       "      <td></td>\n",
       "      <td>Cela dépend du candidat</td>\n",
       "      <td></td>\n",
       "      <td>Emmanuel Macron</td>\n",
       "      <td></td>\n",
       "      <td></td>\n",
       "      <td></td>\n",
       "      <td></td>\n",
       "      <td></td>\n",
       "      <td></td>\n",
       "      <td></td>\n",
       "    </tr>\n",
       "    <tr>\n",
       "      <th>1</th>\n",
       "      <td>6185182074</td>\n",
       "      <td>156443487</td>\n",
       "      <td>2017-05-06 22:07:12</td>\n",
       "      <td>2017-05-06 22:09:50</td>\n",
       "      <td>Oui</td>\n",
       "      <td>Le Pen</td>\n",
       "      <td>Oui</td>\n",
       "      <td></td>\n",
       "      <td>Pas sûr</td>\n",
       "      <td></td>\n",
       "      <td>Marine Le Pen</td>\n",
       "      <td></td>\n",
       "      <td>Le Pen</td>\n",
       "      <td>On verra</td>\n",
       "      <td>Non</td>\n",
       "      <td>Oui</td>\n",
       "      <td>Oui</td>\n",
       "      <td>Oui</td>\n",
       "    </tr>\n",
       "  </tbody>\n",
       "</table>\n",
       "</div>"
      ],
      "text/plain": [
       "           ID  ID collecteur       Date de début         Date de fin   Q1  \\\n",
       "0  6189761401      156443487 2017-05-09 23:01:30 2017-05-09 23:04:21  Non   \n",
       "1  6185182074      156443487 2017-05-06 22:07:12 2017-05-06 22:09:50  Oui   \n",
       "\n",
       "       Q3   Q4 Q4-text                       Q5 Q5-text               Q6  \\\n",
       "0  Macron  Non          Cela dépend du candidat          Emmanuel Macron   \n",
       "1  Le Pen  Oui                          Pas sûr            Marine Le Pen   \n",
       "\n",
       "  Q6-text      Q7        Q8   Q9  Q10  Q11  Q12  \n",
       "0                                                \n",
       "1          Le Pen  On verra  Non  Oui  Oui  Oui  "
      ]
     },
     "execution_count": 191,
     "metadata": {},
     "output_type": "execute_result"
    }
   ],
   "source": [
    "dff=dff.fillna(\"\")\n",
    "dff.head(2)"
   ]
  },
  {
   "cell_type": "markdown",
   "metadata": {},
   "source": [
    "Save dff to csv for the next notebook that focuses on textual data."
   ]
  },
  {
   "cell_type": "code",
   "execution_count": 195,
   "metadata": {
    "collapsed": true
   },
   "outputs": [],
   "source": [
    "dff.to_csv('../data/survey2_cleaned.csv', sep=',', encoding='utf-8')\n",
    "#alternatively use % store "
   ]
  },
  {
   "cell_type": "code",
   "execution_count": 75,
   "metadata": {
    "collapsed": false
   },
   "outputs": [],
   "source": [
    "translated_qn={\n",
    "    'Q1':'Are you registered to vote?',\n",
    "    'Q3':'Who did you vote for in the first round?',\n",
    "    'Q4':'Are you planning to vote in the second round??',\n",
    "    'Q5':'Are you sure of your vote?',\n",
    "    'Q6':'Macron or Le Pen?',\n",
    "    'Q7':'Who do you think will win this election?',\n",
    "    'Q9':'Do your friends think similarly?',\n",
    "    'Q11':'Do you agree the person you think will win is the right choice for France?',\n",
    "}"
   ]
  },
  {
   "cell_type": "code",
   "execution_count": 189,
   "metadata": {
    "collapsed": false
   },
   "outputs": [
    {
     "name": "stdout",
     "output_type": "stream",
     "text": [
      "Q1 --  Are you registered to vote? -- 3 options, normalized % of total:\n",
      "Oui    77.51\n",
      "Non    21.79\n",
      "        0.69\n",
      "Name: Q1, dtype: float64 \n",
      "\n",
      "\n",
      "Q3 --  Who did you vote for in the first round? -- 12 options, normalized % of total:\n",
      "Le Pen           41.62\n",
      "Melenchon        20.41\n",
      "Macron           18.84\n",
      "                  9.57\n",
      "Hamon             2.96\n",
      "Fillon            2.17\n",
      "Poutou            1.68\n",
      "Dupont-Aignan     1.28\n",
      "Asselineau        0.49\n",
      "Lassalle          0.49\n",
      "Arthaud           0.30\n",
      "Cheminade         0.20\n",
      "Name: Q3, dtype: float64 \n",
      "\n",
      "\n",
      "Q4 --  Are you planning to vote in the second round?? -- 5 options, normalized % of total:\n",
      "Oui                          72.49\n",
      "Non                          15.19\n",
      "Je ne sais pas                7.20\n",
      "Autre (veuillez préciser)     3.94\n",
      "                              1.18\n",
      "Name: Q4, dtype: float64 \n",
      "\n",
      "\n",
      "Q5 --  Are you sure of your vote? -- 6 options, normalized % of total:\n",
      "Très sûr                     64.50\n",
      "Je ne sais pas               11.64\n",
      "Pas sûr                      10.36\n",
      "Autre (veuillez préciser)     7.89\n",
      "Cela dépend du candidat       4.64\n",
      "                              0.99\n",
      "Name: Q5, dtype: float64 \n",
      "\n",
      "\n",
      "Q6 --  Macron or Le Pen? -- 4 options, normalized % of total:\n",
      "Marine Le Pen      50.49\n",
      "Emmanuel Macron    31.85\n",
      "Blanc              15.19\n",
      "                    2.47\n",
      "Name: Q6, dtype: float64 \n",
      "\n",
      "\n",
      "Q7 --  Who do you think will win this election? -- 3 options, normalized % of total:\n",
      "Macron    37.77\n",
      "          34.42\n",
      "Le Pen    27.81\n",
      "Name: Q7, dtype: float64 \n",
      "\n",
      "\n",
      "Q9 --  Do your friends think similarly? -- 3 options, normalized % of total:\n",
      "Oui    51.18\n",
      "       34.42\n",
      "Non    14.40\n",
      "Name: Q9, dtype: float64 \n",
      "\n",
      "\n",
      "Q11 --  Do you agree the person you think will win is the right choice for France? -- 3 options, normalized % of total:\n",
      "Oui    52.96\n",
      "       35.31\n",
      "Non    11.74\n",
      "Name: Q11, dtype: float64 \n",
      "\n",
      "\n"
     ]
    }
   ],
   "source": [
    "list_qn=[\"Q1\",\"Q3\",\"Q4\",\"Q5\",\"Q6\",\"Q7\",\"Q9\",\"Q11\"]\n",
    "for variable in list_qn:\n",
    "    print(variable, '-- ', translated_qn[variable], \"-- %s options, normalized %% of total:\"\\\n",
    "          %len(set(dff[variable])) )\n",
    "    print (round(dff[variable].value_counts(normalize=True)*100,2),\"\\n\\n\")\n",
    "   \n",
    "#Q2 - emails, Q8, Q10, Q12 are long form answers"
   ]
  },
  {
   "cell_type": "code",
   "execution_count": 198,
   "metadata": {
    "collapsed": false
   },
   "outputs": [
    {
     "name": "stdout",
     "output_type": "stream",
     "text": [
      "{'Hamon', 'Poutou', 'Asselineau', 'Melenchon', 'Arthaud', 'Cheminade', 'Dupont-Aignan', 'Lassalle', 'Fillon'}\n"
     ]
    }
   ],
   "source": [
    "other_cand=set(dff['Q3'])\n",
    "other_cand.remove(\"Le Pen\")\n",
    "other_cand.remove(\"Macron\")\n",
    "other_cand.remove(\"\")\n",
    "print(other_cand)"
   ]
  },
  {
   "cell_type": "code",
   "execution_count": 199,
   "metadata": {
    "collapsed": false
   },
   "outputs": [],
   "source": [
    "mapping = dict()\n",
    "for key in other_cand:\n",
    "    mapping[key]=\"Other\""
   ]
  },
  {
   "cell_type": "code",
   "execution_count": 257,
   "metadata": {
    "collapsed": false
   },
   "outputs": [
    {
     "data": {
      "text/plain": [
       "{'': 'Other',\n",
       " 'Arthaud': 'Other',\n",
       " 'Asselineau': 'Other',\n",
       " 'Cheminade': 'Other',\n",
       " 'Dupont-Aignan': 'Other',\n",
       " 'Fillon': 'Other',\n",
       " 'Hamon': 'Other',\n",
       " 'Lassalle': 'Other',\n",
       " 'Le Pen': 'Le Pen',\n",
       " 'Macron': 'Macron',\n",
       " 'Melenchon': 'Other',\n",
       " 'Poutou': 'Other'}"
      ]
     },
     "execution_count": 257,
     "metadata": {},
     "output_type": "execute_result"
    }
   ],
   "source": [
    "mapping.update({\"Le Pen\":\"Le Pen\",\"Macron\":\"Macron\"})\n",
    "mapping"
   ]
  },
  {
   "cell_type": "code",
   "execution_count": 266,
   "metadata": {
    "collapsed": false
   },
   "outputs": [
    {
     "name": "stdout",
     "output_type": "stream",
     "text": [
      "Q3 -- Who did you vote for in the first round?\n",
      "Q6 -- Macron or Le Pen?\n"
     ]
    },
    {
     "data": {
      "text/html": [
       "<div>\n",
       "<table border=\"1\" class=\"dataframe\">\n",
       "  <thead>\n",
       "    <tr style=\"text-align: right;\">\n",
       "      <th>Q3</th>\n",
       "      <th>Le Pen</th>\n",
       "      <th>Macron</th>\n",
       "      <th>Other</th>\n",
       "    </tr>\n",
       "    <tr>\n",
       "      <th>Q6</th>\n",
       "      <th></th>\n",
       "      <th></th>\n",
       "      <th></th>\n",
       "    </tr>\n",
       "  </thead>\n",
       "  <tbody>\n",
       "    <tr>\n",
       "      <th></th>\n",
       "      <td>0.30</td>\n",
       "      <td>0.20</td>\n",
       "      <td>1.97</td>\n",
       "    </tr>\n",
       "    <tr>\n",
       "      <th>Blanc</th>\n",
       "      <td>1.78</td>\n",
       "      <td>2.07</td>\n",
       "      <td>11.34</td>\n",
       "    </tr>\n",
       "    <tr>\n",
       "      <th>Emmanuel Macron</th>\n",
       "      <td>0.30</td>\n",
       "      <td>16.07</td>\n",
       "      <td>15.48</td>\n",
       "    </tr>\n",
       "    <tr>\n",
       "      <th>Marine Le Pen</th>\n",
       "      <td>39.25</td>\n",
       "      <td>0.49</td>\n",
       "      <td>10.75</td>\n",
       "    </tr>\n",
       "  </tbody>\n",
       "</table>\n",
       "</div>"
      ],
      "text/plain": [
       "Q3               Le Pen  Macron  Other\n",
       "Q6                                    \n",
       "                   0.30    0.20   1.97\n",
       "Blanc              1.78    2.07  11.34\n",
       "Emmanuel Macron    0.30   16.07  15.48\n",
       "Marine Le Pen     39.25    0.49  10.75"
      ]
     },
     "execution_count": 266,
     "metadata": {},
     "output_type": "execute_result"
    }
   ],
   "source": [
    "comparison=[\"Q3\",\"Q6\"]\n",
    "print(comparison[0],\"--\",translated_qn[comparison[0]])\n",
    "print(comparison[1],\"--\",translated_qn[comparison[1]])\n",
    "\n",
    "ax = pd.crosstab(index=dff['Q6'],columns=dff['Q3'].replace(mapping), \\\n",
    "                 normalize=True).apply(lambda r:r*100, axis=1)\\\n",
    "                 .round(decimals=2)\n",
    "ax "
   ]
  },
  {
   "cell_type": "code",
   "execution_count": 267,
   "metadata": {
    "collapsed": false
   },
   "outputs": [
    {
     "data": {
      "text/plain": [
       "Q6               Q3    \n",
       "                 Le Pen     0.30\n",
       "                 Macron     0.20\n",
       "                 Other      1.97\n",
       "Blanc            Le Pen     1.78\n",
       "                 Macron     2.07\n",
       "                 Other     11.34\n",
       "Emmanuel Macron  Le Pen     0.30\n",
       "                 Macron    16.07\n",
       "                 Other     15.48\n",
       "Marine Le Pen    Le Pen    39.25\n",
       "                 Macron     0.49\n",
       "                 Other     10.75\n",
       "dtype: float64"
      ]
     },
     "execution_count": 267,
     "metadata": {},
     "output_type": "execute_result"
    }
   ],
   "source": [
    "ax.stack()"
   ]
  },
  {
   "cell_type": "markdown",
   "metadata": {},
   "source": [
    "In the first round, we can see that 19% reported that they voted for Macron. Little less than half of those voters say they would be vote for Macron in the second round. There are about 20% who do not choose between either in the second round. \n",
    "\n",
    "Interpretation: If our respondents are representative of all French youth, **the youth do love Marine le Pen! ** Le Pen has twice the support that Macron has among the youth but his numbers don't look too shabby compared to his national result of 24% in the first round.\n",
    "\n",
    "Furthermore, if I just blindly plug the numbers on the right-most column into my [model](https://annjie.com/presidentielle-2017-election-model/), Macron has a slight victory. Hence, from Macron's perspective, even if we assume that the voting patterns of the youth in the second round for the entire French electorate, which could possibly be the worst-case scenario, he stil wins the presidency narrowly.  \n",
    "\n",
    "We can also explore the breakdown of the voters' intentions by 1st round vote, by removing Le Pen and Macron: "
   ]
  },
  {
   "cell_type": "code",
   "execution_count": 202,
   "metadata": {
    "collapsed": false
   },
   "outputs": [
    {
     "name": "stdout",
     "output_type": "stream",
     "text": [
      "Q3 -- Who did you vote for in the first round?\n",
      "Q6 -- Macron or Le Pen?\n"
     ]
    },
    {
     "data": {
      "text/html": [
       "<div>\n",
       "<table border=\"1\" class=\"dataframe\">\n",
       "  <thead>\n",
       "    <tr style=\"text-align: right;\">\n",
       "      <th>Q3</th>\n",
       "      <th></th>\n",
       "      <th>Arthaud</th>\n",
       "      <th>Asselineau</th>\n",
       "      <th>Cheminade</th>\n",
       "      <th>Dupont-Aignan</th>\n",
       "      <th>Fillon</th>\n",
       "      <th>Hamon</th>\n",
       "      <th>Lassalle</th>\n",
       "      <th>Melenchon</th>\n",
       "      <th>Poutou</th>\n",
       "      <th>All</th>\n",
       "    </tr>\n",
       "    <tr>\n",
       "      <th>Q6</th>\n",
       "      <th></th>\n",
       "      <th></th>\n",
       "      <th></th>\n",
       "      <th></th>\n",
       "      <th></th>\n",
       "      <th></th>\n",
       "      <th></th>\n",
       "      <th></th>\n",
       "      <th></th>\n",
       "      <th></th>\n",
       "      <th></th>\n",
       "    </tr>\n",
       "  </thead>\n",
       "  <tbody>\n",
       "    <tr>\n",
       "      <th></th>\n",
       "      <td>3.99</td>\n",
       "      <td>0.00</td>\n",
       "      <td>0.00</td>\n",
       "      <td>0.00</td>\n",
       "      <td>0.00</td>\n",
       "      <td>0.00</td>\n",
       "      <td>0.00</td>\n",
       "      <td>0.00</td>\n",
       "      <td>1.00</td>\n",
       "      <td>0.00</td>\n",
       "      <td>4.99</td>\n",
       "    </tr>\n",
       "    <tr>\n",
       "      <th>Blanc</th>\n",
       "      <td>6.23</td>\n",
       "      <td>0.25</td>\n",
       "      <td>1.00</td>\n",
       "      <td>0.25</td>\n",
       "      <td>1.00</td>\n",
       "      <td>0.25</td>\n",
       "      <td>1.50</td>\n",
       "      <td>0.50</td>\n",
       "      <td>16.71</td>\n",
       "      <td>1.00</td>\n",
       "      <td>28.68</td>\n",
       "    </tr>\n",
       "    <tr>\n",
       "      <th>Emmanuel Macron</th>\n",
       "      <td>6.23</td>\n",
       "      <td>0.25</td>\n",
       "      <td>0.00</td>\n",
       "      <td>0.00</td>\n",
       "      <td>0.25</td>\n",
       "      <td>3.24</td>\n",
       "      <td>4.49</td>\n",
       "      <td>0.00</td>\n",
       "      <td>23.19</td>\n",
       "      <td>1.50</td>\n",
       "      <td>39.15</td>\n",
       "    </tr>\n",
       "    <tr>\n",
       "      <th>Marine Le Pen</th>\n",
       "      <td>7.73</td>\n",
       "      <td>0.25</td>\n",
       "      <td>0.25</td>\n",
       "      <td>0.25</td>\n",
       "      <td>2.00</td>\n",
       "      <td>2.00</td>\n",
       "      <td>1.50</td>\n",
       "      <td>0.75</td>\n",
       "      <td>10.72</td>\n",
       "      <td>1.75</td>\n",
       "      <td>27.18</td>\n",
       "    </tr>\n",
       "    <tr>\n",
       "      <th>All</th>\n",
       "      <td>24.19</td>\n",
       "      <td>0.75</td>\n",
       "      <td>1.25</td>\n",
       "      <td>0.50</td>\n",
       "      <td>3.24</td>\n",
       "      <td>5.49</td>\n",
       "      <td>7.48</td>\n",
       "      <td>1.25</td>\n",
       "      <td>51.62</td>\n",
       "      <td>4.24</td>\n",
       "      <td>100.00</td>\n",
       "    </tr>\n",
       "  </tbody>\n",
       "</table>\n",
       "</div>"
      ],
      "text/plain": [
       "Q3                      Arthaud  Asselineau  Cheminade  Dupont-Aignan  Fillon  \\\n",
       "Q6                                                                              \n",
       "                  3.99     0.00        0.00       0.00           0.00    0.00   \n",
       "Blanc             6.23     0.25        1.00       0.25           1.00    0.25   \n",
       "Emmanuel Macron   6.23     0.25        0.00       0.00           0.25    3.24   \n",
       "Marine Le Pen     7.73     0.25        0.25       0.25           2.00    2.00   \n",
       "All              24.19     0.75        1.25       0.50           3.24    5.49   \n",
       "\n",
       "Q3               Hamon  Lassalle  Melenchon  Poutou     All  \n",
       "Q6                                                           \n",
       "                  0.00      0.00       1.00    0.00    4.99  \n",
       "Blanc             1.50      0.50      16.71    1.00   28.68  \n",
       "Emmanuel Macron   4.49      0.00      23.19    1.50   39.15  \n",
       "Marine Le Pen     1.50      0.75      10.72    1.75   27.18  \n",
       "All               7.48      1.25      51.62    4.24  100.00  "
      ]
     },
     "execution_count": 202,
     "metadata": {},
     "output_type": "execute_result"
    }
   ],
   "source": [
    "comparison=[\"Q3\",\"Q6\"]\n",
    "print(comparison[0],\"--\",translated_qn[comparison[0]])\n",
    "print(comparison[1],\"--\",translated_qn[comparison[1]])\n",
    "\n",
    "dff.other=dff[(dff[\"Q3\"]!=\"Le Pen\")&(dff[\"Q3\"]!=\"Macron\")]\n",
    "pd.crosstab(index=dff.other['Q6'],columns=dff.other['Q3'], \\\n",
    "            normalize=True,margins=True).apply(lambda r:r*100, axis=1)\\\n",
    "            .round(decimals=2)\n",
    "         #   .sort_values(by=\"Le Pen\",axis=0, ascending=False)"
   ]
  },
  {
   "cell_type": "markdown",
   "metadata": {},
   "source": [
    "A few points:\n",
    "* Half of all voters other than Le Pen or Macron voted for Melenchon\n",
    "\n",
    "* **Surprisingly, almost half of the people who voted for Melenchon would vote for Macron! ** "
   ]
  },
  {
   "cell_type": "code",
   "execution_count": 270,
   "metadata": {
    "collapsed": false
   },
   "outputs": [
    {
     "name": "stdout",
     "output_type": "stream",
     "text": [
      "Q5 -- Are you sure of your vote?\n",
      "Q6 -- Macron or Le Pen?\n"
     ]
    },
    {
     "data": {
      "text/html": [
       "<div>\n",
       "<table border=\"1\" class=\"dataframe\">\n",
       "  <thead>\n",
       "    <tr style=\"text-align: right;\">\n",
       "      <th>Q5</th>\n",
       "      <th>Autre (veuillez préciser)</th>\n",
       "      <th>Cela dépend du candidat</th>\n",
       "      <th>Je ne sais pas</th>\n",
       "      <th>Pas sûr</th>\n",
       "      <th>Très sûr</th>\n",
       "      <th>All</th>\n",
       "    </tr>\n",
       "    <tr>\n",
       "      <th>Q6</th>\n",
       "      <th></th>\n",
       "      <th></th>\n",
       "      <th></th>\n",
       "      <th></th>\n",
       "      <th></th>\n",
       "      <th></th>\n",
       "    </tr>\n",
       "  </thead>\n",
       "  <tbody>\n",
       "    <tr>\n",
       "      <th></th>\n",
       "      <td>5.92</td>\n",
       "      <td>1.48</td>\n",
       "      <td>3.25</td>\n",
       "      <td>2.56</td>\n",
       "      <td>4.44</td>\n",
       "      <td>17.65</td>\n",
       "    </tr>\n",
       "    <tr>\n",
       "      <th>Emmanuel Macron</th>\n",
       "      <td>1.18</td>\n",
       "      <td>1.08</td>\n",
       "      <td>4.34</td>\n",
       "      <td>2.86</td>\n",
       "      <td>22.39</td>\n",
       "      <td>31.85</td>\n",
       "    </tr>\n",
       "    <tr>\n",
       "      <th>Marine Le Pen</th>\n",
       "      <td>1.78</td>\n",
       "      <td>2.07</td>\n",
       "      <td>4.04</td>\n",
       "      <td>4.93</td>\n",
       "      <td>37.67</td>\n",
       "      <td>50.49</td>\n",
       "    </tr>\n",
       "    <tr>\n",
       "      <th>All</th>\n",
       "      <td>8.88</td>\n",
       "      <td>4.64</td>\n",
       "      <td>11.64</td>\n",
       "      <td>10.36</td>\n",
       "      <td>64.50</td>\n",
       "      <td>100.00</td>\n",
       "    </tr>\n",
       "  </tbody>\n",
       "</table>\n",
       "</div>"
      ],
      "text/plain": [
       "Q5               Autre (veuillez préciser)  Cela dépend du candidat  \\\n",
       "Q6                                                                    \n",
       "                                      5.92                     1.48   \n",
       "Emmanuel Macron                       1.18                     1.08   \n",
       "Marine Le Pen                         1.78                     2.07   \n",
       "All                                   8.88                     4.64   \n",
       "\n",
       "Q5               Je ne sais pas  Pas sûr  Très sûr     All  \n",
       "Q6                                                          \n",
       "                           3.25     2.56      4.44   17.65  \n",
       "Emmanuel Macron            4.34     2.86     22.39   31.85  \n",
       "Marine Le Pen              4.04     4.93     37.67   50.49  \n",
       "All                       11.64    10.36     64.50  100.00  "
      ]
     },
     "execution_count": 270,
     "metadata": {},
     "output_type": "execute_result"
    }
   ],
   "source": [
    "comparison=[\"Q5\",\"Q6\"]\n",
    "print(comparison[0],\"--\",translated_qn[comparison[0]])\n",
    "print(comparison[1],\"--\",translated_qn[comparison[1]])\n",
    "pd.crosstab(index=dff['Q6'].replace({\"Blanc\":\"\"}),columns=dff['Q5'].replace({\"\":\"Autre (veuillez préciser)\"}), \\\n",
    "            normalize=True,margins=True).apply(lambda r:r*100, axis=1)\\\n",
    "            .round(decimals=2)\\\n",
    "         #   .sort_values(by=\"Le Pen\",axis=0, ascending=False)"
   ]
  },
  {
   "cell_type": "markdown",
   "metadata": {},
   "source": [
    "Doesn't seem to be a significant difference here. We can do a statistical test if we are interested. "
   ]
  },
  {
   "cell_type": "code",
   "execution_count": 168,
   "metadata": {
    "collapsed": false
   },
   "outputs": [
    {
     "name": "stdout",
     "output_type": "stream",
     "text": [
      "Q7 -- Who do you think will win this election?\n",
      "Q11 -- Do you agree the person you think will win is the right choice for France?\n"
     ]
    },
    {
     "data": {
      "text/html": [
       "<div>\n",
       "<table border=\"1\" class=\"dataframe\">\n",
       "  <thead>\n",
       "    <tr style=\"text-align: right;\">\n",
       "      <th>Q11</th>\n",
       "      <th></th>\n",
       "      <th>Non</th>\n",
       "      <th>Oui</th>\n",
       "      <th>All</th>\n",
       "    </tr>\n",
       "    <tr>\n",
       "      <th>Q7</th>\n",
       "      <th></th>\n",
       "      <th></th>\n",
       "      <th></th>\n",
       "      <th></th>\n",
       "    </tr>\n",
       "  </thead>\n",
       "  <tbody>\n",
       "    <tr>\n",
       "      <th></th>\n",
       "      <td>34.02</td>\n",
       "      <td>0.10</td>\n",
       "      <td>0.30</td>\n",
       "      <td>34.42</td>\n",
       "    </tr>\n",
       "    <tr>\n",
       "      <th>Le Pen</th>\n",
       "      <td>0.59</td>\n",
       "      <td>2.07</td>\n",
       "      <td>25.15</td>\n",
       "      <td>27.81</td>\n",
       "    </tr>\n",
       "    <tr>\n",
       "      <th>Macron</th>\n",
       "      <td>0.69</td>\n",
       "      <td>9.57</td>\n",
       "      <td>27.51</td>\n",
       "      <td>37.77</td>\n",
       "    </tr>\n",
       "    <tr>\n",
       "      <th>All</th>\n",
       "      <td>35.31</td>\n",
       "      <td>11.74</td>\n",
       "      <td>52.96</td>\n",
       "      <td>100.00</td>\n",
       "    </tr>\n",
       "  </tbody>\n",
       "</table>\n",
       "</div>"
      ],
      "text/plain": [
       "Q11              Non    Oui     All\n",
       "Q7                                 \n",
       "        34.02   0.10   0.30   34.42\n",
       "Le Pen   0.59   2.07  25.15   27.81\n",
       "Macron   0.69   9.57  27.51   37.77\n",
       "All     35.31  11.74  52.96  100.00"
      ]
     },
     "execution_count": 168,
     "metadata": {},
     "output_type": "execute_result"
    }
   ],
   "source": [
    "comparison=[\"Q7\",\"Q11\"]\n",
    "print(comparison[0],\"--\",translated_qn[comparison[0]])\n",
    "print(comparison[1],\"--\",translated_qn[comparison[1]])\n",
    "pd.crosstab(index=dff['Q7'],columns=dff['Q11'], \\\n",
    "            normalize=True,margins=True).apply(lambda r:r*100, axis=1)\\\n",
    "            .round(decimals=2)\\\n",
    "         #   .sort_values(by=\"Le Pen\",axis=0, ascending=False)"
   ]
  },
  {
   "cell_type": "markdown",
   "metadata": {
    "collapsed": true
   },
   "source": [
    "More people think that Macron will win. But of those who think he will win, they are less positive on his presidency than those who think see a Le Pen presidency. "
   ]
  }
 ],
 "metadata": {
  "kernelspec": {
   "display_name": "Python 3",
   "language": "python",
   "name": "python3"
  },
  "language_info": {
   "codemirror_mode": {
    "name": "ipython",
    "version": 3
   },
   "file_extension": ".py",
   "mimetype": "text/x-python",
   "name": "python",
   "nbconvert_exporter": "python",
   "pygments_lexer": "ipython3",
   "version": "3.6.0"
  }
 },
 "nbformat": 4,
 "nbformat_minor": 2
}
