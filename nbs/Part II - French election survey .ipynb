{
 "cells": [
  {
   "cell_type": "markdown",
   "metadata": {},
   "source": [
    "# Parsing textual data - Survey for French presidential elections 2nd round"
   ]
  },
  {
   "cell_type": "markdown",
   "metadata": {},
   "source": [
    "**Introduction : ** \n",
    "This is the second notebook exploring my own dataset from a survey I carried out. Instead of looking at just numbers, which I could just as easily find from official polls, I wanted some open-ended responses. This contains richer information that can be played with. "
   ]
  },
  {
   "cell_type": "markdown",
   "metadata": {},
   "source": [
    "**Summary: **"
   ]
  },
  {
   "cell_type": "markdown",
   "metadata": {},
   "source": [
    "I focus on using IBM Watson to translate from French into English and then parse the emotional content of open-ended survey responses. We find that **responses that mention Marine Le Pen seem to raise the meter for fear compared to those that mention Emmanuel Macron.** \n",
    "\n",
    "The Part I notebook explores the question of where first round votes for neither Macron nor Le Pen were likely to go to. \n",
    "\n",
    "#### Steps:\n",
    "1) Translate all open-ended responses with **IBM LanguageTranslator**. \n",
    "- *Why LanguageTranslate?: *I do not read French, and got tired of copying and pasting into Google Translate, even though I learnt a few words this way.\n",
    "\n",
    "2)  **Prepare the data** \n",
    "\n",
    "- For ease of analysis and more reliability, I decided to extract all the open-ended responses into one list variable regardless of question posed, \n",
    "- and focus the responses that mentioned Le Pen and those that mentioned Macron. \n",
    "\n",
    "3) Analyze the textual data with **IBM ToneAnalyzer**, \n",
    "- This gives us a rating on 5 emotions on the scale of {0,1}. \n",
    "- *Why ToneAnalyzer?:* It's a simple way of analyzing all 1014 responses with IBM Watson. Voters vote on emotion too\n",
    "\n",
    "4) Acknowledging the non-normality of these emotion metrics, I apply the **Kolmogorov-Smirnov test** to \n",
    "- compare Le Pen and Macron on the distributions of these five emotions, and \n",
    "- plot their cumulative distribution functions as a visual check.  \n",
    "\n",
    "\n",
    "\n",
    "##### Ideas for further analysis: \n",
    "\n",
    "- Multiply each response into more data by stripping into seperate sentences and attaching the voting intention as a binary outcome (e.g. 1 Macron, 0 Le Pen). \n",
    "\n",
    "- Read sample responses that are off the charts for fear. Try to get a sense for what is driving this 'fear' in the Watson API.\n",
    "\n",
    "- Split data into Le Pen supporter vs Macron supporter.\n",
    "\n",
    "- Re-do survey design such that all open-ended answers are compulsory, at the cost of survey respondents dropping out. \n",
    "\n",
    "- Extract connotations for other words with word2vec. "
   ]
  },
  {
   "cell_type": "markdown",
   "metadata": {},
   "source": [
    "----------------"
   ]
  },
  {
   "cell_type": "markdown",
   "metadata": {},
   "source": [
    "## Imports"
   ]
  },
  {
   "cell_type": "code",
   "execution_count": 12,
   "metadata": {
    "collapsed": false
   },
   "outputs": [],
   "source": [
    "import pandas as pd \n",
    "pd.set_option('display.max_columns', 300)\n",
    "import matplotlib.pyplot as plt\n",
    "import numpy as np\n",
    "import seaborn as sns\n",
    "%matplotlib inline\n",
    "import json \n",
    "from watson_developer_cloud import ToneAnalyzerV3\n",
    "from watson_developer_cloud import LanguageTranslatorV2"
   ]
  },
  {
   "cell_type": "markdown",
   "metadata": {},
   "source": [
    "# Translator "
   ]
  },
  {
   "cell_type": "code",
   "execution_count": 123,
   "metadata": {
    "collapsed": false
   },
   "outputs": [
    {
     "name": "stdout",
     "output_type": "stream",
     "text": [
      "conversation username:\n",
      "········\n",
      "conversation password:\n",
      "········\n"
     ]
    }
   ],
   "source": [
    "import getpass\n",
    "print(\"conversation username:\")\n",
    "username = getpass.getpass()\n",
    "\n",
    "print(\"conversation password:\")\n",
    "password = getpass.getpass()\n",
    "\n",
    "#do not run this as I have already saved the output in the data/ folder"
   ]
  },
  {
   "cell_type": "code",
   "execution_count": 94,
   "metadata": {
    "collapsed": false
   },
   "outputs": [],
   "source": [
    "language_translator = LanguageTranslatorV2(\n",
    "    username=username,\n",
    "    password=password)\n"
   ]
  },
  {
   "cell_type": "markdown",
   "metadata": {},
   "source": [
    "# Survey data with Translator"
   ]
  },
  {
   "cell_type": "code",
   "execution_count": 95,
   "metadata": {
    "collapsed": false
   },
   "outputs": [],
   "source": [
    "def translatee(x):\n",
    "    if x == \"\":\n",
    "        return \"\"\n",
    "    else:    \n",
    "        return language_translator.translate(x, source='fr',\n",
    "                                  target='en')\n",
    "   "
   ]
  },
  {
   "cell_type": "code",
   "execution_count": 97,
   "metadata": {
    "collapsed": true
   },
   "outputs": [],
   "source": [
    "dff=pd.read_csv(\"../data/survey2_cleaned.csv\", encoding=\"utf-8\", low_memory=False,infer_datetime_format=True)"
   ]
  },
  {
   "cell_type": "code",
   "execution_count": 98,
   "metadata": {
    "collapsed": false
   },
   "outputs": [
    {
     "data": {
      "text/plain": [
       "'France is not ready to host a woman in power and even less someone from extremism '"
      ]
     },
     "execution_count": 98,
     "metadata": {},
     "output_type": "execute_result"
    }
   ],
   "source": [
    "teststring=dff[\"Q14\"][dff[\"Q14\"]!=\"\"]\n",
    "teststring=teststring[0:100]\n",
    "teststring.head()\n",
    "translatee(teststring[4])"
   ]
  },
  {
   "cell_type": "code",
   "execution_count": 30,
   "metadata": {
    "collapsed": false
   },
   "outputs": [],
   "source": [
    "dff['Q14-en'] = dff['Q14'].apply(lambda x : translatee(x))\n",
    "dff['Q16-en'] = dff['Q16'].apply(lambda x : translatee(x))\n",
    "dff['Q18-en'] = dff['Q18'].apply(lambda x : translatee(x))\n",
    "dff['Q4-en'] = dff['Q4-text'].apply(lambda x : translatee(x))\n",
    "dff['Q5-en'] = dff['Q5-text'].apply(lambda x : translatee(x))\n",
    "dff['Q6-en'] = dff['Q6-text'].apply(lambda x : translatee(x))\n",
    "dff['Q7-en'] = dff['Q7-text'].apply(lambda x : translatee(x))"
   ]
  },
  {
   "cell_type": "code",
   "execution_count": 31,
   "metadata": {
    "collapsed": false
   },
   "outputs": [
    {
     "data": {
      "text/plain": [
       "(1014, 34)"
      ]
     },
     "execution_count": 31,
     "metadata": {},
     "output_type": "execute_result"
    }
   ],
   "source": [
    "dff.shape"
   ]
  },
  {
   "cell_type": "code",
   "execution_count": 40,
   "metadata": {
    "collapsed": false
   },
   "outputs": [
    {
     "name": "stdout",
     "output_type": "stream",
     "text": [
      "['Yes', 'An anger and a rattle bowl general living conditions contributes to a trend necessarily radicalized.', 'They are all agree, they want to have a hope that a failure ', 'Macron', 'My friends also believe that Emanuel Macron will remportet this election because it would appear that in the media is the most candidate supported.', 'The same thing as me', 'For the same reason that I think Navy will elected.', 'They agree with me', 'Macron said lies. Moreover it needs a atrium to answer questions', 'It think macron will be elected ', 'Pck its for the pen', 'Quite simply for the same reason as me. ', 'Too afraid of big change for France ', 'Because we all have the same point of view ', 'They saw that between LePen and Macron, one candidate was for the French people ', 'My friends are people who voted Melancon like me, for them, Le Pen is racism and Macron a rich, or it is better to someone who likes money to power rather than someone who is not human', 'Because they think this and that its programme and better ', 'They think the same thing as me.', 'That is our future and those of our parents and our future children', 'Idem that my first text.', 'Hello', 'The political debate is important that everyone perceives a candidate, we are all in the same situation where we are party people discriminate ', 'Yes we talk much between us', 'It was between two chance of positive opinion of both rate and negative ', 'In fact opinion is varied but I noticed that after a video summarizing the proposals of the two candidates they then turn to MLP. ', 'Yes', 'He want to vote', '- ', 'Because navy has not benefited from the debate to present his project She did criticize the 5ans Holland and say intoxs macron instead of talking about his project for the next 5 years and ct injury', 'Each opinion', 'He want to pen President', 'Not because they believe that marine pen ca change something because the FN is never move ', 'They rely all polls', 'Because they want to have a president as the first two say and ki are nothing ', \"I don't know\", 'They include basic needs of France.', 'Because macron is the best', 'They agree with me because Marine Le Pen has been know for some time and that it is crazy not the French Hangul ', 'Not because I have friends who vote the pen and macron whichregistration and white whichregistration ', 'Because it is the same war for everyone I think!', 'Not the Pen is saying that its will be worse', 'Most of my friends have vote in favour of Melenchon they are like me being asked to vote or vote white ', 'There are Emmanuel Macron because it is young', 'PSk are for the pen ', ' C is human france l', 'They watch the debate and we understood that lepen is incompetante', 'I know not', 'He thinks the same thing as me on are project which is very interesting for us ', 'Because I am bg', 'Ceřtains think that the government should completely change ', 'Have discussed the debates, and agrees', 'For what', 'We have three different opinions ', 'There are the same I think', \"My friend I understand other non chaqu'un. It is opignon policy\", 'They think such ..', 'Super Presiding ', 'He did not think the same thing will vote macron knowing that we have demonstrate against the law el komhri and macron is for the law work', 'It was so of course being young talk about Jean Marie Le Pen now Marine Le Pen is terrifying for us. ', '...', 'They think me in these such idea that are perfectly safe and for France with a bright future', \"Caron is not its macron baby Holland it'll destroy France \", 'It was better francs', 'He thinks like me.', 'Yes he thinks the same thing as me ', 'They think the same thing as me', 'It was a great thing to help macron', 'It is often and everyone said that Navy the head on the shoulders not as Macron ', 'We are in a department that perfectly illustrates the capitalization of the world and I am not part of the French rich as my friends ', 'No because it for them navy remains a matter of fear and racism ', 'Carns before too immigration and presidential wants to stop its', \"I am you're on my friends think the same thing as me because we have already discuss this point and we said that Le Pen will be better president than uttons because they also believe that we deserve a better France and a better future for our children. \", 'Because it be too have', 'Not opinion on the direction of France take ', 'They are born in a world of the left, as their parents', 'Because marine pen and just', 'My friend pence mele thing because the macron will not help us because it will fuck any and we will in the shit', 'My friends pence macron and a good my otherwise the same thing thing pence me ', 'Yes, because we are young, and that even if young people have not seen their candidate through second round, they are not stupid to go to combat voting for Mrs Le Pen. We believe that the solution lies elsewhere that between these two candidates unfortunately.', \"They think the same thing as me I'm not repeat \", 'I do these pa every opinion', 'Same as me ', 'Because a lot of nobody feels so at the end of the month .. but this is not their problem.', 'I know because my friends and my relatives have not voted Macron but Melenchon. ', 'With some one with whom I have as I think about', \"I don't know.\", 'Because they were sick of president who want elysee ', 'My family think like months is very open to talk without language of wood and even if there projects that I think can never be established his frank talk and a sign of great president ', 'To are program and its arguments.', 'It is the only embody the renewal of the French political life by attacking the regeneration of democracy. It is the only to wear a bold project based on what best in each of us It is the only embody the idea of a France collected and calm ', 'Why not', 'Each has its own opinion and this is personal', 'Caron got the same opinion.', 'No, because for them Navy Pen will be better at levels are programs against employees.', 'For the same reason that I', 'Yes if possible to help us ', 'Because various thing please not in one and in the other ', 'Marine pen is really too racist I think if it is elected we go right to disaster ', 'More positive ', \"I have heard a lot people around me say that Macron was a second Holland was on the side of the rich since it was a banker. So they don't want it and vote for Marine Le Pen \", 'All the world is beginning to see that the media are the law. ', 'You days we hear the same', 'Marine pen wants to eradicate Jews and non-Muslim!! I have many friends Jews and Muslims!!', 'It depends on their opinion but it remains on the same view that I', 'Yes they think like me, tired of living in fear ', 'We are plusieur to think that.  And what we did the most harm is that lively is flouting all that France has previously created by our ancestors. ', 'My friends agree with me because the navy program think closer to the vision of what we want for our country, in order to break the poverty line.', 'They feel the same things because we all have the same point of view ', 'He thinks the same thing in relation to the Pen and therefore even if Macron is not great and its defects it has less than Marine Le Pen and its programme is much more realistic. ', 'For what it pance me even infants ', 'Even opinion', 'My friends come campaign are therefore racist and vote pen', 'Because it ya never had woman president france', 'My friends do not see a woman in power ', 'Yes he feel the maime thing the pen and password equipmcnt why not', 'My entourage Macron will think out and not the Pen because its already all view following the fear of French people', 'They are of the same opinion as me. ', 'Yes he thinks the same thing myself and therefore are convinced that it will be Emmanuel button which will be our Presidents.', 'They have not the same opinion because they are for emigration, and that he cares about the identity of our country.', 'Because thats the truth', 'Yes', 'It depends on people after their thinking and their choice remains every personal fact ', 'Yes because the more we share the same situation and for those that one idea fix on their choice of voting is as bad', 'Marine Le Pen is racist and we want it', 'He think france would be more tranquil a fling that sorting will be done', 'For what it is sick of president he used to nothing and that it needs to move its', 'For some of my friends, they want to vote Lepen because of immigrants because for them they are not normal that they have so come to France while they are at war.  Indeed, we would have been at their places, such that they have.   It would have fled our country is the survival instinct.  The fn treats foreigners and immigrants as if they were above them but what they understand is that we are all equal, this is not the color of skin, its origins or its beliefs that are well.', 'It pence the same choce because it has good IDE for France yaille better', 'Because it is very intelligent ', 'But friends will not vote or white vote ', 'My friends also like me they want France poussr, good right ', 'Oh yes', 'Ben after the debate is a little complicated', 'Because in a economists, none could vote against Macron. They look that the Economic aspects without looking at the social aspects.', 'Yes of course we are OK.', 'Some of my friends think it should leave Europe and return to francs for power up the slope, I think the reverse, France is a country in evolution, and I think back to francs it would erase everything that has been able to build or create the past 15 years. ', 'They do not share the same political ideals. For them, the need is to revive the national economy by local businesses, promote work in France.', 'In principle we agree. The media formats and leaves especially not choose our soul and conscience. ', 'Yes in the majority that is what we believe but I still think it would be better if the Pen password and not rotshilde ah Macron forgiveness ', 'As his', 'View are FN and low I am left I change my ', 'Most of my friends are from the social networks on which I am enrolled and have tired of the various parties that were in power before', 'To make the sort ', 'It think the Pen and racist not all', 'They think that Marine Le Pen is dangerous. For them Macron is a default choice and security for our future. They are afraid of the unknown that is Marine Le Pen. Macron is a vote of reason.', 'Marine Le Pen to good proposal for the French and pence really that this will be better for our country so pretty ', 'No n knowledge and human value to lead a country and its people. Not represent the values of France. ', 'My friends think like me because for them they have the same state of mind that me, we can not vote a person who gonna reduce us to a war', 'My friends are all like me values that agree not with what provides the future president ', 'Yes he thinks the same thing as me', 'My friends are tired of terrorism and youth unemployment', 'Because people are tired and want change', 'It ya of people we look at the debate carefully and my said Pen against other my said acron just because it does not want the Pen is preferred to be in the shit by profit and judgment', 'Opinion of my friends are sharing ...  There are racist with all happening and therefore has a pen other are afraid like me for the people you love and other undecided as me ...  A majority of people want white or abstain side because I feel responsible for what might happen when one or the other will move ', 'My entourage shares my opinion because.  The pen want improved France ', \"Yes because Macron're not enough aloft and strong support the country as France, it's little be young outside but is very old inside.   He has a program that mixes him Sarkozy and Hollande's him. NoU find its disappointing knowing that he speaks only of money but it's things that terrorism that're the most important. \", 'I not c', 'They think the same thing as me That is to say that neither the other are very famous but macron to a small. ', 'Yes ', 'In a country or French feel more French, more home etc... they think it must be a radical change. Resuspend the clocks has the time, stop taking French for assholes. Over on the French and those working legale way and without abusing aid much lower compared to those offered to foreigners who do not advance the country.', 'He thinks the same thing because when you look at the program we know where and the future and a future that we would like to give our children ', 'Caron pence the same thing we change nothing ', 'Because it is a anti eranger', 'He thinks a pen is racist', 'Yes, they think the same thing Because if the pen moves it will be the disaster ', 'It has the same point of view ', 'Because', 'My friends think that me, Marine Le Pen think the trick money or Europe think of France and has had the time to study everything', 'Yes because marine Pena held a speech on these promises to relieve France that will then emmanuel will be even lower macron France. ', 'I think with the shares that there are on social networks. After I do nothing to 100%', \"They're against terrorism more it wants to return to francs because since we're euro l j garlic impression that these just to survive\", 'Quite simply they say the same thing as me', 'E. Macron is a liar and manipulator, which will tell the world that his country is killer .. If it is to be disgusting because go to Algeria say ill of his own country and want to switch to power France is disgusting ..   And yet many other my is already a reason. ', 'Yes, because it was the same conviction and the same vision of the world of politics.', 'All the world is what will happen if the FN password ', 'Because it also think that badge lying and that Madam LE PEN is sincere ', 'My friends are for the Pen because they are angry at the current system.', 'Pence the same thing as me ', 'My friends are mixed but generally think the same thing.', 'I do not ask the opinion of my friends because a vote is a vote discreet and confidential', 'Because marine lepen is contracditoire in what it says', 'Because-it did not speak between friends ..', 'My friends are you too for the party of the right, after I do not know their political opinion', 'They are me that it is the pen that will pass', 'For them the FN is a fascist parties ', 'We have the same political opinions. ', 'Ille likes its policy ', 'Yes because he wants to make new thing in france and has a better future it wants to do things .2', 'In all cases these two candidates are potentially dangerous for France. ', 'She has a big program ', 'Macron ', 'For all the world to a different vision of life and that this spineless so wrong for them to be able to quickly accept all together ', 'It is the only gives a hope has France.', 'Because microbe and better than Madam pen not worth ', 'All my knowledge as I think a change is that we c', 'Yes', 'I agree that the protection is strong in ensiter. What is less attacks, ', 'In early I thought would be its Marine Le Pen because I told them that it is favorite to win the presidential elections but my final choice was to say that Emmanuel Macron will no doubt or at least what I hope President of the Republic for 5 next year.', 'My friends think the same thing, I do not see what I might add!', 'My friends do not think like me because they want Mrs Le Pen is to get all that discomfort in France, relishing it is true that we must strengthen security and make these Fichés from S but who says that Mr Macron will not?', \"I don't know what they think\", 'Because they are on their choice', 'They think like me, Marine LE PEN will save France!', 'Yes', \"I don't know\", 'Because it d want another Holland.', 'Some people have difficulty understanding that the fn has changed and there is more racism free as the temp jean marie Lepen. And Navy 1 genuine program in all areas', 'Yes because my friends are okay with it. ', \"They don't think the same thing parse if they think that Madam Lepen is racist \", 'They think what I just say ', 'He, not think, the same thing', 'My friends think the same ', 'Caron is not. Everyone is his choice', 'Because my clothes are to be Al-Maghariba, or black, or otherwise There are nothing to the policy ', 'Why not think the same things all the French think.', 'He thinks like me ', 'My friends think like me out of the Euro will not wrong and the economy would', 'Yes because France navy will move our country ', \"I don't know\", 'Yes ', 'Yes because it is in the same case as me ', 'Caron has discuss', 'Because it also married his pen', 'Jsp', 'It does not want a president who says who knows all but enfet not know if ', 'It is their point seen in any ', 'He thinks the same thing as me', 'Since they want to vote for him ', \"It's agree with me\", 'The nature', 'It is the same thing as Marine Le Pen and too radical.', 'Not think marine pen is too racist therefore not vote for it', 'Because with macron will choice ', 'He know.', 'Choose France ', 'He thinks the macron Directive will slave and I think it is true, its a dictatorship.', 'Some of my friends feel the same thing as me because he criticized the same thing to Mr. Macron and have the same ideas as me in relation to Madam Pen ', 'Some of my friends think the same but not all. This does not prevent us from staying friend.', 'Yes he want to live and could survive', 'There are lepen sortirat too dr treason for them former president', 'No, because it is a investment banker.', 'Because it thinks like me', 'My friends, French strain or foreign origin are my opinion. They cannot tolerate a state fascist, racist, led by politicians who we would fall directly in the 3rd Reich. ', 'Yes they think the same thing as me ', 'More Democratic', 'Emmanuel Macron and convincing  ', 'There, we live in fear in the belly afraid of being mugged has any time', 'It says its will ke aitre a gerre', 'Yes the same thing as me', 'They think vote Le Pen is to be racist ', 'Their choices are different from mine and I do not ask why it is their choice not mine.', 'It wants change and radical ', 'This seems the best choice possible for France ', 'They think a woman will not', 'There are marine lepen can move the country ', 'Because they want France moves. ', 'My friends think the same thing because they look also debate and thats that saw the ', 'Everyone has an opinion ', 'The friends think like me because the Macron that what he is talking about and we believe that it can do a lot of things changed Mr Macron and very relative and persuasive in its projects', 'Parcequont has confidence in Marine Lepen', 'Yes they have the same opinion ', 'Yes my friends think like me and we believe that with someone like mr macron it is likely that France will have a great change ', 'Most of my relatives also believe that navy can bring us a renewal, and in the current trend of things, we provide more security. They think égaldément macron that we bring nothing good, just more misery while we, as a citizen of middle class, already great difficulty we out.', 'Yes its agreement with moî d ', 'All the same opinion that I', 'It is logical', 'Yes ', 'They have the same choice because life in France becomes too difficult and painful we want all change ', 'They like', 'They will not vote, they care about politics.', 'It think Macron is a continuity of François Hollande and therefore it will not much', ' We in a country sharing LAIQUE shit. Each has these foreign law.', 'Budget management Mr Macron is consistent and thoughtful. It will allow France to evolve and become the great European economic power.', 'Very', 'Yes he thinks the same thing as me', 'Nobody wants to return to his country ', 'Yes he thinks the same thing as me  ', 'For all things j have explained especially for the fact that made it al to develop and that people again.', \"I have not many friends so I can't know what they think\", 'The most convinced that the last debate', 'They think the same thing because they want change and we think a little has the france the country we are and people working who are from families and have request even more money ', 'He thinks its going bad to happen ', 'They think like me ', 'Because he thinks would be worse with it is', 'Each c ideas politique.je respects', 'The pen is too radical ', 'This is all even a sensitive subject to suffice gent, is better keep his choice for me ', 'These are not good candidates ', 'Because they think the same thing as me and because they have to be sick every time you', 'He thinks like me because Macron has nothing against attacks ', 'I started my friends in the navy parties pen because they are like me that it has very good ideas and that it is the only one who can get things because macron government party has doing Holland and 5 years he has not held commitments say.', 'For the same reason that me! ', 'We are in the class ... It will pay', 'They do not see things like me and not think the Pen to move', 'He says true', 'My friends say that if Le Pen is then certainly we will fight against terrorism but aid will be low or nonexistent ... see We want to look for a good job later but if we have no help to finance our studies, how do? Some people cannot work therefore private aid back to private food, housing ....', 'My friends will vote as me because they have not tired that the money goes to the immigrants rather than French. ', 'It is relative.', 'It think the same things for them logic premium criticism', 'They think the Marine Le Pen Immigration and the output of the euro will be favourable to our country. ', 'Because we agreed.', 'Because marine bolt is racist', 'Yes ', 'But friends think this because we have the same point of seen', 'He say change is a us to do and not the President changzment is in their lives and not us ', 'Even answer that question 11.', 'There is no real policy but there is to agree on the fact that we should not vote lepen it leads to hate nothing more ', 'To return to the franc', \"We're talking vaguely ... \", 'Navy good idea but the other candidates does not these ideas ', 'I think navy will win all simply because we cannot leave macron won', 'For the same reason that I', 'Because it is with the person who waves a modest income suffers many think it was us ', 'Some of my friends feel the same thing and other are not because they believe in you Emmanuel macron but good each his vision of things ', 'Each person to different opinions is what we oppose and creates discussions ', 'Because it thinks too immigrated to', 'Netherlands it confidence ', 'My friends do not think the same thing as me because many of them are much influenced by the news and they follow the advice of their entourage who are for Macron.', ' Macron', 'Because we think France needs to someone like her ', 'Because some young people today do not want to work if pole employment offers twice the work to its young is that it refuses to be cancelled its insisteras work.  ', 'The opinions are decide between marine lepen and macron the choice and opinion is the same need to change France and recover our country and if it has a yen that can succeed is marine lepen ', 'Because it is sick of media that give their opinion when they do not have to do so.', 'MacRon we are all in the shit', 'Because I want too ill I party Paris loads a doctor', 'Some of my friends are marine to the pen. I am not saying I n not approved because each his choice and his I respect. But marine pen I think credible things say will not share for the immigration c is the only thing I can understand but I strongly believe that macron is majority in the votes.', 'Combating racism', 'Yes it is the same as me because they wanted to melanchon.', 'Yes they think the same thing because it mounts all the shows against the pen showing the hatred which may have but this hatred c is the French people', 'Not at all', 'Most of my friends and my relatives think the same thing because we weigh the pros and cons ', 'They ensure such pence not work more for a stupid president who knows not to work knows that we have can not se.permetre move his life to speak and make free trip on our conte2', 'They think the same thing as me.', 'My friends think me such ', 'Caron is our future and with macron is poorly blocked', 'The same idea as me', 'No', 'All my entourage and this opinion and vote navy. ', 'Yes he thinks the same thing as Martiniquan I think was our black African ancestor who have suffered so that its yours comes with Madam pen', 'You know, each person has its points of views, some believe that the crisis is the migratory flows and other has the submission france has Europe. Or what I think, is that hes a whole it just sorting and keep that what would be good for us', 'My friends think the same thing because Marine Lepen is really a crook and it must be blind not to see ', 'He tell me that the pen and racist', 'Each his political avi!!', 'The ideas of Mrs Le Pen are not compatible with France', 'My friends are all of the same opinion, we have the twenties, working since the age of our 16ans.  We see that the more time passes more life is complicated few or social class (I do not include all our dear politicians of course!).', 'We have the same way of thinking', 'To the dam F.N.', 'No because that had the FN is a political party of racism ', 'He want to vote the pen because it think macron is 2nd holland but I think it croivent that the pen will leave the French well-functioning', 'He agreed with me, but are not but vote that will change the thing ', 'We have the same point of view but friends to me not thinking as a few years. ', 'They think the same thing that I will be its votes for the dam that FN', 'Yes', 'They think the same thing the National Front not smite ', 'Yes we have the same point of view as we have many ', 'My friends think the same thing because we see the réaliter opposite. We have modest family and we know that if macron password we will still lose our power Pan-Asian', 'Yes he thinks the same thing ', 'Even point of view for all my relatives.     Mr. Lepen should not be in power, or the nation is in grave danger !!!', 'All', 'Yes he think pariel', 'My friends are d agree with me because we think that most marine projects are not well and that encourage hatred has France sharing France and outgoing us l Europe. C is that it takes party Macron', 'Caron has the same opinions ', 'The fact see a banker in power is unthinkable. France would be a plant has currency or the poor will purchasing power to enrichment of the rich. It is for this that I think the French will be Marine Le Pen even if it has not necessarily good ideologies.', 'All my friends would vote Macron for a France better.   They all think it promises for nothing ', 'Fear that Marine Le Pen triggers a civil war', 'Such', 'Reading program and presidential debate ', 'Not my friends think Macron can really managed the economy, which I do not think any ', 'There are of the same opinion because it saves and the only power to ensure that things change ', 'Same thing: Republican Front', 'We avoid talking politics between friends ... At the base we strongly that MR MÉLENCHON have had this time his luck ', 'He understood that save France, they are disappointed by the left and the right then they try something else.', 'Because they are Even notice that I', 'Yes', 'Yes they feel the same things that I ', 'For those who vote FN, many have a global vision of problems France (economy, work, education, terrorism, immigration).     It is quite debatable between us same capacities of achievements of the 140 measures that wishes to Mrs Le Pen.    However, access to supreme power remains a hope and not an idea any made. The harsh reality is undoubtedly the wrong opinion to the people of National Front before observing any program.', 'We are in the same studies and have more or less of the same social environment', 'Yes my friends are of the same opinion that they will vote for me to counter the rise of macron fn', 'It is restore the job for us young', 'By having discussed with them, my remarks and their are identical.', 'Even political edge', 'Most are for Le Pen because they are convinced that it will make things happen, except that they have not understood that this will be worse.', 'People are voted for macron can Lepen are programmed is not very clear', 'No, because they persist in believing that the pen is without heart, she wants to return any foreigners without reason. And they have also governance a woman', 'The same reasoning ', 'Lntuition', 'Psk cest con', \"We have all discussed together and we agree to vote on pen and that's ...\", 'Because people are afraid to pen', 'It has the best program.  ', 'They think that Le Pen is a racist, a fascist, because they only listen to the media.', 'Not the same opinion is is normal ', \"We are French we are Catholic Christian I think it is we should not bow lislam we respect religions and traditions when we are going in other payson must not make efforts while our people are dying I do not see why we should accept the halal in the Muslim religion canteens in schools knowing that France is French and not Muslim if they are not happy that returns home and they live their religion as they To database.the France a country of freedom for the French and not for émigrers who come to enjoy and exercise their rights. We if we're going to Morocco or Algeria should comply with their laws Women should not hide drink alcohol fear of fair lock or torture. I still cannot understand why we respect their country Leroy traditions in word for word and when they go to France we criticize demeans lower than land but against it not bother to take the benefits and our Christmas bonus, but made. That everyone at the same point of equality\", 'They have not tired that we my misery to work for nothing  ', 'The votes before now was the opinion of the French people not interested ', 'He thinks how me ', 'My girlfriend thinks that Mr Macron is very poorly positioned to become president in effect it is the man who has proposed legislation for these last years.  She thinks leave a chance to Ms. Le Pen to see if it will change.', 'For me and my friends we all have the same vision of France today and that we want for our next France', 'Yes the fact that Marine Le Pen has no project for France.', \"Because we're all of the same opinion here together. \", 'Same principle that me be changes things', 'The television made think or believe it ', 'My friends do not necessarily think the same thing as me because we are all different and we have not the same opinions and the same ideas. Despite that we are equal by common values our choices may be different from a person to another. It must therefore respect the choice of each despite our disagreements and our opinions.']\n"
     ]
    }
   ],
   "source": [
    "print(list(dff['Q16-en'][dff[\"Q16-en\"]!=\"\"]))"
   ]
  },
  {
   "cell_type": "markdown",
   "metadata": {},
   "source": [
    "The translations are not the best. Sometimes, they are partially translated. Emmanuel Macron will \"remportet\" this election, according to one answer. Remporter means to win in French. And sometimes they are translated too fully. Marine le Pen is translated to \"Navy\":"
   ]
  },
  {
   "cell_type": "code",
   "execution_count": 209,
   "metadata": {
    "collapsed": false,
    "scrolled": true
   },
   "outputs": [
    {
     "name": "stdout",
     "output_type": "stream",
     "text": [
      "There are 44 responses that refer to Marine le Pen as 'Navy'! For example:\n",
      "['It is often and everyone said that Navy the head on the shoulders not as Macron ', 'No, because for them Navy Pen will be better at levels are programs against employees.', 'Some people have difficulty understanding that the fn has changed and there is more racism free as the temp jean marie Lepen. And Navy 1 genuine program in all areas', 'Navy good idea but the other candidates does not these ideas ']\n"
     ]
    }
   ],
   "source": [
    "matching = [s for s in list(dff['Q16-en'][dff[\"Q16-en\"]!=\"\"]) if 'Navy' in s]\n",
    "matching = matching +  [s for s in list(dff['Q14-en'][dff[\"Q14-en\"]!=\"\"]) if 'Navy' in s]\n",
    "matching = matching +  [s for s in list(dff['Q18-en'][dff[\"Q18-en\"]!=\"\"]) if 'Navy' in s]\n",
    "print(\"There are %s responses that refer to Marine le Pen as 'Navy'! For example:\" % len(matching))\n",
    "print(matching[1:5])"
   ]
  },
  {
   "cell_type": "markdown",
   "metadata": {},
   "source": [
    "But the meaning is clear in many other instances and is enough for our present purposes. "
   ]
  },
  {
   "cell_type": "markdown",
   "metadata": {
    "collapsed": true
   },
   "source": [
    "#### Save this file to csv so we do not have to run Translator again in the future. "
   ]
  },
  {
   "cell_type": "code",
   "execution_count": 35,
   "metadata": {
    "collapsed": false
   },
   "outputs": [],
   "source": [
    "dff.to_csv('survey2_translated.csv', sep=',', encoding='utf-8')"
   ]
  },
  {
   "cell_type": "markdown",
   "metadata": {},
   "source": [
    "#### Then I strip out all text responses from all respondents into one large corpus, like a 'bag of sentences'. \n",
    "\n",
    "(Alternatively, I can analyze the open-ended responses by voting intention and by question, which will take a significantly more time with less reliability in the results due to smaller sample size of only 400 per question. )"
   ]
  },
  {
   "cell_type": "markdown",
   "metadata": {},
   "source": [
    "Start by reading the file saved from before (if loading this from another computer or another time):"
   ]
  },
  {
   "cell_type": "code",
   "execution_count": 25,
   "metadata": {
    "collapsed": false,
    "scrolled": true
   },
   "outputs": [
    {
     "data": {
      "text/html": [
       "<div>\n",
       "<table border=\"1\" class=\"dataframe\">\n",
       "  <thead>\n",
       "    <tr style=\"text-align: right;\">\n",
       "      <th></th>\n",
       "      <th>Unnamed: 0</th>\n",
       "      <th>ID</th>\n",
       "      <th>ID collecteur</th>\n",
       "      <th>Date de début</th>\n",
       "      <th>Date de fin</th>\n",
       "      <th>IP</th>\n",
       "      <th>Q1</th>\n",
       "      <th>Q2</th>\n",
       "      <th>Q3</th>\n",
       "      <th>Q4</th>\n",
       "      <th>Q4-text</th>\n",
       "      <th>Q5</th>\n",
       "      <th>Q5-text</th>\n",
       "      <th>Q6</th>\n",
       "      <th>Q6-text</th>\n",
       "      <th>Q7</th>\n",
       "      <th>Q7-text</th>\n",
       "      <th>Q8</th>\n",
       "      <th>Q9</th>\n",
       "      <th>Q10</th>\n",
       "      <th>Q11</th>\n",
       "      <th>Q12</th>\n",
       "      <th>Q13</th>\n",
       "      <th>Q14</th>\n",
       "      <th>Q15</th>\n",
       "      <th>Q16</th>\n",
       "      <th>Q17</th>\n",
       "      <th>Q18</th>\n",
       "      <th>Q14-en</th>\n",
       "      <th>Q16-en</th>\n",
       "      <th>Q18-en</th>\n",
       "      <th>Q4-en</th>\n",
       "      <th>Q5-en</th>\n",
       "      <th>Q6-en</th>\n",
       "      <th>Q7-en</th>\n",
       "    </tr>\n",
       "  </thead>\n",
       "  <tbody>\n",
       "    <tr>\n",
       "      <th>0</th>\n",
       "      <td>0</td>\n",
       "      <td>6189761401</td>\n",
       "      <td>156443487</td>\n",
       "      <td>2017-05-09 23:01:30</td>\n",
       "      <td>2017-05-09 23:04:21</td>\n",
       "      <td>88.186.14.239</td>\n",
       "      <td>0</td>\n",
       "      <td>moussac9335@yahoo.fr</td>\n",
       "      <td>Macron</td>\n",
       "      <td>0</td>\n",
       "      <td></td>\n",
       "      <td>Cela dépend du candidat</td>\n",
       "      <td></td>\n",
       "      <td>Emmanuel Macron</td>\n",
       "      <td></td>\n",
       "      <td>Très sûr</td>\n",
       "      <td></td>\n",
       "      <td>Non</td>\n",
       "      <td>0</td>\n",
       "      <td></td>\n",
       "      <td></td>\n",
       "      <td></td>\n",
       "      <td></td>\n",
       "      <td></td>\n",
       "      <td></td>\n",
       "      <td></td>\n",
       "      <td></td>\n",
       "      <td></td>\n",
       "      <td></td>\n",
       "      <td></td>\n",
       "      <td></td>\n",
       "      <td></td>\n",
       "      <td></td>\n",
       "      <td></td>\n",
       "      <td></td>\n",
       "    </tr>\n",
       "    <tr>\n",
       "      <th>1</th>\n",
       "      <td>1</td>\n",
       "      <td>6185182074</td>\n",
       "      <td>156443487</td>\n",
       "      <td>2017-05-06 22:07:12</td>\n",
       "      <td>2017-05-06 22:09:50</td>\n",
       "      <td>2.15.151.44</td>\n",
       "      <td>1</td>\n",
       "      <td>harrydu06@hotmail.fr</td>\n",
       "      <td>Le Pen</td>\n",
       "      <td>1</td>\n",
       "      <td></td>\n",
       "      <td>Pas sûr</td>\n",
       "      <td></td>\n",
       "      <td>Marine Le Pen</td>\n",
       "      <td></td>\n",
       "      <td>Pas sûr</td>\n",
       "      <td></td>\n",
       "      <td>Peut-être</td>\n",
       "      <td>1</td>\n",
       "      <td>1</td>\n",
       "      <td>Ce mois-ci</td>\n",
       "      <td>Abstention</td>\n",
       "      <td>Le Pen</td>\n",
       "      <td>On verra</td>\n",
       "      <td>1</td>\n",
       "      <td>Oui</td>\n",
       "      <td>Oui</td>\n",
       "      <td>Oui</td>\n",
       "      <td>It will</td>\n",
       "      <td>Yes</td>\n",
       "      <td>Yes</td>\n",
       "      <td></td>\n",
       "      <td></td>\n",
       "      <td></td>\n",
       "      <td></td>\n",
       "    </tr>\n",
       "    <tr>\n",
       "      <th>2</th>\n",
       "      <td>2</td>\n",
       "      <td>6185012445</td>\n",
       "      <td>156443487</td>\n",
       "      <td>2017-05-06 16:36:46</td>\n",
       "      <td>2017-05-06 16:45:08</td>\n",
       "      <td>90.5.58.183</td>\n",
       "      <td>1</td>\n",
       "      <td>soledition@gmail.com</td>\n",
       "      <td>Le Pen</td>\n",
       "      <td>1</td>\n",
       "      <td></td>\n",
       "      <td>Très sûr</td>\n",
       "      <td></td>\n",
       "      <td>Marine Le Pen</td>\n",
       "      <td></td>\n",
       "      <td>Très sûr</td>\n",
       "      <td></td>\n",
       "      <td>Non</td>\n",
       "      <td>0</td>\n",
       "      <td></td>\n",
       "      <td></td>\n",
       "      <td></td>\n",
       "      <td>Macron</td>\n",
       "      <td>Une élection majoritairement d'opposition à un...</td>\n",
       "      <td>0</td>\n",
       "      <td>Une colère et un râle bol général des conditio...</td>\n",
       "      <td>Non</td>\n",
       "      <td>La radicalité  n'est pas une solution en soit ...</td>\n",
       "      <td>A majority of opposition to an election party ...</td>\n",
       "      <td>An anger and a rattle bowl general living cond...</td>\n",
       "      <td>The radicalism is not a solution for long term...</td>\n",
       "      <td></td>\n",
       "      <td></td>\n",
       "      <td></td>\n",
       "      <td></td>\n",
       "    </tr>\n",
       "    <tr>\n",
       "      <th>3</th>\n",
       "      <td>3</td>\n",
       "      <td>6184748911</td>\n",
       "      <td>156443487</td>\n",
       "      <td>2017-05-06 09:03:49</td>\n",
       "      <td>2017-05-06 09:11:30</td>\n",
       "      <td>92.90.23.25</td>\n",
       "      <td>0</td>\n",
       "      <td>Jadeetmael@hotmail.fr</td>\n",
       "      <td>Melenchon</td>\n",
       "      <td>0</td>\n",
       "      <td></td>\n",
       "      <td>Autre (veuillez préciser)</td>\n",
       "      <td>Je ne me suis pas inscrit</td>\n",
       "      <td>Blanc</td>\n",
       "      <td>Je n'apprécie ni lun ni l'autre</td>\n",
       "      <td>Très sûr</td>\n",
       "      <td></td>\n",
       "      <td>Non</td>\n",
       "      <td>0</td>\n",
       "      <td></td>\n",
       "      <td></td>\n",
       "      <td></td>\n",
       "      <td></td>\n",
       "      <td></td>\n",
       "      <td></td>\n",
       "      <td></td>\n",
       "      <td></td>\n",
       "      <td></td>\n",
       "      <td></td>\n",
       "      <td></td>\n",
       "      <td></td>\n",
       "      <td></td>\n",
       "      <td>I am not registered</td>\n",
       "      <td>I appreciate nor sun nor the other</td>\n",
       "      <td></td>\n",
       "    </tr>\n",
       "    <tr>\n",
       "      <th>4</th>\n",
       "      <td>4</td>\n",
       "      <td>6184653695</td>\n",
       "      <td>156443487</td>\n",
       "      <td>2017-05-06 04:46:44</td>\n",
       "      <td>2017-05-06 04:54:53</td>\n",
       "      <td>89.157.40.123</td>\n",
       "      <td>1</td>\n",
       "      <td>kyzer7@hotmail.fr</td>\n",
       "      <td>Fillon</td>\n",
       "      <td>1</td>\n",
       "      <td></td>\n",
       "      <td>Très sûr</td>\n",
       "      <td></td>\n",
       "      <td>Emmanuel Macron</td>\n",
       "      <td></td>\n",
       "      <td>Très sûr</td>\n",
       "      <td></td>\n",
       "      <td>Non</td>\n",
       "      <td>1</td>\n",
       "      <td>1</td>\n",
       "      <td>Ce mois-ci</td>\n",
       "      <td>Abstention</td>\n",
       "      <td>Macron</td>\n",
       "      <td>La France n'est pas prête d'accueillir une fem...</td>\n",
       "      <td>0</td>\n",
       "      <td></td>\n",
       "      <td>Non</td>\n",
       "      <td>Je pense que les 2 candidats n'aideront pas la...</td>\n",
       "      <td>France is not ready to host a woman in power a...</td>\n",
       "      <td></td>\n",
       "      <td>I think the 2 candidates will not France. Toda...</td>\n",
       "      <td></td>\n",
       "      <td></td>\n",
       "      <td></td>\n",
       "      <td></td>\n",
       "    </tr>\n",
       "  </tbody>\n",
       "</table>\n",
       "</div>"
      ],
      "text/plain": [
       "   Unnamed: 0          ID  ID collecteur        Date de début  \\\n",
       "0           0  6189761401      156443487  2017-05-09 23:01:30   \n",
       "1           1  6185182074      156443487  2017-05-06 22:07:12   \n",
       "2           2  6185012445      156443487  2017-05-06 16:36:46   \n",
       "3           3  6184748911      156443487  2017-05-06 09:03:49   \n",
       "4           4  6184653695      156443487  2017-05-06 04:46:44   \n",
       "\n",
       "           Date de fin             IP Q1                     Q2         Q3 Q4  \\\n",
       "0  2017-05-09 23:04:21  88.186.14.239  0   moussac9335@yahoo.fr     Macron  0   \n",
       "1  2017-05-06 22:09:50    2.15.151.44  1   harrydu06@hotmail.fr     Le Pen  1   \n",
       "2  2017-05-06 16:45:08    90.5.58.183  1  soledition@gmail.com      Le Pen  1   \n",
       "3  2017-05-06 09:11:30    92.90.23.25  0  Jadeetmael@hotmail.fr  Melenchon  0   \n",
       "4  2017-05-06 04:54:53  89.157.40.123  1      kyzer7@hotmail.fr     Fillon  1   \n",
       "\n",
       "  Q4-text                         Q5                    Q5-text  \\\n",
       "0            Cela dépend du candidat                              \n",
       "1                            Pas sûr                              \n",
       "2                           Très sûr                              \n",
       "3          Autre (veuillez préciser)  Je ne me suis pas inscrit   \n",
       "4                           Très sûr                              \n",
       "\n",
       "                Q6                           Q6-text        Q7 Q7-text  \\\n",
       "0  Emmanuel Macron                                    Très sûr           \n",
       "1    Marine Le Pen                                     Pas sûr           \n",
       "2    Marine Le Pen                                    Très sûr           \n",
       "3            Blanc  Je n'apprécie ni lun ni l'autre   Très sûr           \n",
       "4  Emmanuel Macron                                    Très sûr           \n",
       "\n",
       "          Q8 Q9 Q10         Q11         Q12     Q13  \\\n",
       "0        Non  0                                       \n",
       "1  Peut-être  1   1  Ce mois-ci  Abstention  Le Pen   \n",
       "2        Non  0                              Macron   \n",
       "3        Non  0                                       \n",
       "4        Non  1   1  Ce mois-ci  Abstention  Macron   \n",
       "\n",
       "                                                 Q14 Q15  \\\n",
       "0                                                          \n",
       "1                                           On verra   1   \n",
       "2  Une élection majoritairement d'opposition à un...   0   \n",
       "3                                                          \n",
       "4  La France n'est pas prête d'accueillir une fem...   0   \n",
       "\n",
       "                                                 Q16  Q17  \\\n",
       "0                                                           \n",
       "1                                                Oui  Oui   \n",
       "2  Une colère et un râle bol général des conditio...  Non   \n",
       "3                                                           \n",
       "4                                                     Non   \n",
       "\n",
       "                                                 Q18  \\\n",
       "0                                                      \n",
       "1                                                Oui   \n",
       "2  La radicalité  n'est pas une solution en soit ...   \n",
       "3                                                      \n",
       "4  Je pense que les 2 candidats n'aideront pas la...   \n",
       "\n",
       "                                              Q14-en  \\\n",
       "0                                                      \n",
       "1                                            It will   \n",
       "2  A majority of opposition to an election party ...   \n",
       "3                                                      \n",
       "4  France is not ready to host a woman in power a...   \n",
       "\n",
       "                                              Q16-en  \\\n",
       "0                                                      \n",
       "1                                                Yes   \n",
       "2  An anger and a rattle bowl general living cond...   \n",
       "3                                                      \n",
       "4                                                      \n",
       "\n",
       "                                              Q18-en Q4-en  \\\n",
       "0                                                            \n",
       "1                                                Yes         \n",
       "2  The radicalism is not a solution for long term...         \n",
       "3                                                            \n",
       "4  I think the 2 candidates will not France. Toda...         \n",
       "\n",
       "                 Q5-en                                Q6-en Q7-en  \n",
       "0                                                                  \n",
       "1                                                                  \n",
       "2                                                                  \n",
       "3  I am not registered  I appreciate nor sun nor the other         \n",
       "4                                                                  "
      ]
     },
     "execution_count": 25,
     "metadata": {},
     "output_type": "execute_result"
    }
   ],
   "source": [
    "dff=pd.read_csv(\"../data/survey2_translated.csv\", encoding=\"utf-8\", low_memory=False,infer_datetime_format=True)\n",
    "dff=dff.fillna(\"\")\n",
    "dff.head()"
   ]
  },
  {
   "cell_type": "markdown",
   "metadata": {},
   "source": [
    "Then I rip all the translations into a new list. "
   ]
  },
  {
   "cell_type": "code",
   "execution_count": 26,
   "metadata": {
    "collapsed": true
   },
   "outputs": [
    {
     "name": "stdout",
     "output_type": "stream",
     "text": [
      "Q4-en\n",
      "Q5-en\n",
      "Q6-en\n",
      "Q7-en\n",
      "Q14-en\n",
      "Q16-en\n",
      "Q18-en\n"
     ]
    }
   ],
   "source": [
    "list_en=['Q4-en','Q5-en','Q6-en','Q7-en','Q14-en','Q16-en','Q18-en']\n",
    "\n",
    "alltext = []\n",
    "    \n",
    "for question in list_en: \n",
    "        print(question)\n",
    "        alltext = alltext + list(dff[question][dff[question]!=\"\"]) "
   ]
  },
  {
   "cell_type": "markdown",
   "metadata": {},
   "source": [
    "Taking a look at what we've got here! "
   ]
  },
  {
   "cell_type": "code",
   "execution_count": 27,
   "metadata": {
    "collapsed": false
   },
   "outputs": [
    {
     "data": {
      "text/plain": [
       "[\"Yes because Macron're not enough aloft and strong support the country as France, it's little be young outside but is very old inside.   He has a program that mixes him Sarkozy and Hollande's him. NoU find its disappointing knowing that he speaks only of money but it's things that terrorism that're the most important. \",\n",
       " \"I don't know what they think\",\n",
       " 'It is often and everyone said that Navy the head on the shoulders not as Macron ',\n",
       " 'I am a Melenchon newsletter',\n",
       " 'I think this will be Macron because most people who will vote for him will only make the FN dam ',\n",
       " 'Yes ',\n",
       " 'They think the Marine Le Pen Immigration and the output of the euro will be favourable to our country. ',\n",
       " 'Each his political avi!!',\n",
       " 'Finally the right change. ',\n",
       " 'He thinks like me because Macron has nothing against attacks ']"
      ]
     },
     "execution_count": 27,
     "metadata": {},
     "output_type": "execute_result"
    }
   ],
   "source": [
    "import random \n",
    "random.sample(alltext, 10)"
   ]
  },
  {
   "cell_type": "code",
   "execution_count": 89,
   "metadata": {
    "collapsed": false
   },
   "outputs": [
    {
     "name": "stdout",
     "output_type": "stream",
     "text": [
      "The above is just a sampling of 1635 total responses.\n"
     ]
    }
   ],
   "source": [
    "print(\"The above is just a sampling of %s total responses.\" %len(alltext))"
   ]
  },
  {
   "cell_type": "markdown",
   "metadata": {},
   "source": [
    "# Tone Analyzer"
   ]
  },
  {
   "cell_type": "code",
   "execution_count": 34,
   "metadata": {
    "collapsed": false
   },
   "outputs": [
    {
     "name": "stdout",
     "output_type": "stream",
     "text": [
      "conversation username:\n",
      "········\n",
      "conversation password:\n",
      "········\n"
     ]
    }
   ],
   "source": [
    "import getpass\n",
    "print(\"conversation username:\")\n",
    "username = getpass.getpass()\n",
    "\n",
    "print(\"conversation password:\")\n",
    "password = getpass.getpass()\n",
    "\n",
    "#do not run this as I have already saved the output in the data/ folder"
   ]
  },
  {
   "cell_type": "code",
   "execution_count": 35,
   "metadata": {
    "collapsed": false
   },
   "outputs": [],
   "source": [
    "tone_analyzer = ToneAnalyzerV3(\n",
    "   username=username,\n",
    "   password=password,\n",
    "   version='2016-05-19')\n",
    "\n",
    "def parse_toneanalyzer_response(json_data):\n",
    "    \"\"\"Parses the JSON response from ToneAnalyzer to return\n",
    "    a dictionary of emotions and their corresponding score.\n",
    "\n",
    "    Parameters\n",
    "    ----------\n",
    "    json_data: {dict} a json response from ToneAnalyzer (see Notes)\n",
    "\n",
    "    Returns\n",
    "    -------\n",
    "    dict : a {dict} whose keys are emotion ids and values are their corresponding score.\n",
    "\n",
    "    Notes\n",
    "    -----\n",
    "    for an example of json see type pytest_data/tones_1.json\n",
    "    \"\"\"\n",
    "    emotions = {}\n",
    "    for entry in json_data['document_tone']['tone_categories']:\n",
    "        if entry['category_id'] == 'emotion_tone':\n",
    "            for emotion in entry['tones']:\n",
    "                emotion_key = emotion['tone_name']\n",
    "                emotion_value = emotion['score']\n",
    "                emotions[emotion_key] = emotion_value\n",
    "    return(emotions)"
   ]
  },
  {
   "cell_type": "markdown",
   "metadata": {},
   "source": [
    "\"France is not ready to host a woman in power\" has 40% joy and 40% disgust - an interesting mix:"
   ]
  },
  {
   "cell_type": "code",
   "execution_count": 134,
   "metadata": {
    "collapsed": false
   },
   "outputs": [
    {
     "name": "stdout",
     "output_type": "stream",
     "text": [
      "{'Anger': 0.04737, 'Disgust': 0.389663, 'Fear': 0.030071, 'Joy': 0.397983, 'Sadness': 0.205372}\n"
     ]
    },
    {
     "data": {
      "text/plain": [
       "[{'category_id': 'emotion_tone',\n",
       "  'category_name': 'Emotion Tone',\n",
       "  'tones': [{'score': 0.04737, 'tone_id': 'anger', 'tone_name': 'Anger'},\n",
       "   {'score': 0.389663, 'tone_id': 'disgust', 'tone_name': 'Disgust'},\n",
       "   {'score': 0.030071, 'tone_id': 'fear', 'tone_name': 'Fear'},\n",
       "   {'score': 0.397983, 'tone_id': 'joy', 'tone_name': 'Joy'},\n",
       "   {'score': 0.205372, 'tone_id': 'sadness', 'tone_name': 'Sadness'}]},\n",
       " {'category_id': 'language_tone',\n",
       "  'category_name': 'Language Tone',\n",
       "  'tones': [{'score': 0.0, 'tone_id': 'analytical', 'tone_name': 'Analytical'},\n",
       "   {'score': 0.0, 'tone_id': 'confident', 'tone_name': 'Confident'},\n",
       "   {'score': 0.0, 'tone_id': 'tentative', 'tone_name': 'Tentative'}]},\n",
       " {'category_id': 'social_tone',\n",
       "  'category_name': 'Social Tone',\n",
       "  'tones': [{'score': 0.165197,\n",
       "    'tone_id': 'openness_big5',\n",
       "    'tone_name': 'Openness'},\n",
       "   {'score': 0.487946,\n",
       "    'tone_id': 'conscientiousness_big5',\n",
       "    'tone_name': 'Conscientiousness'},\n",
       "   {'score': 0.87161,\n",
       "    'tone_id': 'extraversion_big5',\n",
       "    'tone_name': 'Extraversion'},\n",
       "   {'score': 0.368839,\n",
       "    'tone_id': 'agreeableness_big5',\n",
       "    'tone_name': 'Agreeableness'},\n",
       "   {'score': 0.661034,\n",
       "    'tone_id': 'emotional_range_big5',\n",
       "    'tone_name': 'Emotional Range'}]}]"
      ]
     },
     "execution_count": 134,
     "metadata": {},
     "output_type": "execute_result"
    }
   ],
   "source": [
    "json_response = tone_analyzer.tone(text=\"France is not ready to host a woman in power\")\n",
    "print(parse_toneanalyzer_response(json_response))\n",
    "json_response['document_tone']['tone_categories']"
   ]
  },
  {
   "cell_type": "markdown",
   "metadata": {},
   "source": [
    "You can see that ToneAnalyzer gives us three types of \"Tones\": Emotion Tone, Language Tone, and Social Tone. We are going to extract just emotion_tone using the function parse_toneanalyzer_response() defined in the earlier cell.\n",
    "\n",
    "\n",
    "Further, understand the limitations for the Tone Analyzer - finding 'tone' where there is none, as I show below. This poses a problem. ** There is no notion of statistical significance for these 'emotions'.** Since we are just 'playing' with the API here, we take our results with a grain of salt. \n",
    "\n"
   ]
  },
  {
   "cell_type": "code",
   "execution_count": 135,
   "metadata": {
    "collapsed": false
   },
   "outputs": [
    {
     "name": "stdout",
     "output_type": "stream",
     "text": [
      "{'Anger': 0.208284, 'Disgust': 0.048741, 'Fear': 0.274484, 'Joy': 0.162929, 'Sadness': 0.165661}\n"
     ]
    }
   ],
   "source": [
    "json_response = tone_analyzer.tone(text=\"testing one two three\")\n",
    "print(parse_toneanalyzer_response(json_response))"
   ]
  },
  {
   "cell_type": "markdown",
   "metadata": {},
   "source": [
    "Next, I extract the responses that refer to either Marine le Pen or Macron by name into new lists `lepen` and `macron`. "
   ]
  },
  {
   "cell_type": "code",
   "execution_count": 39,
   "metadata": {
    "collapsed": false
   },
   "outputs": [
    {
     "name": "stdout",
     "output_type": "stream",
     "text": [
      "There are 239 responses that refer to Marine le Pen. For example:\n",
      "[\"Basically I am not agree with the person who is etai elected, dėjà because it tell us something will not hold, will leave the rule unnecessary. I can't understand how why today our French we vote for this kind of president more than it was ripped off the state ..... jhaluccine Marine pen and a fashiste while normally we should be in the laicitė respect for each other, normally a sadistic racist person it does not power my it encloses, And macron is not better than it. 2.\", 'I pance that its navy will lepen will parsque simply emanuelle pete macron above his ass and pance that compare him to Navy lepan moin wants to move the france soetir up to the economic downturn shit my opinion', 'Because marine Pen and a person too much frank we believe in these proposals sometimes in the exercise my are ossi good for all the French back ', 'I think his will because Macron Marine pen is a danger to france.', 'Parceaus Marine Lepen wants to save the france']\n"
     ]
    }
   ],
   "source": [
    "lepen_token = ['Navy','Marine','Pen']\n",
    "lepen = []\n",
    "\n",
    "for token in lepen_token: \n",
    "    lepen = lepen + [s for s in list(alltext) if token in s]\n",
    "        \n",
    "lepen = set(lepen)\n",
    "print(\"There are %s responses that refer to Marine le Pen. For example:\" % len(lepen))\n",
    "print(random.sample(lepen,5))\n"
   ]
  },
  {
   "cell_type": "code",
   "execution_count": 40,
   "metadata": {
    "collapsed": false
   },
   "outputs": [
    {
     "name": "stdout",
     "output_type": "stream",
     "text": [
      "There are 113 responses that refer to Emmanuel Macron. For example:\n",
      "['I think his will because despite macron is error past he has a good program ', 'I think macron will president because many other candidate we asked their constituents not to vote the pen, the national front scares many French but the change is scary but this is not as a bad thing is why I vote Marine Le Pen ', 'So it will macron will win because the media want to be him and we know that his media decide. ', 'Neither the penni macron', 'Mr macron might win because marine lepen the last debate is decridibiliser from French and more sint cest show very childish behavior']\n"
     ]
    }
   ],
   "source": [
    "macron_token = ['macron','emmanuel','emanuel',\"Marcrin\"]\n",
    "macron = []\n",
    "\n",
    "for token in macron_token: \n",
    "    macron = macron + [s for s in list(alltext) if token in s]\n",
    "        \n",
    "macron=set(macron)\n",
    "print(\"There are %s responses that refer to Emmanuel Macron. For example:\" % len(macron))\n",
    "print(random.sample(macron,5))\n"
   ]
  },
  {
   "cell_type": "markdown",
   "metadata": {},
   "source": [
    "Then, I set up a DataFrame (`lepen_parsed` and `macron_parsed`), with a column containing each response that mentions either subject. These DataFrames will eventually store the emotion tone ratings.\n",
    "\n",
    "I then set up a dictionary that will hold the emotion tone ratings with `parse_toneanalyzer_response()`."
   ]
  },
  {
   "cell_type": "code",
   "execution_count": 41,
   "metadata": {
    "collapsed": false
   },
   "outputs": [],
   "source": [
    "lepen_parsed = pd.DataFrame()\n",
    "lepen_parsed[\"text\"]=list(lepen)\n",
    "lepen_parsed\n",
    "\n",
    "lepen_dict = {}\n",
    "\n",
    "for index, row in lepen_parsed.iterrows(): \n",
    "    response = tone_analyzer.tone(text=row[\"text\"])\n",
    "    lepen_dict[row[0]]=parse_toneanalyzer_response(response)\n",
    "#check the index is ok"
   ]
  },
  {
   "cell_type": "code",
   "execution_count": 42,
   "metadata": {
    "collapsed": false
   },
   "outputs": [
    {
     "data": {
      "text/plain": [
       "239"
      ]
     },
     "execution_count": 42,
     "metadata": {},
     "output_type": "execute_result"
    }
   ],
   "source": [
    "len(lepen_dict.items())"
   ]
  },
  {
   "cell_type": "markdown",
   "metadata": {},
   "source": [
    "Then I extract the emotion ratings into the DataFrame. "
   ]
  },
  {
   "cell_type": "code",
   "execution_count": 113,
   "metadata": {
    "collapsed": false
   },
   "outputs": [],
   "source": [
    "emotions =['joy', 'anger', 'fear', 'sadness', 'disgust']"
   ]
  },
  {
   "cell_type": "code",
   "execution_count": 110,
   "metadata": {
    "collapsed": true
   },
   "outputs": [],
   "source": [
    "for emote in emotions:\n",
    "    lepen_parsed[emote] = lepen_parsed['text'].map(lambda x : lepen_dict[x].get(emote.title(),0.0))"
   ]
  },
  {
   "cell_type": "code",
   "execution_count": 111,
   "metadata": {
    "collapsed": false
   },
   "outputs": [
    {
     "data": {
      "text/html": [
       "<div>\n",
       "<table border=\"1\" class=\"dataframe\">\n",
       "  <thead>\n",
       "    <tr style=\"text-align: right;\">\n",
       "      <th></th>\n",
       "      <th>joy</th>\n",
       "      <th>anger</th>\n",
       "      <th>fear</th>\n",
       "      <th>sadness</th>\n",
       "      <th>disgust</th>\n",
       "    </tr>\n",
       "  </thead>\n",
       "  <tbody>\n",
       "    <tr>\n",
       "      <th>count</th>\n",
       "      <td>239.000000</td>\n",
       "      <td>239.000000</td>\n",
       "      <td>239.000000</td>\n",
       "      <td>239.000000</td>\n",
       "      <td>239.000000</td>\n",
       "    </tr>\n",
       "    <tr>\n",
       "      <th>mean</th>\n",
       "      <td>0.265535</td>\n",
       "      <td>0.198189</td>\n",
       "      <td>0.220312</td>\n",
       "      <td>0.225838</td>\n",
       "      <td>0.125129</td>\n",
       "    </tr>\n",
       "    <tr>\n",
       "      <th>std</th>\n",
       "      <td>0.203124</td>\n",
       "      <td>0.147702</td>\n",
       "      <td>0.228768</td>\n",
       "      <td>0.157149</td>\n",
       "      <td>0.120666</td>\n",
       "    </tr>\n",
       "    <tr>\n",
       "      <th>min</th>\n",
       "      <td>0.000000</td>\n",
       "      <td>0.000000</td>\n",
       "      <td>0.000000</td>\n",
       "      <td>0.000000</td>\n",
       "      <td>0.000000</td>\n",
       "    </tr>\n",
       "    <tr>\n",
       "      <th>25%</th>\n",
       "      <td>0.087012</td>\n",
       "      <td>0.093048</td>\n",
       "      <td>0.078977</td>\n",
       "      <td>0.108020</td>\n",
       "      <td>0.042467</td>\n",
       "    </tr>\n",
       "    <tr>\n",
       "      <th>50%</th>\n",
       "      <td>0.225105</td>\n",
       "      <td>0.159921</td>\n",
       "      <td>0.139709</td>\n",
       "      <td>0.185714</td>\n",
       "      <td>0.081719</td>\n",
       "    </tr>\n",
       "    <tr>\n",
       "      <th>75%</th>\n",
       "      <td>0.407288</td>\n",
       "      <td>0.256494</td>\n",
       "      <td>0.226513</td>\n",
       "      <td>0.318936</td>\n",
       "      <td>0.159327</td>\n",
       "    </tr>\n",
       "    <tr>\n",
       "      <th>max</th>\n",
       "      <td>0.832510</td>\n",
       "      <td>0.846985</td>\n",
       "      <td>0.947475</td>\n",
       "      <td>0.787171</td>\n",
       "      <td>0.680355</td>\n",
       "    </tr>\n",
       "  </tbody>\n",
       "</table>\n",
       "</div>"
      ],
      "text/plain": [
       "              joy       anger        fear     sadness     disgust\n",
       "count  239.000000  239.000000  239.000000  239.000000  239.000000\n",
       "mean     0.265535    0.198189    0.220312    0.225838    0.125129\n",
       "std      0.203124    0.147702    0.228768    0.157149    0.120666\n",
       "min      0.000000    0.000000    0.000000    0.000000    0.000000\n",
       "25%      0.087012    0.093048    0.078977    0.108020    0.042467\n",
       "50%      0.225105    0.159921    0.139709    0.185714    0.081719\n",
       "75%      0.407288    0.256494    0.226513    0.318936    0.159327\n",
       "max      0.832510    0.846985    0.947475    0.787171    0.680355"
      ]
     },
     "execution_count": 111,
     "metadata": {},
     "output_type": "execute_result"
    }
   ],
   "source": [
    "lepen_parsed.describe()\n",
    "#lepen_parsed.head()"
   ]
  },
  {
   "cell_type": "code",
   "execution_count": 45,
   "metadata": {
    "collapsed": true
   },
   "outputs": [],
   "source": [
    "macron_parsed = pd.DataFrame()\n",
    "macron_parsed[\"text\"]=list(macron)\n",
    "macron_parsed\n",
    "\n",
    "macron_dict = {}\n",
    "\n",
    "for index, row in macron_parsed.iterrows(): \n",
    "    response = tone_analyzer.tone(text=row[\"text\"])\n",
    "    macron_dict[row[0]]=parse_toneanalyzer_response(response)"
   ]
  },
  {
   "cell_type": "code",
   "execution_count": 115,
   "metadata": {
    "collapsed": false
   },
   "outputs": [
    {
     "data": {
      "text/html": [
       "<div>\n",
       "<table border=\"1\" class=\"dataframe\">\n",
       "  <thead>\n",
       "    <tr style=\"text-align: right;\">\n",
       "      <th></th>\n",
       "      <th>joy</th>\n",
       "      <th>anger</th>\n",
       "      <th>fear</th>\n",
       "      <th>sadness</th>\n",
       "      <th>disgust</th>\n",
       "    </tr>\n",
       "  </thead>\n",
       "  <tbody>\n",
       "    <tr>\n",
       "      <th>count</th>\n",
       "      <td>113.000000</td>\n",
       "      <td>113.000000</td>\n",
       "      <td>113.000000</td>\n",
       "      <td>113.000000</td>\n",
       "      <td>113.000000</td>\n",
       "    </tr>\n",
       "    <tr>\n",
       "      <th>mean</th>\n",
       "      <td>0.283225</td>\n",
       "      <td>0.183151</td>\n",
       "      <td>0.176232</td>\n",
       "      <td>0.259235</td>\n",
       "      <td>0.135305</td>\n",
       "    </tr>\n",
       "    <tr>\n",
       "      <th>std</th>\n",
       "      <td>0.251851</td>\n",
       "      <td>0.152070</td>\n",
       "      <td>0.200202</td>\n",
       "      <td>0.197699</td>\n",
       "      <td>0.128246</td>\n",
       "    </tr>\n",
       "    <tr>\n",
       "      <th>min</th>\n",
       "      <td>0.004074</td>\n",
       "      <td>0.005711</td>\n",
       "      <td>0.008198</td>\n",
       "      <td>0.003323</td>\n",
       "      <td>0.000478</td>\n",
       "    </tr>\n",
       "    <tr>\n",
       "      <th>25%</th>\n",
       "      <td>0.077776</td>\n",
       "      <td>0.068383</td>\n",
       "      <td>0.062140</td>\n",
       "      <td>0.114420</td>\n",
       "      <td>0.047188</td>\n",
       "    </tr>\n",
       "    <tr>\n",
       "      <th>50%</th>\n",
       "      <td>0.170792</td>\n",
       "      <td>0.149392</td>\n",
       "      <td>0.104692</td>\n",
       "      <td>0.196247</td>\n",
       "      <td>0.091471</td>\n",
       "    </tr>\n",
       "    <tr>\n",
       "      <th>75%</th>\n",
       "      <td>0.467430</td>\n",
       "      <td>0.251022</td>\n",
       "      <td>0.193768</td>\n",
       "      <td>0.351803</td>\n",
       "      <td>0.180845</td>\n",
       "    </tr>\n",
       "    <tr>\n",
       "      <th>max</th>\n",
       "      <td>0.896510</td>\n",
       "      <td>0.902728</td>\n",
       "      <td>0.883096</td>\n",
       "      <td>0.828449</td>\n",
       "      <td>0.638940</td>\n",
       "    </tr>\n",
       "  </tbody>\n",
       "</table>\n",
       "</div>"
      ],
      "text/plain": [
       "              joy       anger        fear     sadness     disgust\n",
       "count  113.000000  113.000000  113.000000  113.000000  113.000000\n",
       "mean     0.283225    0.183151    0.176232    0.259235    0.135305\n",
       "std      0.251851    0.152070    0.200202    0.197699    0.128246\n",
       "min      0.004074    0.005711    0.008198    0.003323    0.000478\n",
       "25%      0.077776    0.068383    0.062140    0.114420    0.047188\n",
       "50%      0.170792    0.149392    0.104692    0.196247    0.091471\n",
       "75%      0.467430    0.251022    0.193768    0.351803    0.180845\n",
       "max      0.896510    0.902728    0.883096    0.828449    0.638940"
      ]
     },
     "execution_count": 115,
     "metadata": {},
     "output_type": "execute_result"
    }
   ],
   "source": [
    "for emote in emotions:\n",
    "    macron_parsed[emote] = macron_parsed['text'].map(lambda x : macron_dict[x].get(emote.title(),0.0))\n",
    "\n",
    "macron_parsed.describe()"
   ]
  },
  {
   "cell_type": "code",
   "execution_count": 116,
   "metadata": {
    "collapsed": false
   },
   "outputs": [
    {
     "data": {
      "text/html": [
       "<div>\n",
       "<table border=\"1\" class=\"dataframe\">\n",
       "  <thead>\n",
       "    <tr style=\"text-align: right;\">\n",
       "      <th></th>\n",
       "      <th>text</th>\n",
       "      <th>joy</th>\n",
       "      <th>anger</th>\n",
       "      <th>fear</th>\n",
       "      <th>sadness</th>\n",
       "      <th>disgust</th>\n",
       "      <th>person</th>\n",
       "    </tr>\n",
       "  </thead>\n",
       "  <tbody>\n",
       "    <tr>\n",
       "      <th>0</th>\n",
       "      <td>Mr. Macron must win this election because if i...</td>\n",
       "      <td>0.515848</td>\n",
       "      <td>0.317362</td>\n",
       "      <td>0.160446</td>\n",
       "      <td>0.049720</td>\n",
       "      <td>0.036015</td>\n",
       "      <td>macron</td>\n",
       "    </tr>\n",
       "    <tr>\n",
       "      <th>1</th>\n",
       "      <td>It has very interesting ideas in relation to F...</td>\n",
       "      <td>0.502424</td>\n",
       "      <td>0.229468</td>\n",
       "      <td>0.076863</td>\n",
       "      <td>0.163919</td>\n",
       "      <td>0.066818</td>\n",
       "      <td>macron</td>\n",
       "    </tr>\n",
       "    <tr>\n",
       "      <th>2</th>\n",
       "      <td>My friends think the same thing because we see...</td>\n",
       "      <td>0.162405</td>\n",
       "      <td>0.226234</td>\n",
       "      <td>0.080372</td>\n",
       "      <td>0.657589</td>\n",
       "      <td>0.024206</td>\n",
       "      <td>macron</td>\n",
       "    </tr>\n",
       "    <tr>\n",
       "      <th>3</th>\n",
       "      <td>Ms. pen knows well what macron is is that the ...</td>\n",
       "      <td>0.058542</td>\n",
       "      <td>0.306898</td>\n",
       "      <td>0.152962</td>\n",
       "      <td>0.378809</td>\n",
       "      <td>0.095679</td>\n",
       "      <td>macron</td>\n",
       "    </tr>\n",
       "    <tr>\n",
       "      <th>4</th>\n",
       "      <td>Because with macron will choice</td>\n",
       "      <td>0.566024</td>\n",
       "      <td>0.048972</td>\n",
       "      <td>0.104692</td>\n",
       "      <td>0.171061</td>\n",
       "      <td>0.052233</td>\n",
       "      <td>macron</td>\n",
       "    </tr>\n",
       "  </tbody>\n",
       "</table>\n",
       "</div>"
      ],
      "text/plain": [
       "                                                text       joy     anger  \\\n",
       "0  Mr. Macron must win this election because if i...  0.515848  0.317362   \n",
       "1  It has very interesting ideas in relation to F...  0.502424  0.229468   \n",
       "2  My friends think the same thing because we see...  0.162405  0.226234   \n",
       "3  Ms. pen knows well what macron is is that the ...  0.058542  0.306898   \n",
       "4                   Because with macron will choice   0.566024  0.048972   \n",
       "\n",
       "       fear   sadness   disgust  person  \n",
       "0  0.160446  0.049720  0.036015  macron  \n",
       "1  0.076863  0.163919  0.066818  macron  \n",
       "2  0.080372  0.657589  0.024206  macron  \n",
       "3  0.152962  0.378809  0.095679  macron  \n",
       "4  0.104692  0.171061  0.052233  macron  "
      ]
     },
     "execution_count": 116,
     "metadata": {},
     "output_type": "execute_result"
    }
   ],
   "source": [
    "macron_parsed.head()"
   ]
  },
  {
   "cell_type": "code",
   "execution_count": 117,
   "metadata": {
    "collapsed": false
   },
   "outputs": [],
   "source": [
    "macron_parsed[\"person\"]=\"macron\"\n",
    "lepen_parsed[\"person\"]=\"lepen\""
   ]
  },
  {
   "cell_type": "markdown",
   "metadata": {},
   "source": [
    "Finally I merge the two DataFrames together by appending `lepen_parsed` to `macron_parsed`.  "
   ]
  },
  {
   "cell_type": "code",
   "execution_count": 118,
   "metadata": {
    "collapsed": false
   },
   "outputs": [
    {
     "data": {
      "text/html": [
       "<div>\n",
       "<table border=\"1\" class=\"dataframe\">\n",
       "  <thead>\n",
       "    <tr style=\"text-align: right;\">\n",
       "      <th></th>\n",
       "      <th>joy</th>\n",
       "      <th>anger</th>\n",
       "      <th>fear</th>\n",
       "      <th>sadness</th>\n",
       "      <th>disgust</th>\n",
       "    </tr>\n",
       "  </thead>\n",
       "  <tbody>\n",
       "    <tr>\n",
       "      <th>count</th>\n",
       "      <td>352.000000</td>\n",
       "      <td>352.000000</td>\n",
       "      <td>352.000000</td>\n",
       "      <td>352.000000</td>\n",
       "      <td>352.000000</td>\n",
       "    </tr>\n",
       "    <tr>\n",
       "      <th>mean</th>\n",
       "      <td>0.271214</td>\n",
       "      <td>0.193362</td>\n",
       "      <td>0.206161</td>\n",
       "      <td>0.236559</td>\n",
       "      <td>0.128396</td>\n",
       "    </tr>\n",
       "    <tr>\n",
       "      <th>std</th>\n",
       "      <td>0.219737</td>\n",
       "      <td>0.149067</td>\n",
       "      <td>0.220682</td>\n",
       "      <td>0.171641</td>\n",
       "      <td>0.123059</td>\n",
       "    </tr>\n",
       "    <tr>\n",
       "      <th>min</th>\n",
       "      <td>0.000000</td>\n",
       "      <td>0.000000</td>\n",
       "      <td>0.000000</td>\n",
       "      <td>0.000000</td>\n",
       "      <td>0.000000</td>\n",
       "    </tr>\n",
       "    <tr>\n",
       "      <th>25%</th>\n",
       "      <td>0.081467</td>\n",
       "      <td>0.085425</td>\n",
       "      <td>0.072688</td>\n",
       "      <td>0.110995</td>\n",
       "      <td>0.043169</td>\n",
       "    </tr>\n",
       "    <tr>\n",
       "      <th>50%</th>\n",
       "      <td>0.216312</td>\n",
       "      <td>0.157334</td>\n",
       "      <td>0.132298</td>\n",
       "      <td>0.189269</td>\n",
       "      <td>0.083485</td>\n",
       "    </tr>\n",
       "    <tr>\n",
       "      <th>75%</th>\n",
       "      <td>0.427152</td>\n",
       "      <td>0.255338</td>\n",
       "      <td>0.213533</td>\n",
       "      <td>0.336269</td>\n",
       "      <td>0.168040</td>\n",
       "    </tr>\n",
       "    <tr>\n",
       "      <th>max</th>\n",
       "      <td>0.896510</td>\n",
       "      <td>0.902728</td>\n",
       "      <td>0.947475</td>\n",
       "      <td>0.828449</td>\n",
       "      <td>0.680355</td>\n",
       "    </tr>\n",
       "  </tbody>\n",
       "</table>\n",
       "</div>"
      ],
      "text/plain": [
       "              joy       anger        fear     sadness     disgust\n",
       "count  352.000000  352.000000  352.000000  352.000000  352.000000\n",
       "mean     0.271214    0.193362    0.206161    0.236559    0.128396\n",
       "std      0.219737    0.149067    0.220682    0.171641    0.123059\n",
       "min      0.000000    0.000000    0.000000    0.000000    0.000000\n",
       "25%      0.081467    0.085425    0.072688    0.110995    0.043169\n",
       "50%      0.216312    0.157334    0.132298    0.189269    0.083485\n",
       "75%      0.427152    0.255338    0.213533    0.336269    0.168040\n",
       "max      0.896510    0.902728    0.947475    0.828449    0.680355"
      ]
     },
     "execution_count": 118,
     "metadata": {},
     "output_type": "execute_result"
    }
   ],
   "source": [
    "full_parsed=macron_parsed.append(lepen_parsed, ignore_index=True)\n",
    "full_parsed.describe()"
   ]
  },
  {
   "cell_type": "code",
   "execution_count": 50,
   "metadata": {
    "collapsed": false
   },
   "outputs": [
    {
     "data": {
      "text/html": [
       "<div>\n",
       "<table border=\"1\" class=\"dataframe\">\n",
       "  <thead>\n",
       "    <tr style=\"text-align: right;\">\n",
       "      <th></th>\n",
       "      <th>text</th>\n",
       "      <th>joy</th>\n",
       "      <th>anger</th>\n",
       "      <th>fear</th>\n",
       "      <th>sadness</th>\n",
       "      <th>disgust</th>\n",
       "      <th>person</th>\n",
       "    </tr>\n",
       "  </thead>\n",
       "  <tbody>\n",
       "    <tr>\n",
       "      <th>0</th>\n",
       "      <td>Mr. Macron must win this election because if i...</td>\n",
       "      <td>0.515848</td>\n",
       "      <td>0.317362</td>\n",
       "      <td>0.160446</td>\n",
       "      <td>0.049720</td>\n",
       "      <td>0.036015</td>\n",
       "      <td>macron</td>\n",
       "    </tr>\n",
       "    <tr>\n",
       "      <th>1</th>\n",
       "      <td>It has very interesting ideas in relation to F...</td>\n",
       "      <td>0.502424</td>\n",
       "      <td>0.229468</td>\n",
       "      <td>0.076863</td>\n",
       "      <td>0.163919</td>\n",
       "      <td>0.066818</td>\n",
       "      <td>macron</td>\n",
       "    </tr>\n",
       "    <tr>\n",
       "      <th>2</th>\n",
       "      <td>My friends think the same thing because we see...</td>\n",
       "      <td>0.162405</td>\n",
       "      <td>0.226234</td>\n",
       "      <td>0.080372</td>\n",
       "      <td>0.657589</td>\n",
       "      <td>0.024206</td>\n",
       "      <td>macron</td>\n",
       "    </tr>\n",
       "    <tr>\n",
       "      <th>3</th>\n",
       "      <td>Ms. pen knows well what macron is is that the ...</td>\n",
       "      <td>0.058542</td>\n",
       "      <td>0.306898</td>\n",
       "      <td>0.152962</td>\n",
       "      <td>0.378809</td>\n",
       "      <td>0.095679</td>\n",
       "      <td>macron</td>\n",
       "    </tr>\n",
       "    <tr>\n",
       "      <th>4</th>\n",
       "      <td>Because with macron will choice</td>\n",
       "      <td>0.566024</td>\n",
       "      <td>0.048972</td>\n",
       "      <td>0.104692</td>\n",
       "      <td>0.171061</td>\n",
       "      <td>0.052233</td>\n",
       "      <td>macron</td>\n",
       "    </tr>\n",
       "  </tbody>\n",
       "</table>\n",
       "</div>"
      ],
      "text/plain": [
       "                                                text       joy     anger  \\\n",
       "0  Mr. Macron must win this election because if i...  0.515848  0.317362   \n",
       "1  It has very interesting ideas in relation to F...  0.502424  0.229468   \n",
       "2  My friends think the same thing because we see...  0.162405  0.226234   \n",
       "3  Ms. pen knows well what macron is is that the ...  0.058542  0.306898   \n",
       "4                   Because with macron will choice   0.566024  0.048972   \n",
       "\n",
       "       fear   sadness   disgust  person  \n",
       "0  0.160446  0.049720  0.036015  macron  \n",
       "1  0.076863  0.163919  0.066818  macron  \n",
       "2  0.080372  0.657589  0.024206  macron  \n",
       "3  0.152962  0.378809  0.095679  macron  \n",
       "4  0.104692  0.171061  0.052233  macron  "
      ]
     },
     "execution_count": 50,
     "metadata": {},
     "output_type": "execute_result"
    }
   ],
   "source": [
    "full_parsed.head()"
   ]
  },
  {
   "cell_type": "markdown",
   "metadata": {},
   "source": [
    "Saving the work into a csv so we do not have to call the ToneAnalyzer API again: "
   ]
  },
  {
   "cell_type": "code",
   "execution_count": 66,
   "metadata": {
    "collapsed": true
   },
   "outputs": [],
   "source": [
    "full_parsed.to_csv('../data/survey2_fullyparsed.csv', sep=',', encoding='utf-8')"
   ]
  },
  {
   "cell_type": "markdown",
   "metadata": {},
   "source": [
    "###### Analyzing the emotional tones\n",
    "\n",
    "First, I melting the data into a tidy dataset before using the seaborn library:"
   ]
  },
  {
   "cell_type": "code",
   "execution_count": 258,
   "metadata": {
    "collapsed": false
   },
   "outputs": [
    {
     "data": {
      "text/html": [
       "<div>\n",
       "<table border=\"1\" class=\"dataframe\">\n",
       "  <thead>\n",
       "    <tr style=\"text-align: right;\">\n",
       "      <th></th>\n",
       "      <th>text</th>\n",
       "      <th>person</th>\n",
       "      <th>variable</th>\n",
       "      <th>value</th>\n",
       "    </tr>\n",
       "  </thead>\n",
       "  <tbody>\n",
       "    <tr>\n",
       "      <th>0</th>\n",
       "      <td>Compare macron. The Pen pence has all these ta...</td>\n",
       "      <td>macron</td>\n",
       "      <td>joy</td>\n",
       "      <td>0.050730</td>\n",
       "    </tr>\n",
       "    <tr>\n",
       "      <th>1</th>\n",
       "      <td>He thinks the macron Directive will slave and ...</td>\n",
       "      <td>macron</td>\n",
       "      <td>joy</td>\n",
       "      <td>0.170533</td>\n",
       "    </tr>\n",
       "    <tr>\n",
       "      <th>2</th>\n",
       "      <td>Quite simply because people who vote Fillon ec...</td>\n",
       "      <td>macron</td>\n",
       "      <td>joy</td>\n",
       "      <td>0.260827</td>\n",
       "    </tr>\n",
       "    <tr>\n",
       "      <th>3</th>\n",
       "      <td>Because people are afraid of Marine Lepen and ...</td>\n",
       "      <td>macron</td>\n",
       "      <td>joy</td>\n",
       "      <td>0.080620</td>\n",
       "    </tr>\n",
       "    <tr>\n",
       "      <th>4</th>\n",
       "      <td>The person who will won the elections is Madam...</td>\n",
       "      <td>macron</td>\n",
       "      <td>joy</td>\n",
       "      <td>0.133293</td>\n",
       "    </tr>\n",
       "  </tbody>\n",
       "</table>\n",
       "</div>"
      ],
      "text/plain": [
       "                                                text  person variable  \\\n",
       "0  Compare macron. The Pen pence has all these ta...  macron      joy   \n",
       "1  He thinks the macron Directive will slave and ...  macron      joy   \n",
       "2  Quite simply because people who vote Fillon ec...  macron      joy   \n",
       "3  Because people are afraid of Marine Lepen and ...  macron      joy   \n",
       "4  The person who will won the elections is Madam...  macron      joy   \n",
       "\n",
       "      value  \n",
       "0  0.050730  \n",
       "1  0.170533  \n",
       "2  0.260827  \n",
       "3  0.080620  \n",
       "4  0.133293  "
      ]
     },
     "execution_count": 258,
     "metadata": {},
     "output_type": "execute_result"
    }
   ],
   "source": [
    "full_parsed_melted=pd.melt(full_parsed, id_vars=[\"text\",\"person\"])\n",
    "full_parsed_melted.head()"
   ]
  },
  {
   "cell_type": "markdown",
   "metadata": {},
   "source": [
    "##### Visualizing the distribution of emotions for Le Pen and Macron"
   ]
  },
  {
   "cell_type": "code",
   "execution_count": 273,
   "metadata": {
    "collapsed": false
   },
   "outputs": [
    {
     "data": {
      "image/png": "[encoded data removed]",
      "text/plain": [
       "<matplotlib.figure.Figure at 0x11b55d978>"
      ]
     },
     "metadata": {},
     "output_type": "display_data"
    }
   ],
   "source": [
    "chart = sns.swarmplot(data=full_parsed_melted, x=\"variable\",\\\n",
    "              y=\"value\", hue=\"person\", palette=\"Set2\",split=True)"
   ]
  },
  {
   "cell_type": "markdown",
   "metadata": {},
   "source": [
    "Hard to tell anything from this swarm plot, which I wanted to use to account for the difference in sizes of the two series, so we try a more traditional box-and-whiskers plot instead. "
   ]
  },
  {
   "cell_type": "code",
   "execution_count": 285,
   "metadata": {
    "collapsed": false
   },
   "outputs": [
    {
     "data": {
      "image/png": "[encoded data removed]",
      "text/plain": [
       "<matplotlib.figure.Figure at 0x11ca8c4e0>"
      ]
     },
     "metadata": {},
     "output_type": "display_data"
    }
   ],
   "source": [
    "chart = sns.boxplot(data=full_parsed_melted, x=\"variable\",\\\n",
    "              y=\"value\", hue=\"person\", palette=\"Set2\")\n",
    "#chart = sns.swarmplot(data=full_parsed_melted, x=\"variable\",\\\n",
    "#              y=\"value\", hue=\"person\", palette=\"Set2\",split=True)"
   ]
  },
  {
   "cell_type": "markdown",
   "metadata": {},
   "source": [
    "Interesting -- From the box-plots it looks like the mean of the emotions are the same across the board, with perhaps the exception of joy. Lots of outliers on fear and disgust. \n",
    "\n",
    "I run the **Kolmogorov-Smirnov test** to compare the distributions of the emotion values between Le Pen and Macron. I choose this test because \n",
    "* you don't need your data to be normally distributed, \n",
    "* you don't have to have the same total number of points in either distributions and \n",
    "* the means (average) look pretty close to begin with, and I am interested in the entire distribution on [0,1]."
   ]
  },
  {
   "cell_type": "code",
   "execution_count": 79,
   "metadata": {
    "collapsed": true
   },
   "outputs": [],
   "source": [
    "from scipy import stats\n",
    "\n",
    "def cdf(series):\n",
    "\n",
    "    ser = pd.Series(series)\n",
    "    ser = ser.sort_values()\n",
    "    ser[len(ser)] = ser.iloc[-1]\n",
    "    cum_dist = np.linspace(0.,1.,len(ser))\n",
    "    ser_cdf = pd.Series(cum_dist, index=ser)\n",
    "    return ser_cdf.plot(drawstyle='steps')\n",
    "    \n",
    "#code adapted from https://stackoverflow.com/questions/25577352/plotting-cdf-of-a-pandas-series-in-python"
   ]
  },
  {
   "cell_type": "markdown",
   "metadata": {},
   "source": [
    "Above, I set up a CDF plot function, cdf(), so we can compare the distributions visually to accompany the results of the KS test. \n",
    "\n",
    "In the graphs that follow, the distribution for text representing **Le Pen** is in **green**, while that for ***Macron*** is in* **blue***."
   ]
  },
  {
   "cell_type": "code",
   "execution_count": 74,
   "metadata": {
    "collapsed": false
   },
   "outputs": [
    {
     "data": {
      "text/plain": [
       "Ks_2sampResult(statistic=0.090902358647757975, pvalue=0.53072149215508768)"
      ]
     },
     "execution_count": 74,
     "metadata": {},
     "output_type": "execute_result"
    },
    {
     "data": {
      "image/png": "[encoded data removed]",
      "text/plain": [
       "<matplotlib.figure.Figure at 0x112ad90f0>"
      ]
     },
     "metadata": {},
     "output_type": "display_data"
    }
   ],
   "source": [
    "cdf(macron_parsed.joy)\n",
    "cdf(lepen_parsed.joy)\n",
    "stats.ks_2samp(lepen_parsed.joy,macron_parsed.joy)"
   ]
  },
  {
   "cell_type": "code",
   "execution_count": 75,
   "metadata": {
    "collapsed": false,
    "scrolled": false
   },
   "outputs": [
    {
     "data": {
      "text/plain": [
       "Ks_2sampResult(statistic=0.11178583330247716, pvalue=0.27651099408513186)"
      ]
     },
     "execution_count": 75,
     "metadata": {},
     "output_type": "execute_result"
    },
    {
     "data": {
      "image/png": "[encoded data removed]",
      "text/plain": [
       "<matplotlib.figure.Figure at 0x112c44d30>"
      ]
     },
     "metadata": {},
     "output_type": "display_data"
    }
   ],
   "source": [
    "cdf(macron_parsed.anger)\n",
    "cdf(lepen_parsed.anger)\n",
    "stats.ks_2samp(lepen_parsed.anger,macron_parsed.anger)"
   ]
  },
  {
   "cell_type": "code",
   "execution_count": 76,
   "metadata": {
    "collapsed": false,
    "scrolled": true
   },
   "outputs": [
    {
     "data": {
      "text/plain": [
       "Ks_2sampResult(statistic=0.15714444403302846, pvalue=0.040286278784689836)"
      ]
     },
     "execution_count": 76,
     "metadata": {},
     "output_type": "execute_result"
    },
    {
     "data": {
      "image/png": "[encoded data removed]",
      "text/plain": [
       "<matplotlib.figure.Figure at 0x112d45160>"
      ]
     },
     "metadata": {},
     "output_type": "display_data"
    }
   ],
   "source": [
    "cdf(macron_parsed.fear)\n",
    "cdf(lepen_parsed.fear)\n",
    "stats.ks_2samp(lepen_parsed.fear,macron_parsed.fear)"
   ]
  },
  {
   "cell_type": "markdown",
   "metadata": {},
   "source": [
    "**The above result for the Kolmogorov-Smirnov test is significant at $\\alpha$ = 5%.**"
   ]
  },
  {
   "cell_type": "code",
   "execution_count": 77,
   "metadata": {
    "collapsed": false
   },
   "outputs": [
    {
     "data": {
      "text/plain": [
       "Ks_2sampResult(statistic=0.076387603213981525, pvalue=0.74548509529949614)"
      ]
     },
     "execution_count": 77,
     "metadata": {},
     "output_type": "execute_result"
    },
    {
     "data": {
      "image/png": "[encoded data removed]",
      "text/plain": [
       "<matplotlib.figure.Figure at 0x112eb95f8>"
      ]
     },
     "metadata": {},
     "output_type": "display_data"
    }
   ],
   "source": [
    "cdf(macron_parsed.sadness)\n",
    "cdf(lepen_parsed.sadness)\n",
    "stats.ks_2samp(lepen_parsed.sadness,macron_parsed.sadness)"
   ]
  },
  {
   "cell_type": "code",
   "execution_count": 78,
   "metadata": {
    "collapsed": false
   },
   "outputs": [
    {
     "data": {
      "text/plain": [
       "Ks_2sampResult(statistic=0.075091642907394451, pvalue=0.76410862573107663)"
      ]
     },
     "execution_count": 78,
     "metadata": {},
     "output_type": "execute_result"
    },
    {
     "data": {
      "image/png": "[encoded data removed]",
      "text/plain": [
       "<matplotlib.figure.Figure at 0x113081828>"
      ]
     },
     "metadata": {},
     "output_type": "display_data"
    }
   ],
   "source": [
    "cdf(macron_parsed.disgust)\n",
    "cdf(lepen_parsed.disgust)\n",
    "stats.ks_2samp(lepen_parsed.disgust,macron_parsed.disgust)"
   ]
  },
  {
   "cell_type": "markdown",
   "metadata": {
    "collapsed": false
   },
   "source": [
    "Out of the five Kolmogorov-Smirnov tests above, it looks like the distribution of fear for Le Pen and Macron are drawn from different distributions. From the CDF's, we can see that **fear is an emotion that gets invoked more when Le Pen is mentioned**.  With a p-value of 4%, this is statistically significant where $\\alpha$ = 5%! "
   ]
  }
 ],
 "metadata": {
  "kernelspec": {
   "display_name": "Python 3",
   "language": "python",
   "name": "python3"
  },
  "language_info": {
   "codemirror_mode": {
    "name": "ipython",
    "version": 3
   },
   "file_extension": ".py",
   "mimetype": "text/x-python",
   "name": "python",
   "nbconvert_exporter": "python",
   "pygments_lexer": "ipython3",
   "version": "3.6.0"
  }
 },
 "nbformat": 4,
 "nbformat_minor": 2
}
