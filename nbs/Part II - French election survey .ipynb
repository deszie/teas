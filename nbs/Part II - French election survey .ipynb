{
 "cells": [
  {
   "cell_type": "markdown",
   "metadata": {},
   "source": [
    "# Parsing textual data - Survey for French presidential elections 2nd round"
   ]
  },
  {
   "cell_type": "markdown",
   "metadata": {},
   "source": [
    "**Introduction : ** \n",
    "This is the second notebook exploring my own dataset from a survey I carried out. Instead of looking at just numbers, which I could just as easily find from official polls, I wanted some open-ended responses. This contains richer information that can be played with. "
   ]
  },
  {
   "cell_type": "markdown",
   "metadata": {},
   "source": [
    "**Summary: **"
   ]
  },
  {
   "cell_type": "markdown",
   "metadata": {},
   "source": [
    "I focus on using IBM Watson to translate from French into English and then parse the emotional content of open-ended survey responses. We find that **responses that mention Marine Le Pen seem to raise the meter for fear compared to those that mention Emmanuel Macron.** \n",
    "\n",
    "Nonetheless, please view this notebook as more of a 'playground' with Watson than a true scientific exploration of 'emotions' and 'tones', as upon analyzing the output of the API, it is clear that there is much room for improvement. \n",
    "\n",
    "The Part I notebook explores the question of where first round votes for neither Macron nor Le Pen were likely to go to. \n",
    "\n",
    "#### Steps:\n",
    "1) Translate all open-ended responses with **IBM LanguageTranslator**. \n",
    "- *Why LanguageTranslate?: *I do not read French, and got tired of copying and pasting into Google Translate, even though I learnt a few words this way.\n",
    "\n",
    "2)  **Prepare the data** \n",
    "\n",
    "- For ease of analysis and more reliability, I decided to extract all the open-ended responses into one list variable regardless of question posed, \n",
    "- and focus the responses that mentioned Le Pen and those that mentioned Macron. \n",
    "\n",
    "3) Analyze the textual data with **IBM ToneAnalyzer**, \n",
    "- This gives us a rating on 5 emotions on the scale of {0,1}. \n",
    "- *Why ToneAnalyzer?:* It's a simple way of analyzing all 1014 responses with IBM Watson. Voters vote on emotion too\n",
    "\n",
    "4) Acknowledging the non-normality of these emotion metrics, I apply the **Kolmogorov-Smirnov test** to \n",
    "- compare Le Pen and Macron on the distributions of these five emotions, and \n",
    "- plot their cumulative distribution functions as a visual check.  \n",
    "\n",
    "\n",
    "\n",
    "##### Ideas for further analysis: \n",
    "\n",
    "- Multiply each response into more data by stripping into seperate sentences and attaching the voting intention as a binary outcome (e.g. 1 Macron, 0 Le Pen). \n",
    "\n",
    "- Read sample responses that are off the charts for fear. Try to get a sense for what is driving this 'fear' in the Watson API.\n",
    "\n",
    "- Split data into Le Pen supporter vs Macron supporter.\n",
    "\n",
    "- Re-do survey design such that all open-ended answers are compulsory, at the cost of survey respondents dropping out. \n",
    "\n",
    "- Extract connotations for other words with word2vec. "
   ]
  },
  {
   "cell_type": "markdown",
   "metadata": {},
   "source": [
    "----------------"
   ]
  },
  {
   "cell_type": "markdown",
   "metadata": {},
   "source": [
    "## Imports"
   ]
  },
  {
   "cell_type": "code",
   "execution_count": 1,
   "metadata": {
    "collapsed": false
   },
   "outputs": [],
   "source": [
    "import pandas as pd \n",
    "pd.set_option('display.max_columns', 300)\n",
    "import matplotlib.pyplot as plt\n",
    "import numpy as np\n",
    "import seaborn as sns\n",
    "%matplotlib inline\n",
    "import json \n",
    "from watson_developer_cloud import ToneAnalyzerV3\n",
    "from watson_developer_cloud import LanguageTranslatorV2"
   ]
  },
  {
   "cell_type": "markdown",
   "metadata": {},
   "source": [
    "# Reading Data into DataFrame with pandas "
   ]
  },
  {
   "cell_type": "code",
   "execution_count": 2,
   "metadata": {
    "collapsed": false
   },
   "outputs": [],
   "source": [
    "dff=pd.read_csv(\"../data/survey2_cleaned.csv\", encoding=\"utf-8\", \\\n",
    "                index_col=[0],low_memory=False,infer_datetime_format=True)"
   ]
  },
  {
   "cell_type": "code",
   "execution_count": 3,
   "metadata": {
    "collapsed": false
   },
   "outputs": [
    {
     "data": {
      "text/html": [
       "<div>\n",
       "<table border=\"1\" class=\"dataframe\">\n",
       "  <thead>\n",
       "    <tr style=\"text-align: right;\">\n",
       "      <th></th>\n",
       "      <th>ID</th>\n",
       "      <th>ID collecteur</th>\n",
       "      <th>Date de début</th>\n",
       "      <th>Date de fin</th>\n",
       "      <th>Q1</th>\n",
       "      <th>Q3</th>\n",
       "      <th>Q4</th>\n",
       "      <th>Q4-text</th>\n",
       "      <th>Q5</th>\n",
       "      <th>Q5-text</th>\n",
       "      <th>Q6</th>\n",
       "      <th>Q6-text</th>\n",
       "      <th>Q7</th>\n",
       "      <th>Q8</th>\n",
       "      <th>Q9</th>\n",
       "      <th>Q10</th>\n",
       "      <th>Q11</th>\n",
       "      <th>Q12</th>\n",
       "    </tr>\n",
       "  </thead>\n",
       "  <tbody>\n",
       "    <tr>\n",
       "      <th>0</th>\n",
       "      <td>6189761401</td>\n",
       "      <td>156443487</td>\n",
       "      <td>2017-05-09 23:01:30</td>\n",
       "      <td>2017-05-09 23:04:21</td>\n",
       "      <td>Non</td>\n",
       "      <td>Macron</td>\n",
       "      <td>Non</td>\n",
       "      <td>NaN</td>\n",
       "      <td>Cela dépend du candidat</td>\n",
       "      <td>NaN</td>\n",
       "      <td>Emmanuel Macron</td>\n",
       "      <td>NaN</td>\n",
       "      <td>NaN</td>\n",
       "      <td>NaN</td>\n",
       "      <td>NaN</td>\n",
       "      <td>NaN</td>\n",
       "      <td>NaN</td>\n",
       "      <td>NaN</td>\n",
       "    </tr>\n",
       "    <tr>\n",
       "      <th>1</th>\n",
       "      <td>6185182074</td>\n",
       "      <td>156443487</td>\n",
       "      <td>2017-05-06 22:07:12</td>\n",
       "      <td>2017-05-06 22:09:50</td>\n",
       "      <td>Oui</td>\n",
       "      <td>Le Pen</td>\n",
       "      <td>Oui</td>\n",
       "      <td>NaN</td>\n",
       "      <td>Pas sûr</td>\n",
       "      <td>NaN</td>\n",
       "      <td>Marine Le Pen</td>\n",
       "      <td>NaN</td>\n",
       "      <td>Le Pen</td>\n",
       "      <td>On verra</td>\n",
       "      <td>Non</td>\n",
       "      <td>Oui</td>\n",
       "      <td>Oui</td>\n",
       "      <td>Oui</td>\n",
       "    </tr>\n",
       "    <tr>\n",
       "      <th>2</th>\n",
       "      <td>6185012445</td>\n",
       "      <td>156443487</td>\n",
       "      <td>2017-05-06 16:36:46</td>\n",
       "      <td>2017-05-06 16:45:08</td>\n",
       "      <td>Oui</td>\n",
       "      <td>Le Pen</td>\n",
       "      <td>Oui</td>\n",
       "      <td>NaN</td>\n",
       "      <td>Très sûr</td>\n",
       "      <td>NaN</td>\n",
       "      <td>Marine Le Pen</td>\n",
       "      <td>NaN</td>\n",
       "      <td>Macron</td>\n",
       "      <td>Une élection majoritairement d'opposition à un...</td>\n",
       "      <td>Oui</td>\n",
       "      <td>Une colère et un râle bol général des conditio...</td>\n",
       "      <td>Non</td>\n",
       "      <td>La radicalité  n'est pas une solution en soit ...</td>\n",
       "    </tr>\n",
       "    <tr>\n",
       "      <th>3</th>\n",
       "      <td>6184748911</td>\n",
       "      <td>156443487</td>\n",
       "      <td>2017-05-06 09:03:49</td>\n",
       "      <td>2017-05-06 09:11:30</td>\n",
       "      <td>Non</td>\n",
       "      <td>Melenchon</td>\n",
       "      <td>Non</td>\n",
       "      <td>NaN</td>\n",
       "      <td>Autre (veuillez préciser)</td>\n",
       "      <td>Je ne me suis pas inscrit</td>\n",
       "      <td>Blanc</td>\n",
       "      <td>Je n'apprécie ni lun ni l'autre</td>\n",
       "      <td>NaN</td>\n",
       "      <td>NaN</td>\n",
       "      <td>NaN</td>\n",
       "      <td>NaN</td>\n",
       "      <td>NaN</td>\n",
       "      <td>NaN</td>\n",
       "    </tr>\n",
       "    <tr>\n",
       "      <th>4</th>\n",
       "      <td>6184653695</td>\n",
       "      <td>156443487</td>\n",
       "      <td>2017-05-06 04:46:44</td>\n",
       "      <td>2017-05-06 04:54:53</td>\n",
       "      <td>Oui</td>\n",
       "      <td>Fillon</td>\n",
       "      <td>Oui</td>\n",
       "      <td>NaN</td>\n",
       "      <td>Très sûr</td>\n",
       "      <td>NaN</td>\n",
       "      <td>Emmanuel Macron</td>\n",
       "      <td>NaN</td>\n",
       "      <td>Macron</td>\n",
       "      <td>La France n'est pas prête d'accueillir une fem...</td>\n",
       "      <td>Oui</td>\n",
       "      <td>NaN</td>\n",
       "      <td>Non</td>\n",
       "      <td>Je pense que les 2 candidats n'aideront pas la...</td>\n",
       "    </tr>\n",
       "  </tbody>\n",
       "</table>\n",
       "</div>"
      ],
      "text/plain": [
       "           ID  ID collecteur        Date de début          Date de fin   Q1  \\\n",
       "0  6189761401      156443487  2017-05-09 23:01:30  2017-05-09 23:04:21  Non   \n",
       "1  6185182074      156443487  2017-05-06 22:07:12  2017-05-06 22:09:50  Oui   \n",
       "2  6185012445      156443487  2017-05-06 16:36:46  2017-05-06 16:45:08  Oui   \n",
       "3  6184748911      156443487  2017-05-06 09:03:49  2017-05-06 09:11:30  Non   \n",
       "4  6184653695      156443487  2017-05-06 04:46:44  2017-05-06 04:54:53  Oui   \n",
       "\n",
       "          Q3   Q4 Q4-text                         Q5  \\\n",
       "0     Macron  Non     NaN    Cela dépend du candidat   \n",
       "1     Le Pen  Oui     NaN                    Pas sûr   \n",
       "2     Le Pen  Oui     NaN                   Très sûr   \n",
       "3  Melenchon  Non     NaN  Autre (veuillez préciser)   \n",
       "4     Fillon  Oui     NaN                   Très sûr   \n",
       "\n",
       "                     Q5-text               Q6  \\\n",
       "0                        NaN  Emmanuel Macron   \n",
       "1                        NaN    Marine Le Pen   \n",
       "2                        NaN    Marine Le Pen   \n",
       "3  Je ne me suis pas inscrit            Blanc   \n",
       "4                        NaN  Emmanuel Macron   \n",
       "\n",
       "                            Q6-text      Q7  \\\n",
       "0                               NaN     NaN   \n",
       "1                               NaN  Le Pen   \n",
       "2                               NaN  Macron   \n",
       "3  Je n'apprécie ni lun ni l'autre      NaN   \n",
       "4                               NaN  Macron   \n",
       "\n",
       "                                                  Q8   Q9  \\\n",
       "0                                                NaN  NaN   \n",
       "1                                           On verra  Non   \n",
       "2  Une élection majoritairement d'opposition à un...  Oui   \n",
       "3                                                NaN  NaN   \n",
       "4  La France n'est pas prête d'accueillir une fem...  Oui   \n",
       "\n",
       "                                                 Q10  Q11  \\\n",
       "0                                                NaN  NaN   \n",
       "1                                                Oui  Oui   \n",
       "2  Une colère et un râle bol général des conditio...  Non   \n",
       "3                                                NaN  NaN   \n",
       "4                                                NaN  Non   \n",
       "\n",
       "                                                 Q12  \n",
       "0                                                NaN  \n",
       "1                                                Oui  \n",
       "2  La radicalité  n'est pas une solution en soit ...  \n",
       "3                                                NaN  \n",
       "4  Je pense que les 2 candidats n'aideront pas la...  "
      ]
     },
     "execution_count": 3,
     "metadata": {},
     "output_type": "execute_result"
    }
   ],
   "source": [
    "dff.head()"
   ]
  },
  {
   "cell_type": "code",
   "execution_count": 4,
   "metadata": {
    "collapsed": false
   },
   "outputs": [],
   "source": [
    "dff=dff.fillna(\"\")"
   ]
  },
  {
   "cell_type": "markdown",
   "metadata": {},
   "source": [
    "# Translator "
   ]
  },
  {
   "cell_type": "code",
   "execution_count": 5,
   "metadata": {
    "collapsed": false
   },
   "outputs": [
    {
     "name": "stdout",
     "output_type": "stream",
     "text": [
      "conversation username:\n",
      "········\n",
      "conversation password:\n",
      "········\n"
     ]
    }
   ],
   "source": [
    "import getpass\n",
    "print(\"conversation username:\")\n",
    "username = getpass.getpass()\n",
    "\n",
    "print(\"conversation password:\")\n",
    "password = getpass.getpass()\n",
    "\n",
    "#do not run this as I have already saved the output in the data/ folder"
   ]
  },
  {
   "cell_type": "code",
   "execution_count": 6,
   "metadata": {
    "collapsed": false
   },
   "outputs": [],
   "source": [
    "language_translator = LanguageTranslatorV2(\n",
    "    username=username,\n",
    "    password=password)\n"
   ]
  },
  {
   "cell_type": "markdown",
   "metadata": {},
   "source": [
    "# Survey data with Translator"
   ]
  },
  {
   "cell_type": "code",
   "execution_count": 7,
   "metadata": {
    "collapsed": false
   },
   "outputs": [],
   "source": [
    "def translatee(x):\n",
    "    if x == \"\":\n",
    "        return \"\"\n",
    "    else:    \n",
    "        return language_translator.translate(x, source='fr',\n",
    "                                  target='en')\n",
    "   "
   ]
  },
  {
   "cell_type": "code",
   "execution_count": 9,
   "metadata": {
    "collapsed": false
   },
   "outputs": [
    {
     "data": {
      "text/plain": [
       "'I think the 2 candidates will not France. Today we vote between the plague and cholera. Dur 1 choice but the values of France must continue ... between other fraternity and it is not the FN defends it'"
      ]
     },
     "execution_count": 9,
     "metadata": {},
     "output_type": "execute_result"
    }
   ],
   "source": [
    "teststring=dff[\"Q12\"][dff[\"Q12\"]!=\"\"]\n",
    "teststring=teststring[0:100]\n",
    "teststring.head()\n",
    "translatee(teststring[4])"
   ]
  },
  {
   "cell_type": "code",
   "execution_count": 10,
   "metadata": {
    "collapsed": false
   },
   "outputs": [],
   "source": [
    "dff['Q8-en'] = dff['Q8'].apply(lambda x : translatee(x))\n",
    "dff['Q10-en'] = dff['Q10'].apply(lambda x : translatee(x))\n",
    "dff['Q12-en'] = dff['Q12'].apply(lambda x : translatee(x))\n",
    "dff['Q4-en'] = dff['Q4-text'].apply(lambda x : translatee(x))\n",
    "dff['Q5-en'] = dff['Q5-text'].apply(lambda x : translatee(x))\n",
    "dff['Q6-en'] = dff['Q6-text'].apply(lambda x : translatee(x))"
   ]
  },
  {
   "cell_type": "code",
   "execution_count": 11,
   "metadata": {
    "collapsed": false
   },
   "outputs": [
    {
     "data": {
      "text/plain": [
       "(1014, 24)"
      ]
     },
     "execution_count": 11,
     "metadata": {},
     "output_type": "execute_result"
    }
   ],
   "source": [
    "dff.shape"
   ]
  },
  {
   "cell_type": "code",
   "execution_count": 12,
   "metadata": {
    "collapsed": false
   },
   "outputs": [
    {
     "name": "stdout",
     "output_type": "stream",
     "text": [
      "['' 'Yes'\n",
      " 'An anger and a rattle bowl general living conditions contributes to a trend necessarily radicalized.'\n",
      " 'They are all agree, they want to have a hope that a failure ' 'Macron'\n",
      " 'My friends also believe that Emanuel Macron will remportet this election because it would appear that in the media is the most candidate supported.'\n",
      " 'The same thing as me'\n",
      " 'For the same reason that I think Navy will elected.' 'They agree with me'\n",
      " 'Macron said lies. Moreover it needs a atrium to answer questions'\n",
      " 'It think macron will be elected ' 'Pck its for the pen'\n",
      " 'Quite simply for the same reason as me. '\n",
      " 'Too afraid of big change for France '\n",
      " 'Because we all have the same point of view '\n",
      " 'They saw that between LePen and Macron, one candidate was for the French people '\n",
      " 'My friends are people who voted Melancon like me, for them, Le Pen is racism and Macron a rich, or it is better to someone who likes money to power rather than someone who is not human'\n",
      " 'Because they think this and that its programme and better '\n",
      " 'They think the same thing as me.'\n",
      " 'That is our future and those of our parents and our future children']\n"
     ]
    }
   ],
   "source": [
    "print(dff['Q10-en'].unique()[:20])"
   ]
  },
  {
   "cell_type": "markdown",
   "metadata": {},
   "source": [
    "The translations are not the best. Sometimes, they are partially translated. Emmanuel Macron will \"remportet\" this election, according to one answer. Remporter means to win in French. And sometimes they are translated too fully. Marine le Pen is translated to \"Navy\":"
   ]
  },
  {
   "cell_type": "code",
   "execution_count": 14,
   "metadata": {
    "collapsed": false,
    "scrolled": true
   },
   "outputs": [
    {
     "name": "stdout",
     "output_type": "stream",
     "text": [
      "There are 44 responses that refer to Marine le Pen as 'Navy'! For example:\n",
      "['Because simply Macron was Hollande regime therefore same shit again for 5 years he is the author of the 49: 3 of the Act El komhri. Navy n is not qlqs just racist qlqs who wants to defend the history of his country and continue as a write a story Française ', 'More convincing on projects that Navy The debate pen', 'Only Navy Lepen can save France.', 'Navy always desired to deal with French and his country first before going to his nose elsewhere that the silk is financial problem school housing ext but for us French priority. Because it is our right we have but we get nothing for Gard other while some French sleep outside in the cold to eat a piece of bread back to Franc and an excellent idea to take our product loco to me our cost promote our product our land has the place to buy foreign wholesaler ']\n"
     ]
    }
   ],
   "source": [
    "matching =[s for s in list(dff['Q8-en'][dff[\"Q8-en\"]!=\"\"]) if 'Navy' in s]\n",
    "matching = matching = matching +  [s for s in list(dff['Q10-en'][dff[\"Q10-en\"]!=\"\"]) if 'Navy' in s]\n",
    "matching = matching +  [s for s in list(dff['Q12-en'][dff[\"Q12-en\"]!=\"\"]) if 'Navy' in s]\n",
    "matching = matching +  [s for s in list(dff['Q4-en'][dff[\"Q4-en\"]!=\"\"]) if 'Navy' in s]\n",
    "matching = matching +  [s for s in list(dff['Q5-en'][dff[\"Q5-en\"]!=\"\"]) if 'Navy' in s]\n",
    "matching = matching +  [s for s in list(dff['Q6-en'][dff[\"Q6-en\"]!=\"\"]) if 'Navy' in s]\n",
    "print(\"There are %s responses that refer to Marine le Pen as 'Navy'! For example:\" % len(matching))\n",
    "print(matching[1:5])"
   ]
  },
  {
   "cell_type": "markdown",
   "metadata": {},
   "source": [
    "But the meaning is clear in many other instances and is enough for our present purposes. "
   ]
  },
  {
   "cell_type": "markdown",
   "metadata": {
    "collapsed": true
   },
   "source": [
    "#### Save this file to csv so we do not have to run Translator again in the future. "
   ]
  },
  {
   "cell_type": "code",
   "execution_count": 15,
   "metadata": {
    "collapsed": false
   },
   "outputs": [],
   "source": [
    "dff.to_csv('../data/survey2_translated.csv', sep=',', encoding='utf-8')"
   ]
  },
  {
   "cell_type": "markdown",
   "metadata": {},
   "source": [
    "#### Then I strip out all text responses from all respondents into one large corpus, like a 'bag of sentences'. \n",
    "\n",
    "(Alternatively, I can analyze the open-ended responses by voting intention and by question, which will take a significantly more time with less reliability in the results due to smaller sample size of only 400 per question. )"
   ]
  },
  {
   "cell_type": "markdown",
   "metadata": {},
   "source": [
    "Start by reading the file saved from before (if loading this from another computer or another time):"
   ]
  },
  {
   "cell_type": "code",
   "execution_count": 16,
   "metadata": {
    "collapsed": false,
    "scrolled": true
   },
   "outputs": [
    {
     "data": {
      "text/html": [
       "<div>\n",
       "<table border=\"1\" class=\"dataframe\">\n",
       "  <thead>\n",
       "    <tr style=\"text-align: right;\">\n",
       "      <th></th>\n",
       "      <th>ID</th>\n",
       "      <th>ID collecteur</th>\n",
       "      <th>Date de début</th>\n",
       "      <th>Date de fin</th>\n",
       "      <th>Q1</th>\n",
       "      <th>Q3</th>\n",
       "      <th>Q4</th>\n",
       "      <th>Q4-text</th>\n",
       "      <th>Q5</th>\n",
       "      <th>Q5-text</th>\n",
       "      <th>Q6</th>\n",
       "      <th>Q6-text</th>\n",
       "      <th>Q7</th>\n",
       "      <th>Q8</th>\n",
       "      <th>Q9</th>\n",
       "      <th>Q10</th>\n",
       "      <th>Q11</th>\n",
       "      <th>Q12</th>\n",
       "      <th>Q8-en</th>\n",
       "      <th>Q10-en</th>\n",
       "      <th>Q12-en</th>\n",
       "      <th>Q4-en</th>\n",
       "      <th>Q5-en</th>\n",
       "      <th>Q6-en</th>\n",
       "    </tr>\n",
       "  </thead>\n",
       "  <tbody>\n",
       "    <tr>\n",
       "      <th>0</th>\n",
       "      <td>6189761401</td>\n",
       "      <td>156443487</td>\n",
       "      <td>2017-05-09 23:01:30</td>\n",
       "      <td>2017-05-09 23:04:21</td>\n",
       "      <td>Non</td>\n",
       "      <td>Macron</td>\n",
       "      <td>Non</td>\n",
       "      <td></td>\n",
       "      <td>Cela dépend du candidat</td>\n",
       "      <td></td>\n",
       "      <td>Emmanuel Macron</td>\n",
       "      <td></td>\n",
       "      <td></td>\n",
       "      <td></td>\n",
       "      <td></td>\n",
       "      <td></td>\n",
       "      <td></td>\n",
       "      <td></td>\n",
       "      <td></td>\n",
       "      <td></td>\n",
       "      <td></td>\n",
       "      <td></td>\n",
       "      <td></td>\n",
       "      <td></td>\n",
       "    </tr>\n",
       "    <tr>\n",
       "      <th>1</th>\n",
       "      <td>6185182074</td>\n",
       "      <td>156443487</td>\n",
       "      <td>2017-05-06 22:07:12</td>\n",
       "      <td>2017-05-06 22:09:50</td>\n",
       "      <td>Oui</td>\n",
       "      <td>Le Pen</td>\n",
       "      <td>Oui</td>\n",
       "      <td></td>\n",
       "      <td>Pas sûr</td>\n",
       "      <td></td>\n",
       "      <td>Marine Le Pen</td>\n",
       "      <td></td>\n",
       "      <td>Le Pen</td>\n",
       "      <td>On verra</td>\n",
       "      <td>Non</td>\n",
       "      <td>Oui</td>\n",
       "      <td>Oui</td>\n",
       "      <td>Oui</td>\n",
       "      <td>It will</td>\n",
       "      <td>Yes</td>\n",
       "      <td>Yes</td>\n",
       "      <td></td>\n",
       "      <td></td>\n",
       "      <td></td>\n",
       "    </tr>\n",
       "    <tr>\n",
       "      <th>2</th>\n",
       "      <td>6185012445</td>\n",
       "      <td>156443487</td>\n",
       "      <td>2017-05-06 16:36:46</td>\n",
       "      <td>2017-05-06 16:45:08</td>\n",
       "      <td>Oui</td>\n",
       "      <td>Le Pen</td>\n",
       "      <td>Oui</td>\n",
       "      <td></td>\n",
       "      <td>Très sûr</td>\n",
       "      <td></td>\n",
       "      <td>Marine Le Pen</td>\n",
       "      <td></td>\n",
       "      <td>Macron</td>\n",
       "      <td>Une élection majoritairement d'opposition à un...</td>\n",
       "      <td>Oui</td>\n",
       "      <td>Une colère et un râle bol général des conditio...</td>\n",
       "      <td>Non</td>\n",
       "      <td>La radicalité  n'est pas une solution en soit ...</td>\n",
       "      <td>A majority of opposition to an election party ...</td>\n",
       "      <td>An anger and a rattle bowl general living cond...</td>\n",
       "      <td>The radicalism is not a solution for long term...</td>\n",
       "      <td></td>\n",
       "      <td></td>\n",
       "      <td></td>\n",
       "    </tr>\n",
       "    <tr>\n",
       "      <th>3</th>\n",
       "      <td>6184748911</td>\n",
       "      <td>156443487</td>\n",
       "      <td>2017-05-06 09:03:49</td>\n",
       "      <td>2017-05-06 09:11:30</td>\n",
       "      <td>Non</td>\n",
       "      <td>Melenchon</td>\n",
       "      <td>Non</td>\n",
       "      <td></td>\n",
       "      <td>Autre (veuillez préciser)</td>\n",
       "      <td>Je ne me suis pas inscrit</td>\n",
       "      <td>Blanc</td>\n",
       "      <td>Je n'apprécie ni lun ni l'autre</td>\n",
       "      <td></td>\n",
       "      <td></td>\n",
       "      <td></td>\n",
       "      <td></td>\n",
       "      <td></td>\n",
       "      <td></td>\n",
       "      <td></td>\n",
       "      <td></td>\n",
       "      <td></td>\n",
       "      <td></td>\n",
       "      <td>I am not registered</td>\n",
       "      <td>I appreciate nor sun nor the other</td>\n",
       "    </tr>\n",
       "    <tr>\n",
       "      <th>4</th>\n",
       "      <td>6184653695</td>\n",
       "      <td>156443487</td>\n",
       "      <td>2017-05-06 04:46:44</td>\n",
       "      <td>2017-05-06 04:54:53</td>\n",
       "      <td>Oui</td>\n",
       "      <td>Fillon</td>\n",
       "      <td>Oui</td>\n",
       "      <td></td>\n",
       "      <td>Très sûr</td>\n",
       "      <td></td>\n",
       "      <td>Emmanuel Macron</td>\n",
       "      <td></td>\n",
       "      <td>Macron</td>\n",
       "      <td>La France n'est pas prête d'accueillir une fem...</td>\n",
       "      <td>Oui</td>\n",
       "      <td></td>\n",
       "      <td>Non</td>\n",
       "      <td>Je pense que les 2 candidats n'aideront pas la...</td>\n",
       "      <td>France is not ready to host a woman in power a...</td>\n",
       "      <td></td>\n",
       "      <td>I think the 2 candidates will not France. Toda...</td>\n",
       "      <td></td>\n",
       "      <td></td>\n",
       "      <td></td>\n",
       "    </tr>\n",
       "  </tbody>\n",
       "</table>\n",
       "</div>"
      ],
      "text/plain": [
       "           ID  ID collecteur        Date de début          Date de fin   Q1  \\\n",
       "0  6189761401      156443487  2017-05-09 23:01:30  2017-05-09 23:04:21  Non   \n",
       "1  6185182074      156443487  2017-05-06 22:07:12  2017-05-06 22:09:50  Oui   \n",
       "2  6185012445      156443487  2017-05-06 16:36:46  2017-05-06 16:45:08  Oui   \n",
       "3  6184748911      156443487  2017-05-06 09:03:49  2017-05-06 09:11:30  Non   \n",
       "4  6184653695      156443487  2017-05-06 04:46:44  2017-05-06 04:54:53  Oui   \n",
       "\n",
       "          Q3   Q4 Q4-text                         Q5  \\\n",
       "0     Macron  Non            Cela dépend du candidat   \n",
       "1     Le Pen  Oui                            Pas sûr   \n",
       "2     Le Pen  Oui                           Très sûr   \n",
       "3  Melenchon  Non          Autre (veuillez préciser)   \n",
       "4     Fillon  Oui                           Très sûr   \n",
       "\n",
       "                     Q5-text               Q6  \\\n",
       "0                             Emmanuel Macron   \n",
       "1                               Marine Le Pen   \n",
       "2                               Marine Le Pen   \n",
       "3  Je ne me suis pas inscrit            Blanc   \n",
       "4                             Emmanuel Macron   \n",
       "\n",
       "                            Q6-text      Q7  \\\n",
       "0                                             \n",
       "1                                    Le Pen   \n",
       "2                                    Macron   \n",
       "3  Je n'apprécie ni lun ni l'autre            \n",
       "4                                    Macron   \n",
       "\n",
       "                                                  Q8   Q9  \\\n",
       "0                                                           \n",
       "1                                           On verra  Non   \n",
       "2  Une élection majoritairement d'opposition à un...  Oui   \n",
       "3                                                           \n",
       "4  La France n'est pas prête d'accueillir une fem...  Oui   \n",
       "\n",
       "                                                 Q10  Q11  \\\n",
       "0                                                           \n",
       "1                                                Oui  Oui   \n",
       "2  Une colère et un râle bol général des conditio...  Non   \n",
       "3                                                           \n",
       "4                                                     Non   \n",
       "\n",
       "                                                 Q12  \\\n",
       "0                                                      \n",
       "1                                                Oui   \n",
       "2  La radicalité  n'est pas une solution en soit ...   \n",
       "3                                                      \n",
       "4  Je pense que les 2 candidats n'aideront pas la...   \n",
       "\n",
       "                                               Q8-en  \\\n",
       "0                                                      \n",
       "1                                            It will   \n",
       "2  A majority of opposition to an election party ...   \n",
       "3                                                      \n",
       "4  France is not ready to host a woman in power a...   \n",
       "\n",
       "                                              Q10-en  \\\n",
       "0                                                      \n",
       "1                                                Yes   \n",
       "2  An anger and a rattle bowl general living cond...   \n",
       "3                                                      \n",
       "4                                                      \n",
       "\n",
       "                                              Q12-en Q4-en  \\\n",
       "0                                                            \n",
       "1                                                Yes         \n",
       "2  The radicalism is not a solution for long term...         \n",
       "3                                                            \n",
       "4  I think the 2 candidates will not France. Toda...         \n",
       "\n",
       "                 Q5-en                                Q6-en  \n",
       "0                                                            \n",
       "1                                                            \n",
       "2                                                            \n",
       "3  I am not registered  I appreciate nor sun nor the other   \n",
       "4                                                            "
      ]
     },
     "execution_count": 16,
     "metadata": {},
     "output_type": "execute_result"
    }
   ],
   "source": [
    "dff=pd.read_csv(\"../data/survey2_translated.csv\", encoding=\"utf-8\", low_memory=False,\\\n",
    "                 index_col=[0],infer_datetime_format=True)\n",
    "dff=dff.fillna(\"\") #fast method for now, could use more sophistication \n",
    "dff.head()\n"
   ]
  },
  {
   "cell_type": "markdown",
   "metadata": {},
   "source": [
    "Then I rip all the translations into a new list. "
   ]
  },
  {
   "cell_type": "code",
   "execution_count": 17,
   "metadata": {
    "collapsed": false
   },
   "outputs": [
    {
     "name": "stdout",
     "output_type": "stream",
     "text": [
      "Q4-en\n",
      "Q5-en\n",
      "Q6-en\n",
      "Q8-en\n",
      "Q10-en\n",
      "Q12-en\n"
     ]
    }
   ],
   "source": [
    "list_en=['Q4-en','Q5-en','Q6-en','Q8-en','Q10-en','Q12-en']\n",
    "\n",
    "alltext = []\n",
    "    \n",
    "for question in list_en: \n",
    "        print(question)\n",
    "        alltext = alltext + list(dff[question][dff[question]!=\"\"]) "
   ]
  },
  {
   "cell_type": "markdown",
   "metadata": {},
   "source": [
    "Taking a look at what we've got here! "
   ]
  },
  {
   "cell_type": "code",
   "execution_count": 18,
   "metadata": {
    "collapsed": false
   },
   "outputs": [
    {
     "data": {
      "text/plain": [
       "[\"I don't know too \",\n",
       " 'Button because I think navy lepen Is bad view by many French citizens ',\n",
       " 'Le Pen because it has to move France that France is not to seek advice to Europe ',\n",
       " 'My friends think me such ',\n",
       " 'I have not the right to vote',\n",
       " \"Or I don't know abstention\",\n",
       " 'He agreed with me, but are not but vote that will change the thing ',\n",
       " 'I think so that it is the right choice in any case it will be better than Macron and will make a good choice for France.',\n",
       " 'Even answer that question 11.',\n",
       " 'Macron']"
      ]
     },
     "execution_count": 18,
     "metadata": {},
     "output_type": "execute_result"
    }
   ],
   "source": [
    "import random \n",
    "random.sample(alltext, 10)"
   ]
  },
  {
   "cell_type": "code",
   "execution_count": 19,
   "metadata": {
    "collapsed": false
   },
   "outputs": [
    {
     "name": "stdout",
     "output_type": "stream",
     "text": [
      "The above is just a sampling of 1584 total responses.\n"
     ]
    }
   ],
   "source": [
    "print(\"The above is just a sampling of %s total responses.\" %len(alltext))"
   ]
  },
  {
   "cell_type": "markdown",
   "metadata": {},
   "source": [
    "# Tone Analyzer"
   ]
  },
  {
   "cell_type": "code",
   "execution_count": 20,
   "metadata": {
    "collapsed": false
   },
   "outputs": [
    {
     "name": "stdout",
     "output_type": "stream",
     "text": [
      "conversation username:\n",
      "········\n",
      "conversation password:\n",
      "········\n"
     ]
    }
   ],
   "source": [
    "import getpass\n",
    "print(\"conversation username:\")\n",
    "username = getpass.getpass()\n",
    "\n",
    "print(\"conversation password:\")\n",
    "password = getpass.getpass()\n",
    "\n",
    "#do not run this as I have already saved the output in the data/ folder"
   ]
  },
  {
   "cell_type": "code",
   "execution_count": 21,
   "metadata": {
    "collapsed": false
   },
   "outputs": [],
   "source": [
    "tone_analyzer = ToneAnalyzerV3(\n",
    "   username=username,\n",
    "   password=password,\n",
    "   version='2016-05-19')\n",
    "\n",
    "def parse_toneanalyzer_response(json_data):\n",
    "    \"\"\"Parses the JSON response from ToneAnalyzer to return\n",
    "    a dictionary of emotions and their corresponding score.\n",
    "\n",
    "    Parameters\n",
    "    ----------\n",
    "    json_data: {dict} a json response from ToneAnalyzer (see Notes)\n",
    "\n",
    "    Returns\n",
    "    -------\n",
    "    dict : a {dict} whose keys are emotion ids and values are their corresponding score.\n",
    "\n",
    "    Notes\n",
    "    -----\n",
    "    for an example of json see type pytest_data/tones_1.json\n",
    "    \"\"\"\n",
    "    emotions = {}\n",
    "    for entry in json_data['document_tone']['tone_categories']:\n",
    "        if entry['category_id'] == 'emotion_tone':\n",
    "            for emotion in entry['tones']:\n",
    "                emotion_key = emotion['tone_name']\n",
    "                emotion_value = emotion['score']\n",
    "                emotions[emotion_key] = emotion_value\n",
    "    return(emotions)"
   ]
  },
  {
   "cell_type": "markdown",
   "metadata": {},
   "source": [
    "\"France is not ready to host a woman in power\" has 40% joy and 40% disgust - an interesting mix. The emphasis for 'joy' may come from \"France\" and \"woman\", instead of \"not ready\". "
   ]
  },
  {
   "cell_type": "code",
   "execution_count": 22,
   "metadata": {
    "collapsed": false
   },
   "outputs": [
    {
     "name": "stdout",
     "output_type": "stream",
     "text": [
      "{'Anger': 0.04737, 'Disgust': 0.389663, 'Fear': 0.030071, 'Joy': 0.397983, 'Sadness': 0.205372}\n"
     ]
    },
    {
     "data": {
      "text/plain": [
       "[{'category_id': 'emotion_tone',\n",
       "  'category_name': 'Emotion Tone',\n",
       "  'tones': [{'score': 0.04737, 'tone_id': 'anger', 'tone_name': 'Anger'},\n",
       "   {'score': 0.389663, 'tone_id': 'disgust', 'tone_name': 'Disgust'},\n",
       "   {'score': 0.030071, 'tone_id': 'fear', 'tone_name': 'Fear'},\n",
       "   {'score': 0.397983, 'tone_id': 'joy', 'tone_name': 'Joy'},\n",
       "   {'score': 0.205372, 'tone_id': 'sadness', 'tone_name': 'Sadness'}]},\n",
       " {'category_id': 'language_tone',\n",
       "  'category_name': 'Language Tone',\n",
       "  'tones': [{'score': 0.0, 'tone_id': 'analytical', 'tone_name': 'Analytical'},\n",
       "   {'score': 0.0, 'tone_id': 'confident', 'tone_name': 'Confident'},\n",
       "   {'score': 0.0, 'tone_id': 'tentative', 'tone_name': 'Tentative'}]},\n",
       " {'category_id': 'social_tone',\n",
       "  'category_name': 'Social Tone',\n",
       "  'tones': [{'score': 0.165197,\n",
       "    'tone_id': 'openness_big5',\n",
       "    'tone_name': 'Openness'},\n",
       "   {'score': 0.487946,\n",
       "    'tone_id': 'conscientiousness_big5',\n",
       "    'tone_name': 'Conscientiousness'},\n",
       "   {'score': 0.87161,\n",
       "    'tone_id': 'extraversion_big5',\n",
       "    'tone_name': 'Extraversion'},\n",
       "   {'score': 0.368839,\n",
       "    'tone_id': 'agreeableness_big5',\n",
       "    'tone_name': 'Agreeableness'},\n",
       "   {'score': 0.661034,\n",
       "    'tone_id': 'emotional_range_big5',\n",
       "    'tone_name': 'Emotional Range'}]}]"
      ]
     },
     "execution_count": 22,
     "metadata": {},
     "output_type": "execute_result"
    }
   ],
   "source": [
    "json_response = tone_analyzer.tone(text=\"France is not ready to host a woman in power\")\n",
    "print(parse_toneanalyzer_response(json_response))\n",
    "json_response['document_tone']['tone_categories']"
   ]
  },
  {
   "cell_type": "markdown",
   "metadata": {},
   "source": [
    "You can see that ToneAnalyzer gives us three types of \"Tones\": Emotion Tone, Language Tone, and Social Tone. We are going to extract just emotion_tone using the function parse_toneanalyzer_response() defined in the earlier cell.\n",
    "\n",
    "\n",
    "Further, understand the limitations for the Tone Analyzer - finding 'tone' where there is none, as I show below. This poses a problem. ** There is no notion of statistical significance for these 'emotions'.** Since we are just 'playing' with the API here, we take our results with a grain of salt. \n",
    "\n"
   ]
  },
  {
   "cell_type": "code",
   "execution_count": 23,
   "metadata": {
    "collapsed": false
   },
   "outputs": [
    {
     "name": "stdout",
     "output_type": "stream",
     "text": [
      "{'Anger': 0.208284, 'Disgust': 0.048741, 'Fear': 0.274484, 'Joy': 0.162929, 'Sadness': 0.165661}\n"
     ]
    }
   ],
   "source": [
    "json_response = tone_analyzer.tone(text=\"testing one two three\")\n",
    "print(parse_toneanalyzer_response(json_response))"
   ]
  },
  {
   "cell_type": "markdown",
   "metadata": {},
   "source": [
    "Next, I extract the responses that refer to either Marine le Pen or Macron by name into new lists `lepen` and `macron`. "
   ]
  },
  {
   "cell_type": "code",
   "execution_count": 24,
   "metadata": {
    "collapsed": false
   },
   "outputs": [
    {
     "name": "stdout",
     "output_type": "stream",
     "text": [
      "There are 239 responses that refer to Marine le Pen. For example:\n",
      "['I think it is Emanuel Macron who will win this election because Navy Lepen represents the national front and that it is the daughter of Jean-Marie Lepen former candidate whose ideas laid too far and a \"fear\" of the national front is established ', 'Not the Pen is saying that its will be worse', 'They think vote Le Pen is to be racist ', 'Yes Marine Le Pen is my good choice, because it is a strong woman who think about his country ', 'Marine pen already because we cetait and appercu macron is a con then if with all the crap that balance it even on him and roof is that the press finds it is elected president bravo to the French people submitted ']\n"
     ]
    }
   ],
   "source": [
    "lepen_token = ['Navy','Marine','Pen']\n",
    "lepen = []\n",
    "\n",
    "for token in lepen_token: \n",
    "    lepen = lepen + [s for s in list(alltext) if token in s]\n",
    "        \n",
    "lepen = set(lepen)\n",
    "print(\"There are %s responses that refer to Marine le Pen. For example:\" % len(lepen))\n",
    "print(random.sample(lepen,5))\n"
   ]
  },
  {
   "cell_type": "code",
   "execution_count": 25,
   "metadata": {
    "collapsed": false
   },
   "outputs": [
    {
     "name": "stdout",
     "output_type": "stream",
     "text": [
      "There are 113 responses that refer to Emmanuel Macron. For example:\n",
      "['He want to vote the pen because it think macron is 2nd holland but I think it croivent that the pen will leave the French well-functioning', 'Because macron has a good program ', 'I think c macron that will win the election because Madam pen not merit and almost all the people imigré want to do lol)', 'I am neither for or pen macron', 'My friend pence mele thing because the macron will not help us because it will fuck any and we will in the shit']\n"
     ]
    }
   ],
   "source": [
    "macron_token = ['macron','emmanuel','emanuel',\"Marcrin\"]\n",
    "macron = []\n",
    "\n",
    "for token in macron_token: \n",
    "    macron = macron + [s for s in list(alltext) if token in s]\n",
    "        \n",
    "macron=set(macron)\n",
    "print(\"There are %s responses that refer to Emmanuel Macron. For example:\" % len(macron))\n",
    "print(random.sample(macron,5))\n"
   ]
  },
  {
   "cell_type": "markdown",
   "metadata": {},
   "source": [
    "# Parsing Emotional Data out of Selected Responses "
   ]
  },
  {
   "cell_type": "markdown",
   "metadata": {},
   "source": [
    "Then, I set up a DataFrame (`lepen_parsed` and `macron_parsed`), with a column containing each response that mentions either subject. These DataFrames will eventually store the emotion tone ratings.\n",
    "\n",
    "I then set up a dictionary that will hold the emotion tone ratings with `parse_toneanalyzer_response()`."
   ]
  },
  {
   "cell_type": "code",
   "execution_count": 26,
   "metadata": {
    "collapsed": false
   },
   "outputs": [],
   "source": [
    "lepen_parsed = pd.DataFrame()\n",
    "lepen_parsed[\"text\"]=list(lepen)\n",
    "lepen_parsed\n",
    "\n",
    "lepen_dict = {}\n",
    "\n",
    "for index, row in lepen_parsed.iterrows(): \n",
    "    response = tone_analyzer.tone(text=row[\"text\"])\n",
    "    lepen_dict[row[0]]=parse_toneanalyzer_response(response)\n",
    "#check the index is ok"
   ]
  },
  {
   "cell_type": "code",
   "execution_count": 27,
   "metadata": {
    "collapsed": false
   },
   "outputs": [
    {
     "data": {
      "text/plain": [
       "239"
      ]
     },
     "execution_count": 27,
     "metadata": {},
     "output_type": "execute_result"
    }
   ],
   "source": [
    "len(lepen_dict.items())"
   ]
  },
  {
   "cell_type": "markdown",
   "metadata": {},
   "source": [
    "Then I extract the emotion ratings into the DataFrame. "
   ]
  },
  {
   "cell_type": "code",
   "execution_count": 28,
   "metadata": {
    "collapsed": false
   },
   "outputs": [],
   "source": [
    "emotions =['joy', 'anger', 'fear', 'sadness', 'disgust']"
   ]
  },
  {
   "cell_type": "code",
   "execution_count": 29,
   "metadata": {
    "collapsed": true
   },
   "outputs": [],
   "source": [
    "for emote in emotions:\n",
    "    lepen_parsed[emote] = lepen_parsed['text'].map(lambda x : lepen_dict[x].get(emote.title(),0.0))"
   ]
  },
  {
   "cell_type": "code",
   "execution_count": 30,
   "metadata": {
    "collapsed": false
   },
   "outputs": [
    {
     "data": {
      "text/html": [
       "<div>\n",
       "<table border=\"1\" class=\"dataframe\">\n",
       "  <thead>\n",
       "    <tr style=\"text-align: right;\">\n",
       "      <th></th>\n",
       "      <th>joy</th>\n",
       "      <th>anger</th>\n",
       "      <th>fear</th>\n",
       "      <th>sadness</th>\n",
       "      <th>disgust</th>\n",
       "    </tr>\n",
       "  </thead>\n",
       "  <tbody>\n",
       "    <tr>\n",
       "      <th>count</th>\n",
       "      <td>239.000000</td>\n",
       "      <td>239.000000</td>\n",
       "      <td>239.000000</td>\n",
       "      <td>239.000000</td>\n",
       "      <td>239.000000</td>\n",
       "    </tr>\n",
       "    <tr>\n",
       "      <th>mean</th>\n",
       "      <td>0.265535</td>\n",
       "      <td>0.198189</td>\n",
       "      <td>0.220312</td>\n",
       "      <td>0.225838</td>\n",
       "      <td>0.125129</td>\n",
       "    </tr>\n",
       "    <tr>\n",
       "      <th>std</th>\n",
       "      <td>0.203124</td>\n",
       "      <td>0.147702</td>\n",
       "      <td>0.228768</td>\n",
       "      <td>0.157149</td>\n",
       "      <td>0.120666</td>\n",
       "    </tr>\n",
       "    <tr>\n",
       "      <th>min</th>\n",
       "      <td>0.000000</td>\n",
       "      <td>0.000000</td>\n",
       "      <td>0.000000</td>\n",
       "      <td>0.000000</td>\n",
       "      <td>0.000000</td>\n",
       "    </tr>\n",
       "    <tr>\n",
       "      <th>25%</th>\n",
       "      <td>0.087012</td>\n",
       "      <td>0.093048</td>\n",
       "      <td>0.078977</td>\n",
       "      <td>0.108020</td>\n",
       "      <td>0.042467</td>\n",
       "    </tr>\n",
       "    <tr>\n",
       "      <th>50%</th>\n",
       "      <td>0.225105</td>\n",
       "      <td>0.159921</td>\n",
       "      <td>0.139709</td>\n",
       "      <td>0.185714</td>\n",
       "      <td>0.081719</td>\n",
       "    </tr>\n",
       "    <tr>\n",
       "      <th>75%</th>\n",
       "      <td>0.407288</td>\n",
       "      <td>0.256494</td>\n",
       "      <td>0.226513</td>\n",
       "      <td>0.318936</td>\n",
       "      <td>0.159327</td>\n",
       "    </tr>\n",
       "    <tr>\n",
       "      <th>max</th>\n",
       "      <td>0.832510</td>\n",
       "      <td>0.846985</td>\n",
       "      <td>0.947475</td>\n",
       "      <td>0.787171</td>\n",
       "      <td>0.680355</td>\n",
       "    </tr>\n",
       "  </tbody>\n",
       "</table>\n",
       "</div>"
      ],
      "text/plain": [
       "              joy       anger        fear     sadness     disgust\n",
       "count  239.000000  239.000000  239.000000  239.000000  239.000000\n",
       "mean     0.265535    0.198189    0.220312    0.225838    0.125129\n",
       "std      0.203124    0.147702    0.228768    0.157149    0.120666\n",
       "min      0.000000    0.000000    0.000000    0.000000    0.000000\n",
       "25%      0.087012    0.093048    0.078977    0.108020    0.042467\n",
       "50%      0.225105    0.159921    0.139709    0.185714    0.081719\n",
       "75%      0.407288    0.256494    0.226513    0.318936    0.159327\n",
       "max      0.832510    0.846985    0.947475    0.787171    0.680355"
      ]
     },
     "execution_count": 30,
     "metadata": {},
     "output_type": "execute_result"
    }
   ],
   "source": [
    "lepen_parsed.describe()\n",
    "#lepen_parsed.head()"
   ]
  },
  {
   "cell_type": "code",
   "execution_count": 31,
   "metadata": {
    "collapsed": true
   },
   "outputs": [],
   "source": [
    "macron_parsed = pd.DataFrame()\n",
    "macron_parsed[\"text\"]=list(macron)\n",
    "macron_parsed\n",
    "\n",
    "macron_dict = {}\n",
    "\n",
    "for index, row in macron_parsed.iterrows(): \n",
    "    response = tone_analyzer.tone(text=row[\"text\"])\n",
    "    macron_dict[row[0]]=parse_toneanalyzer_response(response)"
   ]
  },
  {
   "cell_type": "code",
   "execution_count": 32,
   "metadata": {
    "collapsed": false
   },
   "outputs": [
    {
     "data": {
      "text/html": [
       "<div>\n",
       "<table border=\"1\" class=\"dataframe\">\n",
       "  <thead>\n",
       "    <tr style=\"text-align: right;\">\n",
       "      <th></th>\n",
       "      <th>joy</th>\n",
       "      <th>anger</th>\n",
       "      <th>fear</th>\n",
       "      <th>sadness</th>\n",
       "      <th>disgust</th>\n",
       "    </tr>\n",
       "  </thead>\n",
       "  <tbody>\n",
       "    <tr>\n",
       "      <th>count</th>\n",
       "      <td>113.000000</td>\n",
       "      <td>113.000000</td>\n",
       "      <td>113.000000</td>\n",
       "      <td>113.000000</td>\n",
       "      <td>113.000000</td>\n",
       "    </tr>\n",
       "    <tr>\n",
       "      <th>mean</th>\n",
       "      <td>0.283225</td>\n",
       "      <td>0.183151</td>\n",
       "      <td>0.176232</td>\n",
       "      <td>0.259235</td>\n",
       "      <td>0.135305</td>\n",
       "    </tr>\n",
       "    <tr>\n",
       "      <th>std</th>\n",
       "      <td>0.251851</td>\n",
       "      <td>0.152070</td>\n",
       "      <td>0.200202</td>\n",
       "      <td>0.197699</td>\n",
       "      <td>0.128246</td>\n",
       "    </tr>\n",
       "    <tr>\n",
       "      <th>min</th>\n",
       "      <td>0.004074</td>\n",
       "      <td>0.005711</td>\n",
       "      <td>0.008198</td>\n",
       "      <td>0.003323</td>\n",
       "      <td>0.000478</td>\n",
       "    </tr>\n",
       "    <tr>\n",
       "      <th>25%</th>\n",
       "      <td>0.077776</td>\n",
       "      <td>0.068383</td>\n",
       "      <td>0.062140</td>\n",
       "      <td>0.114420</td>\n",
       "      <td>0.047188</td>\n",
       "    </tr>\n",
       "    <tr>\n",
       "      <th>50%</th>\n",
       "      <td>0.170792</td>\n",
       "      <td>0.149392</td>\n",
       "      <td>0.104692</td>\n",
       "      <td>0.196247</td>\n",
       "      <td>0.091471</td>\n",
       "    </tr>\n",
       "    <tr>\n",
       "      <th>75%</th>\n",
       "      <td>0.467430</td>\n",
       "      <td>0.251022</td>\n",
       "      <td>0.193768</td>\n",
       "      <td>0.351803</td>\n",
       "      <td>0.180845</td>\n",
       "    </tr>\n",
       "    <tr>\n",
       "      <th>max</th>\n",
       "      <td>0.896510</td>\n",
       "      <td>0.902728</td>\n",
       "      <td>0.883096</td>\n",
       "      <td>0.828449</td>\n",
       "      <td>0.638940</td>\n",
       "    </tr>\n",
       "  </tbody>\n",
       "</table>\n",
       "</div>"
      ],
      "text/plain": [
       "              joy       anger        fear     sadness     disgust\n",
       "count  113.000000  113.000000  113.000000  113.000000  113.000000\n",
       "mean     0.283225    0.183151    0.176232    0.259235    0.135305\n",
       "std      0.251851    0.152070    0.200202    0.197699    0.128246\n",
       "min      0.004074    0.005711    0.008198    0.003323    0.000478\n",
       "25%      0.077776    0.068383    0.062140    0.114420    0.047188\n",
       "50%      0.170792    0.149392    0.104692    0.196247    0.091471\n",
       "75%      0.467430    0.251022    0.193768    0.351803    0.180845\n",
       "max      0.896510    0.902728    0.883096    0.828449    0.638940"
      ]
     },
     "execution_count": 32,
     "metadata": {},
     "output_type": "execute_result"
    }
   ],
   "source": [
    "for emote in emotions:\n",
    "    macron_parsed[emote] = macron_parsed['text'].map(lambda x : macron_dict[x].get(emote.title(),0.0))\n",
    "\n",
    "macron_parsed.describe()"
   ]
  },
  {
   "cell_type": "code",
   "execution_count": 33,
   "metadata": {
    "collapsed": false
   },
   "outputs": [
    {
     "data": {
      "text/html": [
       "<div>\n",
       "<table border=\"1\" class=\"dataframe\">\n",
       "  <thead>\n",
       "    <tr style=\"text-align: right;\">\n",
       "      <th></th>\n",
       "      <th>text</th>\n",
       "      <th>joy</th>\n",
       "      <th>anger</th>\n",
       "      <th>fear</th>\n",
       "      <th>sadness</th>\n",
       "      <th>disgust</th>\n",
       "    </tr>\n",
       "  </thead>\n",
       "  <tbody>\n",
       "    <tr>\n",
       "      <th>0</th>\n",
       "      <td>Because people can be fn but not Mr macron whi...</td>\n",
       "      <td>0.080110</td>\n",
       "      <td>0.058960</td>\n",
       "      <td>0.097064</td>\n",
       "      <td>0.652181</td>\n",
       "      <td>0.324238</td>\n",
       "    </tr>\n",
       "    <tr>\n",
       "      <th>1</th>\n",
       "      <td>Marine pen already because we cetait and apper...</td>\n",
       "      <td>0.081467</td>\n",
       "      <td>0.479141</td>\n",
       "      <td>0.174325</td>\n",
       "      <td>0.365986</td>\n",
       "      <td>0.091424</td>\n",
       "    </tr>\n",
       "    <tr>\n",
       "      <th>2</th>\n",
       "      <td>My friend pence mele thing because the macron ...</td>\n",
       "      <td>0.008671</td>\n",
       "      <td>0.902728</td>\n",
       "      <td>0.071740</td>\n",
       "      <td>0.083339</td>\n",
       "      <td>0.184095</td>\n",
       "    </tr>\n",
       "    <tr>\n",
       "      <th>3</th>\n",
       "      <td>I think is because marine macron'll engulf Fra...</td>\n",
       "      <td>0.206444</td>\n",
       "      <td>0.056652</td>\n",
       "      <td>0.317604</td>\n",
       "      <td>0.240265</td>\n",
       "      <td>0.038021</td>\n",
       "    </tr>\n",
       "    <tr>\n",
       "      <th>4</th>\n",
       "      <td>Because macron is the best</td>\n",
       "      <td>0.896510</td>\n",
       "      <td>0.005711</td>\n",
       "      <td>0.008198</td>\n",
       "      <td>0.003323</td>\n",
       "      <td>0.000478</td>\n",
       "    </tr>\n",
       "  </tbody>\n",
       "</table>\n",
       "</div>"
      ],
      "text/plain": [
       "                                                text       joy     anger  \\\n",
       "0  Because people can be fn but not Mr macron whi...  0.080110  0.058960   \n",
       "1  Marine pen already because we cetait and apper...  0.081467  0.479141   \n",
       "2  My friend pence mele thing because the macron ...  0.008671  0.902728   \n",
       "3  I think is because marine macron'll engulf Fra...  0.206444  0.056652   \n",
       "4                         Because macron is the best  0.896510  0.005711   \n",
       "\n",
       "       fear   sadness   disgust  \n",
       "0  0.097064  0.652181  0.324238  \n",
       "1  0.174325  0.365986  0.091424  \n",
       "2  0.071740  0.083339  0.184095  \n",
       "3  0.317604  0.240265  0.038021  \n",
       "4  0.008198  0.003323  0.000478  "
      ]
     },
     "execution_count": 33,
     "metadata": {},
     "output_type": "execute_result"
    }
   ],
   "source": [
    "macron_parsed.head()"
   ]
  },
  {
   "cell_type": "code",
   "execution_count": 34,
   "metadata": {
    "collapsed": false
   },
   "outputs": [],
   "source": [
    "macron_parsed[\"person\"]=\"macron\"\n",
    "lepen_parsed[\"person\"]=\"lepen\""
   ]
  },
  {
   "cell_type": "markdown",
   "metadata": {},
   "source": [
    "Finally I merge the two DataFrames together by appending `lepen_parsed` to `macron_parsed`.  "
   ]
  },
  {
   "cell_type": "code",
   "execution_count": 35,
   "metadata": {
    "collapsed": false
   },
   "outputs": [
    {
     "data": {
      "text/html": [
       "<div>\n",
       "<table border=\"1\" class=\"dataframe\">\n",
       "  <thead>\n",
       "    <tr style=\"text-align: right;\">\n",
       "      <th></th>\n",
       "      <th>joy</th>\n",
       "      <th>anger</th>\n",
       "      <th>fear</th>\n",
       "      <th>sadness</th>\n",
       "      <th>disgust</th>\n",
       "    </tr>\n",
       "  </thead>\n",
       "  <tbody>\n",
       "    <tr>\n",
       "      <th>count</th>\n",
       "      <td>352.000000</td>\n",
       "      <td>352.000000</td>\n",
       "      <td>352.000000</td>\n",
       "      <td>352.000000</td>\n",
       "      <td>352.000000</td>\n",
       "    </tr>\n",
       "    <tr>\n",
       "      <th>mean</th>\n",
       "      <td>0.271214</td>\n",
       "      <td>0.193362</td>\n",
       "      <td>0.206161</td>\n",
       "      <td>0.236559</td>\n",
       "      <td>0.128396</td>\n",
       "    </tr>\n",
       "    <tr>\n",
       "      <th>std</th>\n",
       "      <td>0.219737</td>\n",
       "      <td>0.149067</td>\n",
       "      <td>0.220682</td>\n",
       "      <td>0.171641</td>\n",
       "      <td>0.123059</td>\n",
       "    </tr>\n",
       "    <tr>\n",
       "      <th>min</th>\n",
       "      <td>0.000000</td>\n",
       "      <td>0.000000</td>\n",
       "      <td>0.000000</td>\n",
       "      <td>0.000000</td>\n",
       "      <td>0.000000</td>\n",
       "    </tr>\n",
       "    <tr>\n",
       "      <th>25%</th>\n",
       "      <td>0.081467</td>\n",
       "      <td>0.085425</td>\n",
       "      <td>0.072688</td>\n",
       "      <td>0.110995</td>\n",
       "      <td>0.043169</td>\n",
       "    </tr>\n",
       "    <tr>\n",
       "      <th>50%</th>\n",
       "      <td>0.216312</td>\n",
       "      <td>0.157334</td>\n",
       "      <td>0.132298</td>\n",
       "      <td>0.189269</td>\n",
       "      <td>0.083485</td>\n",
       "    </tr>\n",
       "    <tr>\n",
       "      <th>75%</th>\n",
       "      <td>0.427152</td>\n",
       "      <td>0.255338</td>\n",
       "      <td>0.213533</td>\n",
       "      <td>0.336269</td>\n",
       "      <td>0.168040</td>\n",
       "    </tr>\n",
       "    <tr>\n",
       "      <th>max</th>\n",
       "      <td>0.896510</td>\n",
       "      <td>0.902728</td>\n",
       "      <td>0.947475</td>\n",
       "      <td>0.828449</td>\n",
       "      <td>0.680355</td>\n",
       "    </tr>\n",
       "  </tbody>\n",
       "</table>\n",
       "</div>"
      ],
      "text/plain": [
       "              joy       anger        fear     sadness     disgust\n",
       "count  352.000000  352.000000  352.000000  352.000000  352.000000\n",
       "mean     0.271214    0.193362    0.206161    0.236559    0.128396\n",
       "std      0.219737    0.149067    0.220682    0.171641    0.123059\n",
       "min      0.000000    0.000000    0.000000    0.000000    0.000000\n",
       "25%      0.081467    0.085425    0.072688    0.110995    0.043169\n",
       "50%      0.216312    0.157334    0.132298    0.189269    0.083485\n",
       "75%      0.427152    0.255338    0.213533    0.336269    0.168040\n",
       "max      0.896510    0.902728    0.947475    0.828449    0.680355"
      ]
     },
     "execution_count": 35,
     "metadata": {},
     "output_type": "execute_result"
    }
   ],
   "source": [
    "full_parsed=macron_parsed.append(lepen_parsed, ignore_index=True)\n",
    "full_parsed.describe()"
   ]
  },
  {
   "cell_type": "code",
   "execution_count": 36,
   "metadata": {
    "collapsed": false
   },
   "outputs": [
    {
     "data": {
      "text/html": [
       "<div>\n",
       "<table border=\"1\" class=\"dataframe\">\n",
       "  <thead>\n",
       "    <tr style=\"text-align: right;\">\n",
       "      <th></th>\n",
       "      <th>text</th>\n",
       "      <th>joy</th>\n",
       "      <th>anger</th>\n",
       "      <th>fear</th>\n",
       "      <th>sadness</th>\n",
       "      <th>disgust</th>\n",
       "      <th>person</th>\n",
       "    </tr>\n",
       "  </thead>\n",
       "  <tbody>\n",
       "    <tr>\n",
       "      <th>0</th>\n",
       "      <td>Because people can be fn but not Mr macron whi...</td>\n",
       "      <td>0.080110</td>\n",
       "      <td>0.058960</td>\n",
       "      <td>0.097064</td>\n",
       "      <td>0.652181</td>\n",
       "      <td>0.324238</td>\n",
       "      <td>macron</td>\n",
       "    </tr>\n",
       "    <tr>\n",
       "      <th>1</th>\n",
       "      <td>Marine pen already because we cetait and apper...</td>\n",
       "      <td>0.081467</td>\n",
       "      <td>0.479141</td>\n",
       "      <td>0.174325</td>\n",
       "      <td>0.365986</td>\n",
       "      <td>0.091424</td>\n",
       "      <td>macron</td>\n",
       "    </tr>\n",
       "    <tr>\n",
       "      <th>2</th>\n",
       "      <td>My friend pence mele thing because the macron ...</td>\n",
       "      <td>0.008671</td>\n",
       "      <td>0.902728</td>\n",
       "      <td>0.071740</td>\n",
       "      <td>0.083339</td>\n",
       "      <td>0.184095</td>\n",
       "      <td>macron</td>\n",
       "    </tr>\n",
       "    <tr>\n",
       "      <th>3</th>\n",
       "      <td>I think is because marine macron'll engulf Fra...</td>\n",
       "      <td>0.206444</td>\n",
       "      <td>0.056652</td>\n",
       "      <td>0.317604</td>\n",
       "      <td>0.240265</td>\n",
       "      <td>0.038021</td>\n",
       "      <td>macron</td>\n",
       "    </tr>\n",
       "    <tr>\n",
       "      <th>4</th>\n",
       "      <td>Because macron is the best</td>\n",
       "      <td>0.896510</td>\n",
       "      <td>0.005711</td>\n",
       "      <td>0.008198</td>\n",
       "      <td>0.003323</td>\n",
       "      <td>0.000478</td>\n",
       "      <td>macron</td>\n",
       "    </tr>\n",
       "  </tbody>\n",
       "</table>\n",
       "</div>"
      ],
      "text/plain": [
       "                                                text       joy     anger  \\\n",
       "0  Because people can be fn but not Mr macron whi...  0.080110  0.058960   \n",
       "1  Marine pen already because we cetait and apper...  0.081467  0.479141   \n",
       "2  My friend pence mele thing because the macron ...  0.008671  0.902728   \n",
       "3  I think is because marine macron'll engulf Fra...  0.206444  0.056652   \n",
       "4                         Because macron is the best  0.896510  0.005711   \n",
       "\n",
       "       fear   sadness   disgust  person  \n",
       "0  0.097064  0.652181  0.324238  macron  \n",
       "1  0.174325  0.365986  0.091424  macron  \n",
       "2  0.071740  0.083339  0.184095  macron  \n",
       "3  0.317604  0.240265  0.038021  macron  \n",
       "4  0.008198  0.003323  0.000478  macron  "
      ]
     },
     "execution_count": 36,
     "metadata": {},
     "output_type": "execute_result"
    }
   ],
   "source": [
    "full_parsed.head()"
   ]
  },
  {
   "cell_type": "markdown",
   "metadata": {},
   "source": [
    "Saving the work into a csv so we do not have to call the ToneAnalyzer API again: "
   ]
  },
  {
   "cell_type": "code",
   "execution_count": 37,
   "metadata": {
    "collapsed": true
   },
   "outputs": [],
   "source": [
    "full_parsed.to_csv('../data/survey2_fullyparsed.csv', sep=',', encoding='utf-8')"
   ]
  },
  {
   "cell_type": "markdown",
   "metadata": {},
   "source": [
    "# Analyzing the emotional tones\n",
    "\n",
    "First, I melt the data into a tidy dataset before using the seaborn library:"
   ]
  },
  {
   "cell_type": "code",
   "execution_count": 38,
   "metadata": {
    "collapsed": false
   },
   "outputs": [
    {
     "data": {
      "text/html": [
       "<div>\n",
       "<table border=\"1\" class=\"dataframe\">\n",
       "  <thead>\n",
       "    <tr style=\"text-align: right;\">\n",
       "      <th></th>\n",
       "      <th>text</th>\n",
       "      <th>person</th>\n",
       "      <th>variable</th>\n",
       "      <th>value</th>\n",
       "    </tr>\n",
       "  </thead>\n",
       "  <tbody>\n",
       "    <tr>\n",
       "      <th>0</th>\n",
       "      <td>Because people can be fn but not Mr macron whi...</td>\n",
       "      <td>macron</td>\n",
       "      <td>joy</td>\n",
       "      <td>0.080110</td>\n",
       "    </tr>\n",
       "    <tr>\n",
       "      <th>1</th>\n",
       "      <td>Marine pen already because we cetait and apper...</td>\n",
       "      <td>macron</td>\n",
       "      <td>joy</td>\n",
       "      <td>0.081467</td>\n",
       "    </tr>\n",
       "    <tr>\n",
       "      <th>2</th>\n",
       "      <td>My friend pence mele thing because the macron ...</td>\n",
       "      <td>macron</td>\n",
       "      <td>joy</td>\n",
       "      <td>0.008671</td>\n",
       "    </tr>\n",
       "    <tr>\n",
       "      <th>3</th>\n",
       "      <td>I think is because marine macron'll engulf Fra...</td>\n",
       "      <td>macron</td>\n",
       "      <td>joy</td>\n",
       "      <td>0.206444</td>\n",
       "    </tr>\n",
       "    <tr>\n",
       "      <th>4</th>\n",
       "      <td>Because macron is the best</td>\n",
       "      <td>macron</td>\n",
       "      <td>joy</td>\n",
       "      <td>0.896510</td>\n",
       "    </tr>\n",
       "  </tbody>\n",
       "</table>\n",
       "</div>"
      ],
      "text/plain": [
       "                                                text  person variable  \\\n",
       "0  Because people can be fn but not Mr macron whi...  macron      joy   \n",
       "1  Marine pen already because we cetait and apper...  macron      joy   \n",
       "2  My friend pence mele thing because the macron ...  macron      joy   \n",
       "3  I think is because marine macron'll engulf Fra...  macron      joy   \n",
       "4                         Because macron is the best  macron      joy   \n",
       "\n",
       "      value  \n",
       "0  0.080110  \n",
       "1  0.081467  \n",
       "2  0.008671  \n",
       "3  0.206444  \n",
       "4  0.896510  "
      ]
     },
     "execution_count": 38,
     "metadata": {},
     "output_type": "execute_result"
    }
   ],
   "source": [
    "full_parsed_melted=pd.melt(full_parsed, id_vars=[\"text\",\"person\"])\n",
    "full_parsed_melted.head()"
   ]
  },
  {
   "cell_type": "markdown",
   "metadata": {},
   "source": [
    "##### Visualizing the distribution of emotions for Le Pen and Macron"
   ]
  },
  {
   "cell_type": "code",
   "execution_count": 49,
   "metadata": {
    "collapsed": false
   },
   "outputs": [
    {
     "data": {
      "image/png": "[encoded data removed]",
      "text/plain": [
       "<matplotlib.figure.Figure at 0x11d9bda20>"
      ]
     },
     "metadata": {},
     "output_type": "display_data"
    }
   ],
   "source": [
    "chart = sns.swarmplot(data=full_parsed_melted, x=\"variable\",\\\n",
    "              y=\"value\", hue=\"person\", palette=\"Set2\",split=True)"
   ]
  },
  {
   "cell_type": "markdown",
   "metadata": {},
   "source": [
    "Hard to tell anything from this swarm plot, which does not account for the difference in sizes of the two series, so we try a more traditional box-and-whiskers plot instead. "
   ]
  },
  {
   "cell_type": "code",
   "execution_count": 50,
   "metadata": {
    "collapsed": false
   },
   "outputs": [
    {
     "data": {
      "image/png": "[encoded data removed]",
      "text/plain": [
       "<matplotlib.figure.Figure at 0x1202b2ef0>"
      ]
     },
     "metadata": {},
     "output_type": "display_data"
    }
   ],
   "source": [
    "chart = sns.boxplot(data=full_parsed_melted, x=\"variable\",\\\n",
    "              y=\"value\", hue=\"person\", palette=\"Set2\")\n",
    "#chart = sns.swarmplot(data=full_parsed_melted, x=\"variable\",\\\n",
    "#              y=\"value\", hue=\"person\", palette=\"Set2\",split=True)"
   ]
  },
  {
   "cell_type": "markdown",
   "metadata": {},
   "source": [
    "Interesting -- From the box-plots it looks like the mean of the emotions are the same across the board, with perhaps the exception of joy. Lots of outliers on fear and disgust. \n",
    "\n",
    "I run the **Kolmogorov-Smirnov test** to compare the distributions of the emotion values between Le Pen and Macron. I choose this test because \n",
    "* you don't need your data to be normally distributed, \n",
    "* you don't have to have the same total number of points in either distributions and \n",
    "* the means (average) look pretty close to begin with, and I am interested in the entire distribution on [0,1]."
   ]
  },
  {
   "cell_type": "code",
   "execution_count": 41,
   "metadata": {
    "collapsed": true
   },
   "outputs": [],
   "source": [
    "from scipy import stats\n",
    "\n",
    "def cdf(series):\n",
    "\n",
    "    ser = pd.Series(series)\n",
    "    ser = ser.sort_values()\n",
    "    ser[len(ser)] = ser.iloc[-1]\n",
    "    cum_dist = np.linspace(0.,1.,len(ser))\n",
    "    ser_cdf = pd.Series(cum_dist, index=ser)\n",
    "    return ser_cdf.plot(drawstyle='steps', label=series.name)\n",
    "    \n",
    "#code adapted from https://stackoverflow.com/questions/25577352/plotting-cdf-of-a-pandas-series-in-python"
   ]
  },
  {
   "cell_type": "markdown",
   "metadata": {},
   "source": [
    "Above, I set up a CDF plot function, cdf(), so we can compare the distributions visually to accompany the results of the KS test. \n",
    "\n",
    "In the graphs that follow, I write a function to fix the legends correctly."
   ]
  },
  {
   "cell_type": "code",
   "execution_count": 42,
   "metadata": {
    "collapsed": true
   },
   "outputs": [],
   "source": [
    "#write a function to fix the legend properly: \n",
    "\n",
    "def jointplot(macron,lepen):\n",
    "    macronplot=cdf(macron)\n",
    "    lepenplot=cdf(lepen)\n",
    "    plt.legend([\"Macron\",\"Le Pen\"])\n",
    "    print(stats.ks_2samp(macron,lepen))"
   ]
  },
  {
   "cell_type": "code",
   "execution_count": 43,
   "metadata": {
    "collapsed": false
   },
   "outputs": [
    {
     "name": "stdout",
     "output_type": "stream",
     "text": [
      "Ks_2sampResult(statistic=0.090902358647757975, pvalue=0.53072149215508768)\n"
     ]
    },
    {
     "data": {
      "image/png": "[encoded data removed]",
      "text/plain": [
       "<matplotlib.figure.Figure at 0x11d317e10>"
      ]
     },
     "metadata": {},
     "output_type": "display_data"
    }
   ],
   "source": [
    "jointplot(macron_parsed.joy,lepen_parsed.joy)"
   ]
  },
  {
   "cell_type": "code",
   "execution_count": 44,
   "metadata": {
    "collapsed": false,
    "scrolled": false
   },
   "outputs": [
    {
     "name": "stdout",
     "output_type": "stream",
     "text": [
      "Ks_2sampResult(statistic=0.11178583330247716, pvalue=0.27651099408513186)\n"
     ]
    },
    {
     "data": {
      "image/png": "[encoded data removed]",
      "text/plain": [
       "<matplotlib.figure.Figure at 0x11d3bff28>"
      ]
     },
     "metadata": {},
     "output_type": "display_data"
    }
   ],
   "source": [
    "jointplot(macron_parsed.anger,lepen_parsed.anger)"
   ]
  },
  {
   "cell_type": "code",
   "execution_count": 45,
   "metadata": {
    "collapsed": false,
    "scrolled": true
   },
   "outputs": [
    {
     "name": "stdout",
     "output_type": "stream",
     "text": [
      "Ks_2sampResult(statistic=0.15714444403302846, pvalue=0.040286278784689836)\n"
     ]
    },
    {
     "data": {
      "image/png": "[encoded data removed]",
      "text/plain": [
       "<matplotlib.figure.Figure at 0x11d42b438>"
      ]
     },
     "metadata": {},
     "output_type": "display_data"
    }
   ],
   "source": [
    "jointplot(macron_parsed.fear,lepen_parsed.fear)"
   ]
  },
  {
   "cell_type": "markdown",
   "metadata": {},
   "source": [
    "**The above result for the Kolmogorov-Smirnov test is significant at $\\alpha$ = 5%.**"
   ]
  },
  {
   "cell_type": "code",
   "execution_count": 46,
   "metadata": {
    "collapsed": false
   },
   "outputs": [
    {
     "name": "stdout",
     "output_type": "stream",
     "text": [
      "Ks_2sampResult(statistic=0.076387603213981525, pvalue=0.74548509529949614)\n"
     ]
    },
    {
     "data": {
      "image/png": "[encoded data removed]",
      "text/plain": [
       "<matplotlib.figure.Figure at 0x11d7447f0>"
      ]
     },
     "metadata": {},
     "output_type": "display_data"
    }
   ],
   "source": [
    "jointplot(macron_parsed.sadness,lepen_parsed.sadness)"
   ]
  },
  {
   "cell_type": "code",
   "execution_count": 47,
   "metadata": {
    "collapsed": false
   },
   "outputs": [
    {
     "name": "stdout",
     "output_type": "stream",
     "text": [
      "Ks_2sampResult(statistic=0.075091642907394451, pvalue=0.76410862573107663)\n"
     ]
    },
    {
     "data": {
      "image/png": "[encoded data removed]",
      "text/plain": [
       "<matplotlib.figure.Figure at 0x11d956d30>"
      ]
     },
     "metadata": {},
     "output_type": "display_data"
    }
   ],
   "source": [
    "jointplot(macron_parsed.disgust,lepen_parsed.disgust)"
   ]
  },
  {
   "cell_type": "markdown",
   "metadata": {
    "collapsed": false
   },
   "source": [
    "Out of the five Kolmogorov-Smirnov tests above, it looks like the distribution of fear for Le Pen and Macron are drawn from different distributions. From the CDF's, we can see that **fear is an emotion that gets invoked more when Le Pen is mentioned**.  With a p-value of 4%, this is statistically significant where $\\alpha$ = 5%. "
   ]
  }
 ],
 "metadata": {
  "kernelspec": {
   "display_name": "Python 3",
   "language": "python",
   "name": "python3"
  },
  "language_info": {
   "codemirror_mode": {
    "name": "ipython",
    "version": 3
   },
   "file_extension": ".py",
   "mimetype": "text/x-python",
   "name": "python",
   "nbconvert_exporter": "python",
   "pygments_lexer": "ipython3",
   "version": "3.6.0"
  }
 },
 "nbformat": 4,
 "nbformat_minor": 2
}
